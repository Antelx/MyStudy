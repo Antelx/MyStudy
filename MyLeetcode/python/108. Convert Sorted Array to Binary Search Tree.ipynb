{
 "cells": [
  {
   "cell_type": "code",
   "execution_count": 1,
   "metadata": {},
   "outputs": [
    {
     "name": "stdout",
     "output_type": "stream",
     "text": [
      "0\n",
      "-3\n",
      "-10\n",
      "9\n",
      "5\n"
     ]
    }
   ],
   "source": [
    "# Definition for a binary tree node.\n",
    "class TreeNode:\n",
    "    def __init__(self, x):\n",
    "        self.val = x\n",
    "        self.left = None\n",
    "        self.right = None\n",
    "\n",
    "class Solution:\n",
    "    def sortedArrayToBST(self, nums):\n",
    "        if len(nums) == 0:\n",
    "            return None\n",
    "        p = len(nums) // 2\n",
    "        node = TreeNode(nums[p])\n",
    "        node.left = self.sortedArrayToBST(nums[:p])\n",
    "        node.right = self.sortedArrayToBST(nums[p+1:])\n",
    "        return node\n",
    "        \n",
    "        \n",
    "nums = [-10,-3,0,5,9]\n",
    "sol = Solution()\n",
    "root = sol.sortedArrayToBST(nums)\n",
    "def tran(node):\n",
    "    if node == None:\n",
    "        return\n",
    "    print(node.val)\n",
    "    tran(node.left)\n",
    "    tran(node.right)\n",
    "tran(root)"
   ]
  },
  {
   "cell_type": "code",
   "execution_count": 2,
   "metadata": {},
   "outputs": [],
   "source": [
    "# Given an array where elements are sorted in ascending order, convert it to a height balanced BST.\n",
    "\n",
    "# For this problem, a height-balanced binary tree is defined as a binary tree in which the depth of the two subtrees of every node never differ by more than 1.\n",
    "\n",
    "# Example:\n",
    "\n",
    "# Given the sorted array: [-10,-3,0,5,9],\n",
    "\n",
    "# One possible answer is: [0,-3,9,-10,null,5], which represents the following height balanced BST:\n",
    "\n",
    "#       0\n",
    "#      / \\\n",
    "#    -3   9\n",
    "#    /   /\n",
    "#  -10  5"
   ]
  }
 ],
 "metadata": {
  "kernelspec": {
   "display_name": "Python 3",
   "language": "python",
   "name": "python3"
  },
  "language_info": {
   "codemirror_mode": {
    "name": "ipython",
    "version": 3
   },
   "file_extension": ".py",
   "mimetype": "text/x-python",
   "name": "python",
   "nbconvert_exporter": "python",
   "pygments_lexer": "ipython3",
   "version": "3.7.1"
  }
 },
 "nbformat": 4,
 "nbformat_minor": 2
}
