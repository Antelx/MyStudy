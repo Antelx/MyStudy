{
 "cells": [
  {
   "cell_type": "raw",
   "metadata": {},
   "source": [
    "没啥可说的，感觉写的很蠢"
   ]
  },
  {
   "cell_type": "code",
   "execution_count": 1,
   "metadata": {},
   "outputs": [
    {
     "name": "stdout",
     "output_type": "stream",
     "text": [
      "4\n"
     ]
    }
   ],
   "source": [
    "# Definition for a binary tree node.\n",
    "class TreeNode:\n",
    "    def __init__(self, x, l= None, r= None):\n",
    "        self.val = x\n",
    "        self.left = l\n",
    "        self.right = r\n",
    "class Solution:\n",
    "    def __init__(self):\n",
    "        self.p = 0\n",
    "        self.r = []\n",
    "        self.r2 = []\n",
    "    def widthOfBinaryTree(self, root):\n",
    "        def fun(node, v):\n",
    "            if node == None:\n",
    "                self.p -= 1\n",
    "                return\n",
    "            if len(self.r) > self.p:\n",
    "                self.r[self.p] = min(self.r[self.p], v)\n",
    "            else:\n",
    "                self.r.append(v)\n",
    "            self.p += 1\n",
    "            fun(node.left, 2*v-1)\n",
    "            self.p += 1\n",
    "            fun(node.right, 2*v)\n",
    "            self.p -= 1\n",
    "        def fun2(node, v):\n",
    "            if node == None:\n",
    "                self.p -= 1\n",
    "                return\n",
    "            if len(self.r2) > self.p:\n",
    "                self.r2[self.p] = max(self.r2[self.p], v)\n",
    "            else:\n",
    "                self.r2.append(v)\n",
    "            self.p += 1\n",
    "            fun2(node.left, 2*v-1)\n",
    "            self.p += 1\n",
    "            fun2(node.right, 2*v)\n",
    "            self.p -= 1\n",
    "            \n",
    "        fun(root,1)\n",
    "        self.p = 0\n",
    "        fun2(root,1)\n",
    "        res = 0\n",
    "        for i in range(min(len(self.r), len(self.r2))):\n",
    "            res = max(self.r2[i] - self.r[i] +1 , res)\n",
    "        return res\n",
    "                \n",
    "root = TreeNode(1,TreeNode(3,TreeNode(5),TreeNode(3)),TreeNode(2,None,TreeNode(9)))\n",
    "sol = Solution()\n",
    "print(sol.widthOfBinaryTree(root))   "
   ]
  },
  {
   "cell_type": "code",
   "execution_count": 2,
   "metadata": {},
   "outputs": [
    {
     "name": "stdout",
     "output_type": "stream",
     "text": [
      "4\n"
     ]
    }
   ],
   "source": [
    "# Definition for a binary tree node.\n",
    "class TreeNode:\n",
    "    def __init__(self, x, l= None, r= None):\n",
    "        self.val = x\n",
    "        self.left = l\n",
    "        self.right = r\n",
    "class Solution:\n",
    "    def __init__(self):\n",
    "        self.res = 0\n",
    "    def widthOfBinaryTree(self, root):\n",
    "        def fun(nl, nr, vl, vr):\n",
    "            if nl == None or nr == None:\n",
    "                return\n",
    "            self.res = max(vr-vl+1, self.res)\n",
    "            fun(nl.left, nr.left, vl*2-1, vr*2-1)\n",
    "            fun(nl.left, nr.right, vl*2-1, vr*2)\n",
    "            fun(nl.right, nr.left, vl*2, vr*2-1)\n",
    "            fun(nl.right, nr.right, vl*2, vr*2)\n",
    "        fun(root, root, 1, 1)\n",
    "        return self.res\n",
    "                \n",
    "root = TreeNode(1,TreeNode(3,TreeNode(5),TreeNode(3)),TreeNode(2,None,TreeNode(9)))\n",
    "sol = Solution()\n",
    "print(sol.widthOfBinaryTree(root))   "
   ]
  },
  {
   "cell_type": "code",
   "execution_count": null,
   "metadata": {},
   "outputs": [],
   "source": [
    "#            1\n",
    "#          /   \\\n",
    "#         3     2\n",
    "#        / \\     \\  \n",
    "#       5   3     9 \n"
   ]
  },
  {
   "cell_type": "code",
   "execution_count": null,
   "metadata": {},
   "outputs": [],
   "source": [
    "# Given a binary tree, write a function to get the maximum width of the given tree. The width of a tree is the maximum width among all levels. The binary tree has the same structure as a full binary tree, but some nodes are null.\n",
    "\n",
    "# The width of one level is defined as the length between the end-nodes (the leftmost and right most non-null nodes in the level, where the null nodes between the end-nodes are also counted into the length calculation.\n",
    "\n",
    "# Example 1:\n",
    "\n",
    "# Input: \n",
    "\n",
    "#            1\n",
    "#          /   \\\n",
    "#         3     2\n",
    "#        / \\     \\  \n",
    "#       5   3     9 \n",
    "\n",
    "# Output: 4\n",
    "# Explanation: The maximum width existing in the third level with the length 4 (5,3,null,9).\n",
    "# Example 2:\n",
    "\n",
    "# Input: \n",
    "\n",
    "#           1\n",
    "#          /  \n",
    "#         3    \n",
    "#        / \\       \n",
    "#       5   3     \n",
    "\n",
    "# Output: 2\n",
    "# Explanation: The maximum width existing in the third level with the length 2 (5,3).\n",
    "# Example 3:\n",
    "\n",
    "# Input: \n",
    "\n",
    "#           1\n",
    "#          / \\\n",
    "#         3   2 \n",
    "#        /        \n",
    "#       5      \n",
    "\n",
    "# Output: 2\n",
    "# Explanation: The maximum width existing in the second level with the length 2 (3,2).\n",
    "# Example 4:\n",
    "\n",
    "# Input: \n",
    "\n",
    "#           1\n",
    "#          / \\\n",
    "#         3   2\n",
    "#        /     \\  \n",
    "#       5       9 \n",
    "#      /         \\\n",
    "#     6           7\n",
    "# Output: 8\n",
    "# Explanation:The maximum width existing in the fourth level with the length 8 (6,null,null,null,null,null,null,7).\n"
   ]
  }
 ],
 "metadata": {
  "kernelspec": {
   "display_name": "Python 3",
   "language": "python",
   "name": "python3"
  },
  "language_info": {
   "codemirror_mode": {
    "name": "ipython",
    "version": 3
   },
   "file_extension": ".py",
   "mimetype": "text/x-python",
   "name": "python",
   "nbconvert_exporter": "python",
   "pygments_lexer": "ipython3",
   "version": "3.7.1"
  }
 },
 "nbformat": 4,
 "nbformat_minor": 2
}
