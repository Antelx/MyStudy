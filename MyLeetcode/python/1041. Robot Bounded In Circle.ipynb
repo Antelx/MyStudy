{
 "cells": [
  {
   "cell_type": "code",
   "execution_count": 1,
   "metadata": {},
   "outputs": [
    {
     "data": {
      "text/plain": [
       "True"
      ]
     },
     "execution_count": 1,
     "metadata": {},
     "output_type": "execute_result"
    }
   ],
   "source": [
    "class Solution:\n",
    "    def isRobotBounded(self, instructions):\n",
    "        d = [0,1]\n",
    "        s = [0,0]\n",
    "        for i in instructions:\n",
    "            if i == \"G\":\n",
    "                s[0] += d[0]\n",
    "                s[1] += d[1]\n",
    "            elif i == \"L\":\n",
    "                d[0], d[1] = -d[1], d[0]\n",
    "            elif i == \"R\":\n",
    "                d[0], d[1] =  d[1], -d[0]\n",
    "        if s != [0,0] and d == [0,1]:\n",
    "            return False\n",
    "        else:\n",
    "            return True\n",
    "        \n",
    "instructions = \"GL\"\n",
    "sol = Solution()\n",
    "sol.isRobotBounded(instructions)"
   ]
  },
  {
   "cell_type": "code",
   "execution_count": 2,
   "metadata": {},
   "outputs": [
    {
     "name": "stdout",
     "output_type": "stream",
     "text": [
      "['G', 'L', 'G', 'R', 'L', 'L', 'G', 'L', 'L', 'L', 'L', 'G', 'R', 'G', 'L', 'G', 'G', 'L', 'G', 'G']\n",
      "[-3, -3] [0, -1]\n"
     ]
    },
    {
     "data": {
      "image/png": "[encoded data removed]",
      "text/plain": [
       "<Figure size 432x288 with 1 Axes>"
      ]
     },
     "metadata": {
      "needs_background": "light"
     },
     "output_type": "display_data"
    }
   ],
   "source": [
    "import matplotlib.pyplot as plt\n",
    "%matplotlib inline\n",
    "import random\n",
    "def draw(instructions):\n",
    "    routeX = []\n",
    "    routeY = []\n",
    "    d = [0,1]\n",
    "    s = [0,0]\n",
    "    for i in instructions:\n",
    "        if i == \"G\":\n",
    "            s[0] += d[0]\n",
    "            s[1] += d[1]\n",
    "        elif i == \"L\":\n",
    "            d[0], d[1] = -d[1], d[0]\n",
    "        elif i == \"R\":\n",
    "            d[0], d[1] =  d[1], -d[0]\n",
    "        routeX.append(s[0])\n",
    "        routeY.append(s[1])\n",
    "    print(s,d)\n",
    "    plt.plot(routeX, routeY)\n",
    "instructions = [[\"G\",\"G\",\"G\",\"L\",\"L\",\"R\"][random.randint(0,5)] for _ in range(20)]\n",
    "print(instructions)\n",
    "draw(instructions*30)"
   ]
  },
  {
   "cell_type": "code",
   "execution_count": 3,
   "metadata": {},
   "outputs": [],
   "source": [
    "# On an infinite plane, a robot initially stands at (0, 0) and faces north.  The robot can receive one of three instructions:\n",
    "\n",
    "# \"G\": go straight 1 unit;\n",
    "# \"L\": turn 90 degrees to the left;\n",
    "# \"R\": turn 90 degress to the right.\n",
    "# The robot performs the instructions given in order, and repeats them forever.\n",
    "\n",
    "# Return true if and only if there exists a circle in the plane such that the robot never leaves the circle.\n",
    "\n",
    " \n",
    "\n",
    "# Example 1:\n",
    "\n",
    "# Input: \"GGLLGG\"\n",
    "# Output: true\n",
    "# Explanation: \n",
    "# The robot moves from (0,0) to (0,2), turns 180 degrees, and then returns to (0,0).\n",
    "# When repeating these instructions, the robot remains in the circle of radius 2 centered at the origin.\n",
    "# Example 2:\n",
    "\n",
    "# Input: \"GG\"\n",
    "# Output: false\n",
    "# Explanation: \n",
    "# The robot moves north indefinitely.\n",
    "# Example 3:\n",
    "\n",
    "# Input: \"GL\"\n",
    "# Output: true\n",
    "# Explanation: \n",
    "# The robot moves from (0, 0) -> (0, 1) -> (-1, 1) -> (-1, 0) -> (0, 0) -> ...\n",
    " \n",
    "\n",
    "# Note:\n",
    "\n",
    "# 1 <= instructions.length <= 100\n",
    "# instructions[i] is in {'G', 'L', 'R'}"
   ]
  }
 ],
 "metadata": {
  "kernelspec": {
   "display_name": "Python 3",
   "language": "python",
   "name": "python3"
  },
  "language_info": {
   "codemirror_mode": {
    "name": "ipython",
    "version": 3
   },
   "file_extension": ".py",
   "mimetype": "text/x-python",
   "name": "python",
   "nbconvert_exporter": "python",
   "pygments_lexer": "ipython3",
   "version": "3.7.1"
  }
 },
 "nbformat": 4,
 "nbformat_minor": 2
}
