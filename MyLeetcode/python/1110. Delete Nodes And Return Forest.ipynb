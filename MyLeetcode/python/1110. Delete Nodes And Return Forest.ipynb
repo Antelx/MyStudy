{
 "cells": [
  {
   "cell_type": "code",
   "execution_count": 1,
   "metadata": {},
   "outputs": [
    {
     "name": "stdout",
     "output_type": "stream",
     "text": [
      "[1, 4, 6, 7]\n"
     ]
    }
   ],
   "source": [
    "# Definition for a binary tree node.\n",
    "class TreeNode:\n",
    "    def __init__(self, x, l= None, r= None):\n",
    "        self.val = x\n",
    "        self.left = l\n",
    "        self.right = r\n",
    "\n",
    "class Solution:\n",
    "    def __init__(self):\n",
    "        self.res = []\n",
    "    def delNodes(self, root, to_delete):\n",
    "        if root:\n",
    "            if root.val not in to_delete:\n",
    "                self.res.append(root)\n",
    "        else:\n",
    "            return []\n",
    "        def fun(node):\n",
    "            if node == None:\n",
    "                return\n",
    "            if node.val in to_delete:\n",
    "                if node.left:\n",
    "                    if node.left.val not in to_delete:\n",
    "                        self.res.append(node.left)\n",
    "                if node.right:\n",
    "                    if node.right.val not in to_delete:\n",
    "                        self.res.append(node.right)\n",
    "            fun(node.left)\n",
    "            fun(node.right)\n",
    "            if node.left:\n",
    "                if node.left.val in to_delete:\n",
    "                    node.left = None\n",
    "            if node.right:\n",
    "                if node.right.val in to_delete:\n",
    "                    node.right = None\n",
    "        fun(root)\n",
    "        return self.res\n",
    "\n",
    "sol = Solution()\n",
    "root = TreeNode(1,TreeNode(2,TreeNode(4),TreeNode(5)),TreeNode(3,TreeNode(6),TreeNode(7)))\n",
    "print([i.val for i in sol.delNodes(root, [2,3,5])])\n",
    "        "
   ]
  },
  {
   "cell_type": "code",
   "execution_count": null,
   "metadata": {},
   "outputs": [],
   "source": [
    "# Given the root of a binary tree, each node in the tree has a distinct value.\n",
    "\n",
    "# After deleting all nodes with a value in to_delete, we are left with a forest (a disjoint union of trees).\n",
    "\n",
    "# Return the roots of the trees in the remaining forest.  You may return the result in any order.\n",
    "\n",
    " \n",
    "\n",
    "# Example 1:\n",
    "\n",
    "\n",
    "\n",
    "# Input: root = [1,2,3,4,5,6,7], to_delete = [3,5]\n",
    "# Output: [[1,2,null,4],[6],[7]]\n",
    " \n",
    "\n",
    "# Constraints:\n",
    "\n",
    "# The number of nodes in the given tree is at most 1000.\n",
    "# Each node has a distinct value between 1 and 1000.\n",
    "# to_delete.length <= 1000\n",
    "# to_delete contains distinct values between 1 and 1000."
   ]
  }
 ],
 "metadata": {
  "kernelspec": {
   "display_name": "Python 3",
   "language": "python",
   "name": "python3"
  },
  "language_info": {
   "codemirror_mode": {
    "name": "ipython",
    "version": 3
   },
   "file_extension": ".py",
   "mimetype": "text/x-python",
   "name": "python",
   "nbconvert_exporter": "python",
   "pygments_lexer": "ipython3",
   "version": "3.7.1"
  }
 },
 "nbformat": 4,
 "nbformat_minor": 2
}
