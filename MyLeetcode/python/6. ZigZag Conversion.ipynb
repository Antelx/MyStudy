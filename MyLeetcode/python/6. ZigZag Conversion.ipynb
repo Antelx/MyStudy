{
 "cells": [
  {
   "cell_type": "code",
   "execution_count": 1,
   "metadata": {},
   "outputs": [],
   "source": [
    "class Solution:\n",
    "    def convert(self, s: str, numRows: int) -> str:\n",
    "        if numRows == 1:\n",
    "            return s\n",
    "        new = [\"\" for _ in range(numRows)]\n",
    "        for i in range(len(s)):\n",
    "            t = i % (2*numRows-2)\n",
    "            if t < numRows:\n",
    "                new[t] += s[i]\n",
    "            else:\n",
    "                new[2 * numRows-t -2] += s[i]\n",
    "        return \"\".join(new)"
   ]
  },
  {
   "cell_type": "code",
   "execution_count": 2,
   "metadata": {},
   "outputs": [],
   "source": [
    "# 先分组， 对每个字符添加到对应行的后面   最后再把所有行连起来"
   ]
  },
  {
   "cell_type": "code",
   "execution_count": 3,
   "metadata": {},
   "outputs": [],
   "source": [
    "# The string \"PAYPALISHIRING\" is written in a zigzag pattern on a given number of rows like this: \n",
    "# (you may want to display this pattern in a fixed font for better legibility)\n",
    "\n",
    "# P   A   H   N\n",
    "# A P L S I I G\n",
    "# Y   I   R\n",
    "# And then read line by line: \"PAHNAPLSIIGYIR\"\n",
    "\n",
    "# Write the code that will take a string and make this conversion given a number of rows:\n",
    "\n",
    "# string convert(string s, int numRows);\n",
    "# Example 1:\n",
    "\n",
    "# Input: s = \"PAYPALISHIRING\", numRows = 3\n",
    "# Output: \"PAHNAPLSIIGYIR\"\n",
    "# Example 2:\n",
    "\n",
    "# Input: s = \"PAYPALISHIRING\", numRows = 4\n",
    "# Output: \"PINALSIGYAHRPI\"\n",
    "# Explanation:\n",
    "\n",
    "# P     I    N\n",
    "# A   L S  I G\n",
    "# Y A   H R\n",
    "# P     I"
   ]
  }
 ],
 "metadata": {
  "kernelspec": {
   "display_name": "Python 3",
   "language": "python",
   "name": "python3"
  },
  "language_info": {
   "codemirror_mode": {
    "name": "ipython",
    "version": 3
   },
   "file_extension": ".py",
   "mimetype": "text/x-python",
   "name": "python",
   "nbconvert_exporter": "python",
   "pygments_lexer": "ipython3",
   "version": "3.7.1"
  }
 },
 "nbformat": 4,
 "nbformat_minor": 2
}
