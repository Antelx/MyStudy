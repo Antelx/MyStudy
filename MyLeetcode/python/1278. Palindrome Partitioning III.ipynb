{
 "cells": [
  {
   "cell_type": "markdown",
   "metadata": {},
   "source": [
    "You are given a string s containing lowercase letters and an integer k. You need to :\n",
    "\n",
    "First, change some characters of s to other lowercase English letters.\n",
    "Then divide s into k non-empty disjoint substrings such that each substring is palindrome.\n",
    "Return the minimal number of characters that you need to change to divide the string.\n",
    "\n",
    " \n",
    "\n",
    "Example 1:\n",
    "\n",
    "Input: s = \"abc\", k = 2\n",
    "Output: 1\n",
    "Explanation: You can split the string into \"ab\" and \"c\", and change 1 character in \"ab\" to make it palindrome.\n",
    "Example 2:\n",
    "\n",
    "Input: s = \"aabbc\", k = 3\n",
    "Output: 0\n",
    "Explanation: You can split the string into \"aa\", \"bb\" and \"c\", all of them are palindrome.\n",
    "Example 3:\n",
    "\n",
    "Input: s = \"leetcode\", k = 8\n",
    "Output: 0\n",
    " \n",
    "\n",
    "Constraints:\n",
    "\n",
    "1 <= k <= s.length <= 100.\n",
    "s only contains lowercase English letters."
   ]
  },
  {
   "cell_type": "code",
   "execution_count": 1,
   "metadata": {},
   "outputs": [],
   "source": [
    "#分解大问题到可行的小问题\n",
    "class Solution:\n",
    "    def palindromePartition(self, s, k) :\n",
    "        # m 首先计算每个片段变成回文需要改变的字符的个数\n",
    "        m = [[0 for _ in range(len(s))] for __ in range(len(s))]\n",
    "        for i in range(1,len(s)):\n",
    "            for j in range(len(s)-i):\n",
    "                m[j][j+i] = m[j+1][j+i-1] + 1 - int(s[j] == s[j+i])\n",
    "                \n",
    "        # dp计算 到第j个字符为止，分为g个部分的最小值\n",
    "        m2 = [[0 for i in range(len(s))] for __ in range(k)]\n",
    "        m2[0] = [i for i in m[0]]\n",
    "        for g in range(1,k):\n",
    "            for j in range(g,len(s)):\n",
    "                m2[g][j] = min([m2[g-1][i]+m[i+1][j] for i in range(j)])\n",
    "        return m2[-1][-1]\n",
    "    "
   ]
  },
  {
   "cell_type": "code",
   "execution_count": 2,
   "metadata": {},
   "outputs": [
    {
     "data": {
      "text/plain": [
       "2"
      ]
     },
     "execution_count": 2,
     "metadata": {},
     "output_type": "execute_result"
    }
   ],
   "source": [
    "sol = Solution()\n",
    "\n",
    "# ans:2\n",
    "# leet c ode\n",
    "# leel c odo\n",
    "sol.palindromePartition(\"leetcode\", 3)"
   ]
  },
  {
   "cell_type": "code",
   "execution_count": null,
   "metadata": {},
   "outputs": [],
   "source": []
  }
 ],
 "metadata": {
  "kernelspec": {
   "display_name": "Python 3",
   "language": "python",
   "name": "python3"
  },
  "language_info": {
   "codemirror_mode": {
    "name": "ipython",
    "version": 3
   },
   "file_extension": ".py",
   "mimetype": "text/x-python",
   "name": "python",
   "nbconvert_exporter": "python",
   "pygments_lexer": "ipython3",
   "version": "3.7.6"
  }
 },
 "nbformat": 4,
 "nbformat_minor": 4
}
