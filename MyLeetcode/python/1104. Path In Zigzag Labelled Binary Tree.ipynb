{
 "cells": [
  {
   "cell_type": "code",
   "execution_count": 1,
   "metadata": {},
   "outputs": [
    {
     "name": "stdout",
     "output_type": "stream",
     "text": [
      "[1]\n",
      "[1, 2]\n",
      "[1, 3, 4, 14]\n",
      "[1, 3, 4, 15]\n",
      "[1, 3, 4, 15, 16]\n",
      "[1, 2, 6, 10, 26]\n"
     ]
    }
   ],
   "source": [
    "import math\n",
    "class Solution:\n",
    "    def pathInZigZagTree(self, label):\n",
    "        res = []\n",
    "        p = label\n",
    "        i = int(math.log(label, 2))\n",
    "        if i%2 == 1:\n",
    "            p = 2**(i+1) - label - 1 + 2**i\n",
    "        while p > 0:\n",
    "            res.append(p)\n",
    "            p = p // 2\n",
    "        res = res[::-1]\n",
    "        for i in range(int(math.log(label, 2)) + 1):\n",
    "            if i % 2 == 1:\n",
    "                res[i] = 2**(i+1) - res[i] - 1 + 2**i\n",
    "        return res\n",
    "    \n",
    "    \n",
    "sol = Solution()\n",
    "print(sol.pathInZigZagTree(1))\n",
    "print(sol.pathInZigZagTree(2))\n",
    "print(sol.pathInZigZagTree(14))\n",
    "print(sol.pathInZigZagTree(15))\n",
    "print(sol.pathInZigZagTree(16))\n",
    "print(sol.pathInZigZagTree(26))"
   ]
  },
  {
   "cell_type": "code",
   "execution_count": 2,
   "metadata": {},
   "outputs": [],
   "source": [
    "# In an infinite binary tree where every node has two children, the nodes are labelled in row order.\n",
    "\n",
    "# In the odd numbered rows (ie., the first, third, fifth,...), the labelling is left to right, while in the even numbered rows (second, fourth, sixth,...), the labelling is right to left.\n",
    "\n",
    "\n",
    "\n",
    "# Given the label of a node in this tree, return the labels in the path from the root of the tree to the node with that label.\n",
    "\n",
    " \n",
    "\n",
    "# Example 1:\n",
    "\n",
    "# Input: label = 14\n",
    "# Output: [1,3,4,14]\n",
    "# Example 2:\n",
    "\n",
    "# Input: label = 26\n",
    "# Output: [1,2,6,10,26]\n",
    " \n",
    "\n",
    "# Constraints:\n",
    "\n",
    "# 1 <= label <= 10^6"
   ]
  }
 ],
 "metadata": {
  "kernelspec": {
   "display_name": "Python 3",
   "language": "python",
   "name": "python3"
  },
  "language_info": {
   "codemirror_mode": {
    "name": "ipython",
    "version": 3
   },
   "file_extension": ".py",
   "mimetype": "text/x-python",
   "name": "python",
   "nbconvert_exporter": "python",
   "pygments_lexer": "ipython3",
   "version": "3.7.1"
  }
 },
 "nbformat": 4,
 "nbformat_minor": 2
}
