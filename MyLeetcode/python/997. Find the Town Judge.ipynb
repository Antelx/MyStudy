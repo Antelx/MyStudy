{
 "cells": [
  {
   "cell_type": "code",
   "execution_count": 1,
   "metadata": {},
   "outputs": [
    {
     "name": "stdout",
     "output_type": "stream",
     "text": [
      "3\n"
     ]
    }
   ],
   "source": [
    "class Solution:\n",
    "    def findJudge(self, N, trust):\n",
    "        if N == 1:\n",
    "            return 1\n",
    "        res = [1 for _ in range(N+1)]\n",
    "        for t in trust:\n",
    "            res[t[0]] = 0\n",
    "            res[t[1]] += 1\n",
    "#         print(res)\n",
    "        if res.count(N) == 1:\n",
    "            return res.index(N)\n",
    "        else:\n",
    "            return -1\n",
    "    \n",
    "sol = Solution()\n",
    "N = 4\n",
    "trust = [[1,3],[1,4],[2,3],[2,4],[4,3]]        \n",
    "# N = 1\n",
    "# trust = []\n",
    "print(sol.findJudge(N, trust))"
   ]
  },
  {
   "cell_type": "code",
   "execution_count": 2,
   "metadata": {},
   "outputs": [],
   "source": [
    "# In a town, there are N people labelled from 1 to N.  \n",
    "# There is a rumor that one of these people is secretly the town judge.\n",
    "\n",
    "# If the town judge exists, then:\n",
    "\n",
    "# 1The town judge trusts nobody.\n",
    "# 2Everybody (except for the town judge) trusts the town judge.\n",
    "# 3There is exactly one person that satisfies properties 1 and 2.\n",
    "# You are given trust, \n",
    "# an array of pairs trust[i] = [a, b] representing that the person labelled a trusts the person labelled b.\n",
    "\n",
    "# If the town judge exists and can be identified, return the label of the town judge.  Otherwise, return -1.\n",
    "\n",
    " \n",
    "\n",
    "# Example 1:\n",
    "\n",
    "# Input: N = 2, trust = [[1,2]]\n",
    "# Output: 2\n",
    "# Example 2:\n",
    "\n",
    "# Input: N = 3, trust = [[1,3],[2,3]]\n",
    "# Output: 3\n",
    "# Example 3:\n",
    "\n",
    "# Input: N = 3, trust = [[1,3],[2,3],[3,1]]\n",
    "# Output: -1\n",
    "# Example 4:\n",
    "\n",
    "# Input: N = 3, trust = [[1,2],[2,3]]\n",
    "# Output: -1\n",
    "# Example 5:\n",
    "\n",
    "# Input: N = 4, trust = [[1,3],[1,4],[2,3],[2,4],[4,3]]\n",
    "# Output: 3\n",
    " \n",
    "\n",
    "# Note:\n",
    "\n",
    "# 1 <= N <= 1000\n",
    "# trust.length <= 10000\n",
    "# trust[i] are all different\n",
    "# trust[i][0] != trust[i][1]\n",
    "# 1 <= trust[i][0], trust[i][1] <= N\n"
   ]
  },
  {
   "cell_type": "code",
   "execution_count": 3,
   "metadata": {},
   "outputs": [],
   "source": [
    "# class Solution:\n",
    "#     def findJudge(self, N, trust):\n",
    "#         if N == 1:\n",
    "#             return 1\n",
    "#         d = {}\n",
    "#         nc = [] # 不肯能是judge的\n",
    "#         for t in trust:\n",
    "#             if t[1] in d:\n",
    "#                 d[t[1]].append(t[0])\n",
    "#             else:\n",
    "#                 d[t[1]] = [t[0]]\n",
    "#             if t[0] not in nc:\n",
    "#                 nc.append(t[0])\n",
    "#         res = []# 可以是judge的\n",
    "#         for i in range(1, N+1):\n",
    "#             if i not in nc and i in d:\n",
    "#                 if len(d[i]) == N - 1:\n",
    "#                     res.append(i)\n",
    "#         if len(res) == 1:\n",
    "#             return res[0]\n",
    "#         else:\n",
    "#             return -1\n",
    "    \n",
    "# sol = Solution()\n",
    "# N = 4\n",
    "# trust = [[1,3],[1,4],[2,3],[2,4],[4,3]]\n",
    "# N = 3\n",
    "# trust = [[1,2],[2,3]]\n",
    "# N = 1\n",
    "# truse = []\n",
    "# print(sol.findJudge(N, trust))"
   ]
  }
 ],
 "metadata": {
  "kernelspec": {
   "display_name": "Python 3",
   "language": "python",
   "name": "python3"
  },
  "language_info": {
   "codemirror_mode": {
    "name": "ipython",
    "version": 3
   },
   "file_extension": ".py",
   "mimetype": "text/x-python",
   "name": "python",
   "nbconvert_exporter": "python",
   "pygments_lexer": "ipython3",
   "version": "3.7.1"
  }
 },
 "nbformat": 4,
 "nbformat_minor": 2
}
