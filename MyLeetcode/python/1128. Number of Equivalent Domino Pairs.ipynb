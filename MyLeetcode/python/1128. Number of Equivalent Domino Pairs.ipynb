{
 "cells": [
  {
   "cell_type": "code",
   "execution_count": 1,
   "metadata": {},
   "outputs": [
    {
     "name": "stdout",
     "output_type": "stream",
     "text": [
      "4\n"
     ]
    }
   ],
   "source": [
    "class Solution:\n",
    "    def numEquivDominoPairs(self, dominoes):\n",
    "        if len(dominoes) == 0:\n",
    "            return 0\n",
    "        d = {}\n",
    "        for i in dominoes:\n",
    "            j = (min(i[0],i[1]), max(i[0],i[1]))\n",
    "            if j in d:\n",
    "                d[j] += 1\n",
    "            else:\n",
    "                d[j] = 1\n",
    "        res = 0\n",
    "        for v in (d.values()):\n",
    "            res += (v*v-v)//2\n",
    "        return res\n",
    "    \n",
    "dominoes = [[1,2],[2,1],[3,4],[5,6]]\n",
    "dominoes = [[1,1],[2,2],[1,1],[1,2],[1,2],[1,1]]\n",
    "sol = Solution()\n",
    "print(sol.numEquivDominoPairs(dominoes))"
   ]
  },
  {
   "cell_type": "code",
   "execution_count": 2,
   "metadata": {},
   "outputs": [],
   "source": [
    "# Given a list of dominoes, dominoes[i] = [a, b] is equivalent to dominoes[j] = [c, d] if and only if either (a==c and b==d), or (a==d and b==c) - that is, one domino can be rotated to be equal to another domino.\n",
    "\n",
    "# Return the number of pairs (i, j) for which 0 <= i < j < dominoes.length, and dominoes[i] is equivalent to dominoes[j].\n",
    "\n",
    " \n",
    "\n",
    "# Example 1:\n",
    "\n",
    "# Input: dominoes = [[1,2],[2,1],[3,4],[5,6]]\n",
    "# Output: 1\n",
    " \n",
    "\n",
    "# Constraints:\n",
    "\n",
    "# 1 <= dominoes.length <= 40000\n",
    "# 1 <= dominoes[i][j] <= 9\n",
    "# Accepted"
   ]
  }
 ],
 "metadata": {
  "kernelspec": {
   "display_name": "Python 3",
   "language": "python",
   "name": "python3"
  },
  "language_info": {
   "codemirror_mode": {
    "name": "ipython",
    "version": 3
   },
   "file_extension": ".py",
   "mimetype": "text/x-python",
   "name": "python",
   "nbconvert_exporter": "python",
   "pygments_lexer": "ipython3",
   "version": "3.7.1"
  }
 },
 "nbformat": 4,
 "nbformat_minor": 2
}
