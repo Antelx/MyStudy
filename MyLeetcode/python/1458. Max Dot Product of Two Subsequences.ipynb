{
 "cells": [
  {
   "cell_type": "markdown",
   "metadata": {},
   "source": [
    "Given two arrays nums1 and nums2.\n",
    "\n",
    "Return the maximum dot product between non-empty subsequences of nums1 and nums2 with the same length.\n",
    "\n",
    "A subsequence of a array is a new array which is formed from the original array by deleting some (can be none) of the characters without disturbing the relative positions of the remaining characters. (ie, [2,3,5] is a subsequence of [1,2,3,4,5] while [1,5,3] is not).\n",
    "\n",
    " \n",
    "\n",
    "Example 1:\n",
    "\n",
    "Input: nums1 = [2,1,-2,5], nums2 = [3,0,-6]\n",
    "Output: 18\n",
    "Explanation: Take subsequence [2,-2] from nums1 and subsequence [3,-6] from nums2.\n",
    "Their dot product is (2*3 + (-2)*(-6)) = 18.\n",
    "Example 2:\n",
    "\n",
    "Input: nums1 = [3,-2], nums2 = [2,-6,7]\n",
    "Output: 21\n",
    "Explanation: Take subsequence [3] from nums1 and subsequence [7] from nums2.\n",
    "Their dot product is (3*7) = 21.\n",
    "Example 3:\n",
    "\n",
    "Input: nums1 = [-1,-1], nums2 = [1,1]\n",
    "Output: -1\n",
    "Explanation: Take subsequence [-1] from nums1 and subsequence [1] from nums2.\n",
    "Their dot product is -1.\n",
    " \n",
    "\n",
    "Constraints:\n",
    "\n",
    "1 <= nums1.length, nums2.length <= 500\n",
    "-1000 <= nums1[i], nums2[i] <= 1000"
   ]
  },
  {
   "cell_type": "raw",
   "metadata": {},
   "source": [
    "0.如果一组数全是正数，另一组全是负数，直接获取结果\n",
    "1.获取两两乘积\n",
    "2.过滤乘积为负数的，转化为0\n",
    "3.寻找最大的路径"
   ]
  },
  {
   "cell_type": "code",
   "execution_count": 1,
   "metadata": {},
   "outputs": [
    {
     "data": {
      "text/plain": [
       "200"
      ]
     },
     "execution_count": 1,
     "metadata": {},
     "output_type": "execute_result"
    }
   ],
   "source": [
    "# nums1 = [2,1,-2,5]\n",
    "# nums2 = [3,0,-6]\n",
    "\n",
    "# nums1 = [-1, -1]\n",
    "# nums2 = [1,1]\n",
    "\n",
    "nums1 = [-3,-8,3,-10,1,3,9]\n",
    "nums2 = [9,2,3,7,-9,1,-8,5,-1,-1]\n",
    "\n",
    "class Solution:\n",
    "    def maxDotProduct(self, nums1, nums2) -> int:\n",
    "        if max(nums1) <=0 and min(nums2) >= 0:\n",
    "            return max(nums1) * min(nums2)\n",
    "        if max(nums2) <=0 and min(nums1) >= 0:\n",
    "            return max(nums2) * min(nums1)\n",
    "        \n",
    "        m = [[max(0, nums1[i]*nums2[j]) for j in range(len(nums2))] for i in range(len(nums1))]\n",
    "        for i in range(1, len(nums1)):\n",
    "            m[i][0] = max(m[i][0], m[i-1][0])\n",
    "        for j in range(1, len(nums2)):\n",
    "            m[0][j] = max(m[0][j], m[0][j-1])\n",
    "        for i in range(1, len(nums1)):\n",
    "            for j in range(1, len(nums2)):\n",
    "                m[i][j] = max(m[i-1][j], m[i][j-1], m[i][j]+m[i-1][j-1])\n",
    "        return m[-1][-1]\n",
    "\n",
    "sol = Solution()\n",
    "sol.maxDotProduct(nums1, nums2)"
   ]
  }
 ],
 "metadata": {
  "kernelspec": {
   "display_name": "Python 3",
   "language": "python",
   "name": "python3"
  },
  "language_info": {
   "codemirror_mode": {
    "name": "ipython",
    "version": 3
   },
   "file_extension": ".py",
   "mimetype": "text/x-python",
   "name": "python",
   "nbconvert_exporter": "python",
   "pygments_lexer": "ipython3",
   "version": "3.7.6"
  }
 },
 "nbformat": 4,
 "nbformat_minor": 4
}
