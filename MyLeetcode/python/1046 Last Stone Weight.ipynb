{
 "cells": [
  {
   "cell_type": "code",
   "execution_count": 1,
   "metadata": {},
   "outputs": [
    {
     "name": "stdout",
     "output_type": "stream",
     "text": [
      "1\n"
     ]
    }
   ],
   "source": [
    "stones = [2,7,4,1,8,1]\n",
    "class Solution:\n",
    "    def lastStoneWeight(self, stones):\n",
    "        def heapify(i):\n",
    "            l = i*2+1\n",
    "            r = i*2+2\n",
    "            lar = i\n",
    "            if l<len(stones):\n",
    "                if stones[i] < stones[l]:\n",
    "                    lar = l\n",
    "            if r<len(stones):\n",
    "                if stones[lar] < stones[r]:\n",
    "                    lar = r\n",
    "            if i != lar:\n",
    "                stones[i], stones[lar] = stones[lar], stones[i]\n",
    "                heapify(lar)\n",
    "        def smash():\n",
    "            if stones[1]>stones[2]:\n",
    "                stones[0] -= stones[1]\n",
    "                stones[1] = 0\n",
    "            else:\n",
    "                stones[0] -= stones[2]\n",
    "                stones[2] = 0\n",
    "        if len(stones) == 1:\n",
    "            return stones[0]\n",
    "        if len(stones) == 2:\n",
    "            return abs(stones[0] - stones[1])\n",
    "        for i in range(len(stones)//2, -1, -1):\n",
    "            heapify(i)\n",
    "        while stones[1] or stones[2]:\n",
    "            smash()\n",
    "            heapify(2)\n",
    "            heapify(1)\n",
    "            heapify(0)\n",
    "        return stones[0]\n",
    "sol = Solution()\n",
    "print(sol.lastStoneWeight(stones))"
   ]
  },
  {
   "cell_type": "code",
   "execution_count": 2,
   "metadata": {},
   "outputs": [],
   "source": [
    "# # We have a collection of rocks, each rock has a positive integer weight.\n",
    "\n",
    "# # Each turn, we choose the two heaviest rocks and smash them together.  Suppose the stones have weights x and y with x <= y.  The result of this smash is:\n",
    "\n",
    "# # If x == y, both stones are totally destroyed;\n",
    "# # If x != y, the stone of weight x is totally destroyed, and the stone of weight y has new weight y-x.\n",
    "# # At the end, there is at most 1 stone left.  Return the weight of this stone (or 0 if there are no stones left.)\n",
    "\n",
    " \n",
    "\n",
    "# # Example 1:\n",
    "\n",
    "# # Input: [2,7,4,1,8,1]\n",
    "# # Output: 1\n",
    "# # Explanation: \n",
    "# # We combine 7 and 8 to get 1 so the array converts to [2,4,1,1,1] then,\n",
    "# # we combine 2 and 4 to get 2 so the array converts to [2,1,1,1] then,\n",
    "# # we combine 2 and 1 to get 1 so the array converts to [1,1,1] then,\n",
    "# # we combine 1 and 1 to get 0 so the array converts to [1] then that's the value of last stone.\n",
    "\n",
    "# stones = [2,7,4,1,8,1]"
   ]
  }
 ],
 "metadata": {
  "kernelspec": {
   "display_name": "Python 3",
   "language": "python",
   "name": "python3"
  },
  "language_info": {
   "codemirror_mode": {
    "name": "ipython",
    "version": 3
   },
   "file_extension": ".py",
   "mimetype": "text/x-python",
   "name": "python",
   "nbconvert_exporter": "python",
   "pygments_lexer": "ipython3",
   "version": "3.7.1"
  }
 },
 "nbformat": 4,
 "nbformat_minor": 2
}
