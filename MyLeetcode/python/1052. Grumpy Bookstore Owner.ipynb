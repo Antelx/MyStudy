{
 "cells": [
  {
   "cell_type": "code",
   "execution_count": 1,
   "metadata": {},
   "outputs": [
    {
     "name": "stdout",
     "output_type": "stream",
     "text": [
      "16\n"
     ]
    }
   ],
   "source": [
    "class Solution:\n",
    "    def maxSatisfied(self, customers, grumpy, X):\n",
    "        w = [customers[i]*grumpy[i] for i in range(len(grumpy))]\n",
    "        m = sum(w[:X])\n",
    "        t = m\n",
    "        for i in range(X, len(grumpy)):\n",
    "            t -= w[i-X]\n",
    "            t += w[i]\n",
    "            m = max(m,t)\n",
    "        return sum(customers) - sum(w) + m\n",
    "sol = Solution()\n",
    "customers = [1,0,1,2,1,1,7,5]\n",
    "grumpy = [0,1,0,1,0,1,0,1]\n",
    "X = 3\n",
    "print(sol.maxSatisfied(customers, grumpy, X))"
   ]
  },
  {
   "cell_type": "code",
   "execution_count": 2,
   "metadata": {},
   "outputs": [],
   "source": [
    "# Today, the bookstore owner has a store open for customers.length minutes.  Every minute, some number of customers (customers[i]) enter the store, and all those customers leave after the end of that minute.\n",
    "\n",
    "# On some minutes, the bookstore owner is grumpy.  If the bookstore owner is grumpy on the i-th minute, grumpy[i] = 1, otherwise grumpy[i] = 0.  When the bookstore owner is grumpy, the customers of that minute are not satisfied, otherwise they are satisfied.\n",
    "\n",
    "# The bookstore owner knows a secret technique to keep themselves not grumpy for X minutes straight, but can only use it once.\n",
    "\n",
    "# Return the maximum number of customers that can be satisfied throughout the day.\n",
    "\n",
    " \n",
    "\n",
    "# Example 1:\n",
    "\n",
    "# Input: customers = [1,0,1,2,1,1,7,5], grumpy = [0,1,0,1,0,1,0,1], X = 3\n",
    "# Output: 16\n",
    "# Explanation: The bookstore owner keeps themselves not grumpy for the last 3 minutes. \n",
    "# The maximum number of customers that can be satisfied = 1 + 1 + 1 + 1 + 7 + 5 = 16.\n",
    " \n",
    "\n",
    "# Note:\n",
    "\n",
    "# 1 <= X <= customers.length == grumpy.length <= 20000\n",
    "# 0 <= customers[i] <= 1000\n",
    "# 0 <= grumpy[i] <= 1"
   ]
  }
 ],
 "metadata": {
  "kernelspec": {
   "display_name": "Python 3",
   "language": "python",
   "name": "python3"
  },
  "language_info": {
   "codemirror_mode": {
    "name": "ipython",
    "version": 3
   },
   "file_extension": ".py",
   "mimetype": "text/x-python",
   "name": "python",
   "nbconvert_exporter": "python",
   "pygments_lexer": "ipython3",
   "version": "3.7.1"
  }
 },
 "nbformat": 4,
 "nbformat_minor": 2
}
