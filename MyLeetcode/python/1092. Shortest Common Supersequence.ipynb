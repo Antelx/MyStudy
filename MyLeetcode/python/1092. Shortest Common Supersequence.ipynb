{
 "cells": [
  {
   "cell_type": "code",
   "execution_count": null,
   "metadata": {},
   "outputs": [],
   "source": [
    "# Given two strings str1 and str2, return the shortest string that has both str1 and str2 as subsequences.  If multiple answers exist, you may return any of them.\n",
    "\n",
    "# (A string S is a subsequence of string T if deleting some number of characters from T (possibly 0, and the characters are chosen anywhere from T) results in the string S.)\n",
    "\n",
    " \n",
    "\n",
    "# Example 1:\n",
    "\n",
    "# Input: str1 = \"abac\", str2 = \"cab\"\n",
    "# Output: \"cabac\"\n",
    "# Explanation: \n",
    "# str1 = \"abac\" is a subsequence of \"cabac\" because we can delete the first \"c\".\n",
    "# str2 = \"cab\" is a subsequence of \"cabac\" because we can delete the last \"ac\".\n",
    "# The answer provided is the shortest such string that satisfies these properties.\n",
    " \n",
    "\n",
    "# Note:\n",
    "\n",
    "# 1 <= str1.length, str2.length <= 1000\n",
    "# str1 and str2 consist of lowercase English letters."
   ]
  },
  {
   "cell_type": "raw",
   "metadata": {},
   "source": [
    "dp算法查找最大公共子串\n",
    "然后倒推得到答案\n",
    "关机在于倒推是 停止条件为 >= 0   得悟一下"
   ]
  },
  {
   "cell_type": "code",
   "execution_count": 1,
   "metadata": {},
   "outputs": [
    {
     "name": "stdout",
     "output_type": "stream",
     "text": [
      "2 3 \n",
      "2 2 c\n",
      "2 1 ac\n",
      "1 0 bac\n",
      "0 -1 abac\n",
      "[0, 0, 0, 1]\n",
      "[1, 1, 1, 1]\n",
      "[1, 2, 2, 2]\n"
     ]
    },
    {
     "data": {
      "text/plain": [
       "'cabac'"
      ]
     },
     "execution_count": 1,
     "metadata": {},
     "output_type": "execute_result"
    }
   ],
   "source": [
    "class Solution:\n",
    "    def shortestCommonSupersequence(self, str1: str, str2: str) -> str:\n",
    "        m = [[0 for _ in range(len(str2))] for __ in range(len(str1))]\n",
    "        m[0][0] = 1 if str1[0] == str2[0] else 0\n",
    "        for i in range(1, len(str2)):\n",
    "            m[0][i] = max(m[0][i-1], int(str2[i]==str1[0]))\n",
    "        for i in range(1, len(str1)):\n",
    "            m[i][0] = max(m[i-1][0], int(str1[i]==str2[0]))\n",
    "        for i in range(1, len(str1)):\n",
    "            for j in range(1, len(str2)):\n",
    "                if str1[i]==str2[j]:\n",
    "                    m[i][j] = m[i-1][j-1] + 1\n",
    "                else:\n",
    "                    m[i][j] = max(m[i-1][j], m[i][j-1])\n",
    "        res = ''\n",
    "        i = len(str1) - 1\n",
    "        j = len(str2) - 1\n",
    "        while i>=0 and j>=0:\n",
    "            print(i,j,res)\n",
    "            if str1[i] == str2[j]:\n",
    "                res = str1[i] + res\n",
    "                i -= 1\n",
    "                j -= 1\n",
    "            elif i>0 and m[i][j] == m[i-1][j]:\n",
    "                res = str1[i] + res \n",
    "                i -= 1\n",
    "            elif  j>0 and m[i][j] == m[i][j-1]:\n",
    "                res = str2[j] + res\n",
    "                j -= 1\n",
    "            else:\n",
    "                break\n",
    "        print(i,j, res)\n",
    "        res = str1[:i+1] + str2[:j+1] + res\n",
    "\n",
    "#         print(i,j)\n",
    "            \n",
    "        for i in m:\n",
    "            print(i)\n",
    "        return res\n",
    "            \n",
    "        \n",
    "str1 = \"cab\"#*333\n",
    "str2 = \"abac\"#*250\n",
    "# str1=\"ababaabbbb\"\n",
    "# str2=\"cbcbacaab\"\n",
    "sol = Solution()\n",
    "sol.shortestCommonSupersequence(str1, str2)"
   ]
  },
  {
   "cell_type": "code",
   "execution_count": null,
   "metadata": {},
   "outputs": [],
   "source": []
  }
 ],
 "metadata": {
  "kernelspec": {
   "display_name": "Python 3",
   "language": "python",
   "name": "python3"
  },
  "language_info": {
   "codemirror_mode": {
    "name": "ipython",
    "version": 3
   },
   "file_extension": ".py",
   "mimetype": "text/x-python",
   "name": "python",
   "nbconvert_exporter": "python",
   "pygments_lexer": "ipython3",
   "version": "3.7.6"
  }
 },
 "nbformat": 4,
 "nbformat_minor": 4
}
