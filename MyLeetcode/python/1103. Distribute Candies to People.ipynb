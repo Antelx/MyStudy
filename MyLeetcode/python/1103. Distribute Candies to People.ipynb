{
 "cells": [
  {
   "cell_type": "code",
   "execution_count": 31,
   "metadata": {},
   "outputs": [
    {
     "name": "stdout",
     "output_type": "stream",
     "text": [
      "0 [0, 0, 0, 0]\n",
      "0 [0, 0, 0, 0]\n",
      "[1, 2, 3, 1]\n"
     ]
    }
   ],
   "source": [
    "class Solution:\n",
    "    def distributeCandies(self, candies, num_people) :\n",
    "        res = [0 for _ in range(num_people)]\n",
    "        r = num_people*(1 + num_people) / 2\n",
    "        k = int((-num_people+(num_people*num_people+8*num_people*num_people*candies)**0.5)/num_people/num_people/2)\n",
    "        res[0] = int(((k-1)*num_people+2)*k/2)\n",
    "        print(k, res)\n",
    "        for i in range(1, num_people):\n",
    "            res[i] = int(res[i-1] + k)\n",
    "        print(k, res)\n",
    "        i = 0\n",
    "        candies -= int((k * num_people +1 )*k*num_people/2)\n",
    "        while candies > 0:\n",
    "            res[i] += min(candies, num_people*k + 1+ i)\n",
    "            candies -= min(candies, num_people*k + 1+ i)\n",
    "            i += 1\n",
    "        return res\n",
    "sol = Solution()\n",
    "# candies = 100\n",
    "# num_people = 3\n",
    "candies = 7\n",
    "num_people = 4\n",
    "print(sol.distributeCandies(candies, num_people))"
   ]
  },
  {
   "cell_type": "code",
   "execution_count": null,
   "metadata": {},
   "outputs": [],
   "source": []
  },
  {
   "cell_type": "code",
   "execution_count": null,
   "metadata": {},
   "outputs": [],
   "source": [
    "# We distribute some number of candies, to a row of n = num_people people in the following way:\n",
    "\n",
    "# We then give 1 candy to the first person, 2 candies to the second person, and so on until we give n candies to the last person.\n",
    "\n",
    "# Then, we go back to the start of the row, giving n + 1 candies to the first person, n + 2 candies to the second person, and so on until we give 2 * n candies to the last person.\n",
    "\n",
    "# This process repeats (with us giving one more candy each time, and moving to the start of the row after we reach the end) until we run out of candies.  The last person will receive all of our remaining candies (not necessarily one more than the previous gift).\n",
    "\n",
    "# Return an array (of length num_people and sum candies) that represents the final distribution of candies.\n",
    "\n",
    " \n",
    "\n",
    "# Example 1:\n",
    "\n",
    "# Input: candies = 7, num_people = 4\n",
    "# Output: [1,2,3,1]\n",
    "# Explanation:\n",
    "# On the first turn, ans[0] += 1, and the array is [1,0,0,0].\n",
    "# On the second turn, ans[1] += 2, and the array is [1,2,0,0].\n",
    "# On the third turn, ans[2] += 3, and the array is [1,2,3,0].\n",
    "# On the fourth turn, ans[3] += 1 (because there is only one candy left), and the final array is [1,2,3,1].\n",
    "# Example 2:\n",
    "\n",
    "# Input: candies = 10, num_people = 3\n",
    "# Output: [5,2,3]\n",
    "# Explanation: \n",
    "# On the first turn, ans[0] += 1, and the array is [1,0,0].\n",
    "# On the second turn, ans[1] += 2, and the array is [1,2,0].\n",
    "# On the third turn, ans[2] += 3, and the array is [1,2,3].\n",
    "# On the fourth turn, ans[0] += 4, and the final array is [5,2,3].\n",
    " \n",
    "\n",
    "# Constraints:\n",
    "\n",
    "# 1 <= candies <= 10^9\n",
    "# 1 <= num_people <= 1000"
   ]
  }
 ],
 "metadata": {
  "kernelspec": {
   "display_name": "Python 3",
   "language": "python",
   "name": "python3"
  },
  "language_info": {
   "codemirror_mode": {
    "name": "ipython",
    "version": 3
   },
   "file_extension": ".py",
   "mimetype": "text/x-python",
   "name": "python",
   "nbconvert_exporter": "python",
   "pygments_lexer": "ipython3",
   "version": "3.7.1"
  }
 },
 "nbformat": 4,
 "nbformat_minor": 2
}
