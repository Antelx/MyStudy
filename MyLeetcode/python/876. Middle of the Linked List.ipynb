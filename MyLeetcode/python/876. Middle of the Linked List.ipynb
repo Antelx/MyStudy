{
 "cells": [
  {
   "cell_type": "code",
   "execution_count": 1,
   "metadata": {},
   "outputs": [
    {
     "name": "stdout",
     "output_type": "stream",
     "text": [
      "4\n"
     ]
    }
   ],
   "source": [
    "class ListNode:\n",
    "    def __init__(self, x, n = None):\n",
    "        self.val = x\n",
    "        self.next = n\n",
    "\n",
    "class Solution:\n",
    "    def middleNode(self, head):\n",
    "        if head == None:\n",
    "            return None\n",
    "        f = head \n",
    "        s = head\n",
    "        while True:\n",
    "            if f.next:\n",
    "                f = f.next\n",
    "                s = s.next\n",
    "            else:\n",
    "                return s\n",
    "            if f.next:\n",
    "                f = f.next\n",
    "            else:\n",
    "                return s\n",
    "        \n",
    "\n",
    "head = ListNode(1,ListNode(2,ListNode(3,ListNode(4,ListNode(5,ListNode(6))))))\n",
    "sol = Solution()\n",
    "print(sol.middleNode(head).val)"
   ]
  },
  {
   "cell_type": "code",
   "execution_count": 2,
   "metadata": {},
   "outputs": [],
   "source": [
    "# Given a non-empty, singly linked list with head node head, return a middle node of linked list.\n",
    "\n",
    "# If there are two middle nodes, return the second middle node.\n",
    "\n",
    " \n",
    "\n",
    "# Example 1:\n",
    "\n",
    "# Input: [1,2,3,4,5]\n",
    "# Output: Node 3 from this list (Serialization: [3,4,5])\n",
    "# The returned node has value 3.  (The judge's serialization of this node is [3,4,5]).\n",
    "# Note that we returned a ListNode object ans, such that:\n",
    "# ans.val = 3, ans.next.val = 4, ans.next.next.val = 5, and ans.next.next.next = NULL.\n",
    "# Example 2:\n",
    "\n",
    "# Input: [1,2,3,4,5,6]\n",
    "# Output: Node 4 from this list (Serialization: [4,5,6])\n",
    "# Since the list has two middle nodes with values 3 and 4, we return the second one.\n",
    " \n",
    "\n",
    "# Note:\n",
    "\n",
    "# The number of nodes in the given list will be between 1 and 100."
   ]
  }
 ],
 "metadata": {
  "kernelspec": {
   "display_name": "Python 3",
   "language": "python",
   "name": "python3"
  },
  "language_info": {
   "codemirror_mode": {
    "name": "ipython",
    "version": 3
   },
   "file_extension": ".py",
   "mimetype": "text/x-python",
   "name": "python",
   "nbconvert_exporter": "python",
   "pygments_lexer": "ipython3",
   "version": "3.7.1"
  }
 },
 "nbformat": 4,
 "nbformat_minor": 2
}
