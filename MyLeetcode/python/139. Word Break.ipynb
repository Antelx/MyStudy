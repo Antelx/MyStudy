{
 "cells": [
  {
   "cell_type": "code",
   "execution_count": 1,
   "metadata": {},
   "outputs": [
    {
     "name": "stdout",
     "output_type": "stream",
     "text": [
      "False\n"
     ]
    }
   ],
   "source": [
    "class Solution:\n",
    "    def wordBreak(self, s, wordDict):\n",
    "        dp = [False for _ in range(len(s))]\n",
    "        for w in wordDict:\n",
    "            if s[:len(w)] == w:\n",
    "                dp[len(w) - 1] = True\n",
    "        for i in range(len(s)):\n",
    "            for w in wordDict:\n",
    "                if i > len(w)-1:\n",
    "                    if dp[i - len(w)] == True and s[i-len(w)+1:i+1] == w:\n",
    "                        dp[i] = True                        \n",
    "                        break\n",
    "        return(dp[-1])\n",
    "s = \"applepenapple\"\n",
    "wordDict = [\"apple\", \"pen\"]\n",
    "s = \"leetcode\"\n",
    "wordDict = [\"leet\", \"code\"]\n",
    "s = \"catsandog\"\n",
    "wordDict = [\"cats\", \"dog\", \"sand\", \"and\", \"cat\"]\n",
    "sol = Solution()\n",
    "print(sol.wordBreak(s, wordDict))"
   ]
  },
  {
   "cell_type": "code",
   "execution_count": 2,
   "metadata": {},
   "outputs": [],
   "source": [
    "# Given a non-empty string s and a dictionary wordDict containing a list of non-empty words, \n",
    "# determine if s can be segmented into a space-separated sequence of one or more dictionary words.\n",
    "\n",
    "# Note:\n",
    "\n",
    "# The same word in the dictionary may be reused multiple times in the segmentation.\n",
    "# You may assume the dictionary does not contain duplicate words.\n",
    "# Example 1:\n",
    "\n",
    "# Input: s = \"leetcode\", wordDict = [\"leet\", \"code\"]\n",
    "# Output: true\n",
    "# Explanation: Return true because \"leetcode\" can be segmented as \"leet code\".\n",
    "# Example 2:\n",
    "\n",
    "# Input: s = \"applepenapple\", wordDict = [\"apple\", \"pen\"]\n",
    "# Output: true\n",
    "# Explanation: Return true because \"applepenapple\" can be segmented as \"apple pen apple\".\n",
    "#              Note that you are allowed to reuse a dictionary word.\n",
    "# Example 3:\n",
    "\n",
    "# Input: s = \"catsandog\", wordDict = [\"cats\", \"dog\", \"sand\", \"and\", \"cat\"]\n",
    "# Output: false"
   ]
  }
 ],
 "metadata": {
  "kernelspec": {
   "display_name": "Python 3",
   "language": "python",
   "name": "python3"
  },
  "language_info": {
   "codemirror_mode": {
    "name": "ipython",
    "version": 3
   },
   "file_extension": ".py",
   "mimetype": "text/x-python",
   "name": "python",
   "nbconvert_exporter": "python",
   "pygments_lexer": "ipython3",
   "version": "3.7.1"
  }
 },
 "nbformat": 4,
 "nbformat_minor": 2
}
