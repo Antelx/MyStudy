{
 "cells": [
  {
   "cell_type": "code",
   "execution_count": 1,
   "metadata": {},
   "outputs": [
    {
     "name": "stdout",
     "output_type": "stream",
     "text": [
      "[10, 55, 45, 25, 25]\n"
     ]
    }
   ],
   "source": [
    "class Solution:\n",
    "    def corpFlightBookings(self, bookings, n):\n",
    "        dp = [0 for _ in range(n+1)]\n",
    "        for b in bookings:\n",
    "            dp[b[0]-1] += b[2]\n",
    "            dp[b[1]] -= b[2]\n",
    "        for i in range(1, n):\n",
    "            dp[i] += dp[i-1]\n",
    "        return dp[:-1]\n",
    "\n",
    "sol = Solution()\n",
    "bookings = [[1,2,10],[2,3,20],[2,5,25]]\n",
    "n = 5\n",
    "print(sol.corpFlightBookings(bookings, n))"
   ]
  },
  {
   "cell_type": "code",
   "execution_count": 2,
   "metadata": {},
   "outputs": [],
   "source": [
    "# There are n flights, and they are labeled from 1 to n.\n",
    "\n",
    "# We have a list of flight bookings.  The i-th booking bookings[i] = [i, j, k] means that we booked k seats from flights labeled i to j inclusive.\n",
    "\n",
    "# Return an array answer of length n, representing the number of seats booked on each flight in order of their label.\n",
    "\n",
    " \n",
    "\n",
    "# Example 1:\n",
    "\n",
    "# Input: bookings = [[1,2,10],[2,3,20],[2,5,25]], n = 5\n",
    "# Output: [10,55,45,25,25]\n",
    " \n",
    "\n",
    "# Constraints:\n",
    "\n",
    "# 1 <= bookings.length <= 20000\n",
    "# 1 <= bookings[i][0] <= bookings[i][1] <= n <= 20000\n",
    "# 1 <= bookings[i][2] <= 10000"
   ]
  }
 ],
 "metadata": {
  "kernelspec": {
   "display_name": "Python 3",
   "language": "python",
   "name": "python3"
  },
  "language_info": {
   "codemirror_mode": {
    "name": "ipython",
    "version": 3
   },
   "file_extension": ".py",
   "mimetype": "text/x-python",
   "name": "python",
   "nbconvert_exporter": "python",
   "pygments_lexer": "ipython3",
   "version": "3.7.1"
  }
 },
 "nbformat": 4,
 "nbformat_minor": 2
}
