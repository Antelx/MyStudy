{
 "cells": [
  {
   "cell_type": "code",
   "execution_count": null,
   "metadata": {},
   "outputs": [],
   "source": [
    "# Definition for a binary tree node.\n",
    "class TreeNode:\n",
    "    def __init__(self, x):\n",
    "        self.val = x\n",
    "        self.left = None\n",
    "        self.right = None\n",
    "\n",
    "class Solution:\n",
    "    def insertIntoBST(self, root, val):\n",
    "        if root == None:\n",
    "            return TreeNode(val)\n",
    "        node = root\n",
    "        while True:\n",
    "            if val > node.val:\n",
    "                if node.right:\n",
    "                    node = node.right\n",
    "                else:\n",
    "                    node.right = TreeNode(val)\n",
    "                    break\n",
    "            else:\n",
    "                if node.left:\n",
    "                    node = node.left\n",
    "                else:\n",
    "                    node.left = TreeNode(val)\n",
    "                    break\n",
    "        return root\n",
    "        "
   ]
  },
  {
   "cell_type": "code",
   "execution_count": null,
   "metadata": {},
   "outputs": [],
   "source": [
    "# Given the root node of a binary search tree (BST) and a value to be inserted into the tree, insert the value into the BST. Return the root node of the BST after the insertion. It is guaranteed that the new value does not exist in the original BST.\n",
    "\n",
    "# Note that there may exist multiple valid ways for the insertion, as long as the tree remains a BST after insertion. You can return any of them.\n",
    "\n",
    "# For example, \n",
    "\n",
    "# Given the tree:\n",
    "#         4\n",
    "#        / \\\n",
    "#       2   7\n",
    "#      / \\\n",
    "#     1   3\n",
    "# And the value to insert: 5\n",
    "# You can return this binary search tree:\n",
    "\n",
    "#          4\n",
    "#        /   \\\n",
    "#       2     7\n",
    "#      / \\   /\n",
    "#     1   3 5\n",
    "# This tree is also valid:\n",
    "\n",
    "#          5\n",
    "#        /   \\\n",
    "#       2     7\n",
    "#      / \\   \n",
    "#     1   3\n",
    "#          \\\n",
    "#           4"
   ]
  }
 ],
 "metadata": {
  "kernelspec": {
   "display_name": "Python 3",
   "language": "python",
   "name": "python3"
  },
  "language_info": {
   "codemirror_mode": {
    "name": "ipython",
    "version": 3
   },
   "file_extension": ".py",
   "mimetype": "text/x-python",
   "name": "python",
   "nbconvert_exporter": "python",
   "pygments_lexer": "ipython3",
   "version": "3.7.1"
  }
 },
 "nbformat": 4,
 "nbformat_minor": 2
}
