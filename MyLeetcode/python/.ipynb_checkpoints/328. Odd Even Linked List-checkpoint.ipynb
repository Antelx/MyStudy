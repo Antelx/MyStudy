{
 "cells": [
  {
   "cell_type": "raw",
   "metadata": {},
   "source": [
    "328. Odd Even Linked List\n",
    "Given a singly linked list, group all odd nodes together followed by the even nodes. \n",
    "Please note here we are talking about the node number and not the value in the nodes.\n",
    "\n",
    "You should try to do it in place. The program should run in O(1) space complexity and O(nodes) time complexity.\n",
    "\n",
    "Example 1:\n",
    "\n",
    "Input: 1->2->3->4->5->NULL\n",
    "Output: 1->3->5->2->4->NULL\n",
    "Example 2:\n",
    "\n",
    "Input: 2->1->3->5->6->4->7->NULL\n",
    "Output: 2->3->6->7->1->5->4->NULL"
   ]
  },
  {
   "cell_type": "raw",
   "metadata": {},
   "source": [
    "straightforward"
   ]
  },
  {
   "cell_type": "code",
   "execution_count": 1,
   "metadata": {},
   "outputs": [
    {
     "name": "stdout",
     "output_type": "stream",
     "text": [
      "2\n",
      "3\n",
      "6\n",
      "7\n",
      "1\n",
      "5\n",
      "4\n"
     ]
    }
   ],
   "source": [
    "\n",
    "class ListNode:\n",
    "    def __init__(self, val=0, next=None):\n",
    "        self.val = val\n",
    "        self.next = next\n",
    "class Solution:\n",
    "    def oddEvenList(self, head: ListNode) -> ListNode:\n",
    "        if head is None or head.next is None or head.next.next is None:\n",
    "            return head\n",
    "        even_head = head.next\n",
    "        con = True\n",
    "        c_o = p_o = head\n",
    "        c_e = p_e = head.next\n",
    "        while True:\n",
    "            if con:\n",
    "                p_o = p_o.next.next\n",
    "                if p_o is None:\n",
    "                    break\n",
    "                c_o.next = p_o\n",
    "                c_o = p_o\n",
    "            else:\n",
    "                p_e = p_e.next.next\n",
    "                if p_e is None:\n",
    "                    break\n",
    "                c_e.next = p_e\n",
    "                c_e = p_e\n",
    "            con = not con\n",
    "        c_o.next = even_head\n",
    "        c_e.next = None\n",
    "        return head\n",
    "        \n",
    "sol = Solution()\n",
    "\n",
    "head = ListNode(2, ListNode(1,ListNode(3,ListNode(5,ListNode(6,ListNode(4, ListNode(7)))))))\n",
    "\n",
    "head = sol.oddEvenList(head)\n",
    "p = head\n",
    "while p:\n",
    "    print(p.val)\n",
    "    p = p.next"
   ]
  }
 ],
 "metadata": {
  "kernelspec": {
   "display_name": "Python 3",
   "language": "python",
   "name": "python3"
  },
  "language_info": {
   "codemirror_mode": {
    "name": "ipython",
    "version": 3
   },
   "file_extension": ".py",
   "mimetype": "text/x-python",
   "name": "python",
   "nbconvert_exporter": "python",
   "pygments_lexer": "ipython3",
   "version": "3.7.6"
  }
 },
 "nbformat": 4,
 "nbformat_minor": 4
}
