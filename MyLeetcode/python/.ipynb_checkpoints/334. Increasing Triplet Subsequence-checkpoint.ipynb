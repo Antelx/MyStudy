{
 "cells": [
  {
   "cell_type": "raw",
   "metadata": {},
   "source": [
    "334. Increasing Triplet Subsequence\n",
    "\n",
    "Given an unsorted array return whether an increasing subsequence of length 3 exists or not in the array.\n",
    "\n",
    "Formally the function should:\n",
    "\n",
    "Return true if there exists i, j, k \n",
    "such that arr[i] < arr[j] < arr[k] given 0 ≤ i < j < k ≤ n-1 else return false.\n",
    "Note: Your algorithm should run in O(n) time complexity and O(1) space complexity.\n",
    "\n",
    "Example 1:\n",
    "\n",
    "Input: [1,2,3,4,5]\n",
    "Output: true\n",
    "Example 2:\n",
    "\n",
    "Input: [5,4,3,2,1]\n",
    "Output: false"
   ]
  },
  {
   "cell_type": "code",
   "execution_count": 1,
   "metadata": {},
   "outputs": [],
   "source": [
    "\n",
    "class Solution:\n",
    "    def increasingTriplet(self, nums):\n",
    "        if len(nums) < 3:\n",
    "            return False\n",
    "        m1 = nums[0]\n",
    "        m2 = float('inf')\n",
    "        for i in nums[1:]:\n",
    "            if i < m1:\n",
    "                m1 = i\n",
    "            elif m1 < i < m2:\n",
    "                m2 = i\n",
    "            elif m2 < i:\n",
    "                return True\n",
    "        return False"
   ]
  },
  {
   "cell_type": "code",
   "execution_count": 2,
   "metadata": {},
   "outputs": [],
   "source": [
    "nums = [1, 2, 3, 4, 5]\n",
    "nums = [5,4,3,2,1]\n",
    "nums = [5,2,4,3,4,1]\n",
    "nums = [1,2,1]"
   ]
  },
  {
   "cell_type": "code",
   "execution_count": 3,
   "metadata": {},
   "outputs": [
    {
     "data": {
      "text/plain": [
       "False"
      ]
     },
     "execution_count": 3,
     "metadata": {},
     "output_type": "execute_result"
    }
   ],
   "source": [
    "sol = Solution()\n",
    "sol.increasingTriplet(nums)"
   ]
  }
 ],
 "metadata": {
  "kernelspec": {
   "display_name": "Python 3",
   "language": "python",
   "name": "python3"
  },
  "language_info": {
   "codemirror_mode": {
    "name": "ipython",
    "version": 3
   },
   "file_extension": ".py",
   "mimetype": "text/x-python",
   "name": "python",
   "nbconvert_exporter": "python",
   "pygments_lexer": "ipython3",
   "version": "3.7.1"
  }
 },
 "nbformat": 4,
 "nbformat_minor": 2
}
