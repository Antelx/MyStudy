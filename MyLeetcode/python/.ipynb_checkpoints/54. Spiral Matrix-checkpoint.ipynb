{
 "cells": [
  {
   "cell_type": "code",
   "execution_count": 6,
   "metadata": {},
   "outputs": [
    {
     "name": "stdout",
     "output_type": "stream",
     "text": [
      "[1, 2, 4, 3]\n"
     ]
    }
   ],
   "source": [
    "class Solution:\n",
    "    def __init__(self):\n",
    "        self.res = []\n",
    "    def spiralOrder(self, matrix) :\n",
    "        if len(matrix) == 0:\n",
    "            return []\n",
    "        if len(matrix[0]) ==0:\n",
    "            return []\n",
    "        def fun(u,d,l,r):\n",
    "            for i in range(l, r+1):\n",
    "                self.res.append(matrix[u][i])\n",
    "            for i in range(u+1, d+1 ):\n",
    "                self.res.append(matrix[i][r])\n",
    "            if d > u:\n",
    "                for i in range(r-1,l-1,-1):\n",
    "                    self.res.append(matrix[d][i])\n",
    "            if r > l:\n",
    "                for i in range(d-1,u,-1):\n",
    "                    self.res.append(matrix[i][l])\n",
    "        u,d,l,r = 0, len(matrix)-1 , 0, len(matrix[0])-1\n",
    "        while u <= d and l <= r:\n",
    "            fun(u,d,l,r)\n",
    "            u += 1\n",
    "            d -= 1\n",
    "            l += 1\n",
    "            r -= 1\n",
    "#             if u <= d:\n",
    "#                 u += 1\n",
    "#                 d -= 1\n",
    "#             if l <= r:\n",
    "#                 l += 1\n",
    "#                 r -= 1\n",
    "        return self.res\n",
    "matrix = [\n",
    "  [1, 2, 3, 4],\n",
    "  [5, 6, 7, 8],\n",
    "  [9,10,11,12]\n",
    "]\n",
    "# matrix = [\n",
    "#   [1, 2, 3, 4],\n",
    "#   [5, 6, 7, 8]\n",
    "# ]\n",
    "# matrix = [[1,2],[3,4]]\n",
    "sol = Solution()\n",
    "print(sol.spiralOrder(matrix))"
   ]
  },
  {
   "cell_type": "code",
   "execution_count": 2,
   "metadata": {},
   "outputs": [],
   "source": [
    "# Given a matrix of m x n elements (m rows, n columns), return all elements of the matrix in spiral order.\n",
    "\n",
    "# Example 1:\n",
    "\n",
    "# Input:\n",
    "# [\n",
    "#  [ 1, 2, 3 ],\n",
    "#  [ 4, 5, 6 ],\n",
    "#  [ 7, 8, 9 ]\n",
    "# ]\n",
    "# Output: [1,2,3,6,9,8,7,4,5]\n",
    "# Example 2:\n",
    "\n",
    "# Input:\n",
    "# [\n",
    "#   [1, 2, 3, 4],\n",
    "#   [5, 6, 7, 8],\n",
    "#   [9,10,11,12]\n",
    "# ]\n",
    "# Output: [1,2,3,4,8,12,11,10,9,5,6,7]"
   ]
  }
 ],
 "metadata": {
  "kernelspec": {
   "display_name": "Python 3",
   "language": "python",
   "name": "python3"
  },
  "language_info": {
   "codemirror_mode": {
    "name": "ipython",
    "version": 3
   },
   "file_extension": ".py",
   "mimetype": "text/x-python",
   "name": "python",
   "nbconvert_exporter": "python",
   "pygments_lexer": "ipython3",
   "version": "3.7.1"
  }
 },
 "nbformat": 4,
 "nbformat_minor": 2
}
