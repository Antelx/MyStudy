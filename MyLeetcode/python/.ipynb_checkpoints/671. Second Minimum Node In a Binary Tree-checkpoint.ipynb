{
 "cells": [
  {
   "cell_type": "code",
   "execution_count": 1,
   "metadata": {},
   "outputs": [],
   "source": [
    "# Definition for a binary tree node.\n",
    "class TreeNode:\n",
    "    def __init__(self, x):\n",
    "        self.val = x\n",
    "        self.left = None\n",
    "        self.right = None\n",
    "\n",
    "class Solution:\n",
    "    def __init__(self):\n",
    "        self.a = float(\"inf\")\n",
    "        self.b = float(\"inf\")\n",
    "    def findSecondMinimumValue(self, root) :\n",
    "        if root == None:\n",
    "            return -1\n",
    "        self.a = root.val\n",
    "        def tran(node):\n",
    "            if node == None:\n",
    "                return \n",
    "            if self.a < node.val < self.b:\n",
    "                self.b = node.val\n",
    "                return\n",
    "            tran(node.left)\n",
    "            tran(node.right)\n",
    "        tran(root)\n",
    "        if self.b == float(\"inf\"):\n",
    "            return -1\n",
    "        return self.b"
   ]
  },
  {
   "cell_type": "code",
   "execution_count": 2,
   "metadata": {},
   "outputs": [],
   "source": [
    "# Given a non-empty special binary tree consisting of nodes with the non-negative value, where each node in this tree has exactly two or zero sub-node. If the node has two sub-nodes, then this node's value is the smaller value among its two sub-nodes. More formally, the property root.val = min(root.left.val, root.right.val) always holds.\n",
    "\n",
    "# Given such a binary tree, you need to output the second minimum value in the set made of all the nodes' value in the whole tree.\n",
    "\n",
    "# If no such second minimum value exists, output -1 instead.\n",
    "\n",
    "# Example 1:\n",
    "\n",
    "# Input: \n",
    "#     2\n",
    "#    / \\\n",
    "#   2   5\n",
    "#      / \\\n",
    "#     5   7\n",
    "\n",
    "# Output: 5\n",
    "# Explanation: The smallest value is 2, the second smallest value is 5.\n",
    " \n",
    "\n",
    "# Example 2:\n",
    "\n",
    "# Input: \n",
    "#     2\n",
    "#    / \\\n",
    "#   2   2\n",
    "\n",
    "# Output: -1\n",
    "# Explanation: The smallest value is 2, but there isn't any second smallest value."
   ]
  }
 ],
 "metadata": {
  "kernelspec": {
   "display_name": "Python 3",
   "language": "python",
   "name": "python3"
  },
  "language_info": {
   "codemirror_mode": {
    "name": "ipython",
    "version": 3
   },
   "file_extension": ".py",
   "mimetype": "text/x-python",
   "name": "python",
   "nbconvert_exporter": "python",
   "pygments_lexer": "ipython3",
   "version": "3.7.1"
  }
 },
 "nbformat": 4,
 "nbformat_minor": 2
}
