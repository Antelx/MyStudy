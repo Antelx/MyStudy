{
 "cells": [
  {
   "cell_type": "code",
   "execution_count": 1,
   "metadata": {},
   "outputs": [
    {
     "name": "stdout",
     "output_type": "stream",
     "text": [
      "3\n",
      "9\n",
      "20\n",
      "15\n",
      "7\n"
     ]
    }
   ],
   "source": [
    "# Definition for a binary tree node.\n",
    "class TreeNode:\n",
    "    def __init__(self, x):\n",
    "        self.val = x\n",
    "        self.left = None\n",
    "        self.right = None\n",
    "\n",
    "class Solution:\n",
    "    def buildTree(self, inorder, postorder):\n",
    "        if inorder == []:\n",
    "            return None\n",
    "        node = TreeNode(postorder[-1])\n",
    "        p = inorder.index(postorder[-1])\n",
    "        node.left = self.buildTree(inorder[:p],postorder[:p])\n",
    "        node.right = self.buildTree(inorder[p+1:],postorder[p:-1])\n",
    "        return node\n",
    "\n",
    "sol = Solution()\n",
    "inorder = [9,3,15,20,7]\n",
    "postorder = [9,15,7,20,3]\n",
    "root = sol.buildTree(inorder, postorder)\n",
    "def tran(node):\n",
    "    if node == None:\n",
    "        return\n",
    "    print(node.val)\n",
    "    tran(node.left)\n",
    "    tran(node.right)\n",
    "tran(root)"
   ]
  },
  {
   "cell_type": "code",
   "execution_count": 2,
   "metadata": {},
   "outputs": [],
   "source": [
    "# Given inorder and postorder traversal of a tree, construct the binary tree.\n",
    "\n",
    "# Note:\n",
    "# You may assume that duplicates do not exist in the tree.\n",
    "\n",
    "# For example, given\n",
    "\n",
    "# inorder = [9,3,15,20,7]\n",
    "# postorder = [9,15,7,20,3]\n",
    "# Return the following binary tree:\n",
    "\n",
    "#     3\n",
    "#    / \\\n",
    "#   9  20\n",
    "#     /  \\\n",
    "#    15   7"
   ]
  }
 ],
 "metadata": {
  "kernelspec": {
   "display_name": "Python 3",
   "language": "python",
   "name": "python3"
  },
  "language_info": {
   "codemirror_mode": {
    "name": "ipython",
    "version": 3
   },
   "file_extension": ".py",
   "mimetype": "text/x-python",
   "name": "python",
   "nbconvert_exporter": "python",
   "pygments_lexer": "ipython3",
   "version": "3.7.1"
  }
 },
 "nbformat": 4,
 "nbformat_minor": 2
}
