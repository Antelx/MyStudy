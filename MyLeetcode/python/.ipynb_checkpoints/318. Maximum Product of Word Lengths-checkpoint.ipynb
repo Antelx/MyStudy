{
 "cells": [
  {
   "cell_type": "code",
   "execution_count": 1,
   "metadata": {},
   "outputs": [
    {
     "name": "stdout",
     "output_type": "stream",
     "text": [
      "16\n"
     ]
    }
   ],
   "source": [
    "class Solution:\n",
    "    def maxProduct(self, words):\n",
    "        def encode(s):\n",
    "            r = [\"0\" for _ in range(26)]\n",
    "            for i in s:\n",
    "                r[ord(i) - 97] = \"1\"\n",
    "            return int(\"\".join(r), 2)\n",
    "        ma = 0\n",
    "        code = [encode(s) for s in words]\n",
    "        for i in range(len(words)):\n",
    "            for j in range(i):\n",
    "                if code[i] & code[j] == 0:\n",
    "                    ma = max(ma, len(words[i]) * len(words[j]))\n",
    "        return ma\n",
    "    \n",
    "words = [\"abcw\",\"baz\",\"foo\",\"bar\",\"xtfn\",\"abcdef\"]\n",
    "sol = Solution()\n",
    "print(sol.maxProduct(words))"
   ]
  },
  {
   "cell_type": "code",
   "execution_count": 2,
   "metadata": {},
   "outputs": [],
   "source": [
    "# Given a string array words, find the maximum value of length(word[i]) * length(word[j]) where the two words do not share common letters. You may assume that each word will contain only lower case letters. If no such two words exist, return 0.\n",
    "\n",
    "# Example 1:\n",
    "\n",
    "# Input: [\"abcw\",\"baz\",\"foo\",\"bar\",\"xtfn\",\"abcdef\"]\n",
    "# Output: 16 \n",
    "# Explanation: The two words can be \"abcw\", \"xtfn\".\n",
    "# Example 2:\n",
    "\n",
    "# Input: [\"a\",\"ab\",\"abc\",\"d\",\"cd\",\"bcd\",\"abcd\"]\n",
    "# Output: 4 \n",
    "# Explanation: The two words can be \"ab\", \"cd\".\n",
    "# Example 3:\n",
    "\n",
    "# Input: [\"a\",\"aa\",\"aaa\",\"aaaa\"]\n",
    "# Output: 0 \n",
    "# Explanation: No such pair of words."
   ]
  }
 ],
 "metadata": {
  "kernelspec": {
   "display_name": "Python 3",
   "language": "python",
   "name": "python3"
  },
  "language_info": {
   "codemirror_mode": {
    "name": "ipython",
    "version": 3
   },
   "file_extension": ".py",
   "mimetype": "text/x-python",
   "name": "python",
   "nbconvert_exporter": "python",
   "pygments_lexer": "ipython3",
   "version": "3.7.1"
  }
 },
 "nbformat": 4,
 "nbformat_minor": 2
}
