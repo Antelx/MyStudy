{
 "cells": [
  {
   "cell_type": "code",
   "execution_count": 1,
   "metadata": {},
   "outputs": [
    {
     "data": {
      "text/plain": [
       "[[-2, 4], [3, 3]]"
      ]
     },
     "execution_count": 1,
     "metadata": {},
     "output_type": "execute_result"
    }
   ],
   "source": [
    "class Solution:\n",
    "    def kClosest(self, points, K):\n",
    "        def sq(x):\n",
    "            return x[0]**2 + x[1]**2\n",
    "        def heapify(i):\n",
    "            l = i*2+1\n",
    "            r = i*2+2\n",
    "            m = i  # min\n",
    "            if l<len(heap):\n",
    "                if sq(heap[i]) < sq(heap[l]):\n",
    "                    m = l\n",
    "            if r<len(heap):\n",
    "                if sq(heap[m]) < sq(heap[r]):\n",
    "                    m = r\n",
    "            if i != m:\n",
    "                heap[i], heap[m] = heap[m], heap[i]\n",
    "                heapify(m)\n",
    "        heap = [[float(\"inf\"), float(\"inf\")] for i in range(K)]\n",
    "        for i in points:\n",
    "            if sq(i) < sq(heap[0]):\n",
    "                heap[0] = i\n",
    "                heapify(0)\n",
    "        return heap\n",
    "    \n",
    "    \n",
    "points = [[3,3],[5,-1],[-2,4]]\n",
    "K = 2       \n",
    "sol = Solution()\n",
    "sol.kClosest(points, K)"
   ]
  },
  {
   "cell_type": "code",
   "execution_count": 2,
   "metadata": {},
   "outputs": [
    {
     "data": {
      "text/plain": [
       "[[3, 3], [-2, 4]]"
      ]
     },
     "execution_count": 2,
     "metadata": {},
     "output_type": "execute_result"
    }
   ],
   "source": [
    "class Solution2:\n",
    "    def kClosest(self, points, K):\n",
    "        return sorted(points, key = lambda x:x[0]**2+x[1]**2)[:K]\n",
    "    \n",
    "points = [[3,3],[5,-1],[-2,4]]\n",
    "K = 2       \n",
    "sol2 = Solution2()\n",
    "sol2.kClosest(points, K)"
   ]
  },
  {
   "cell_type": "code",
   "execution_count": 3,
   "metadata": {},
   "outputs": [],
   "source": [
    "# We have a list of points on the plane.  Find the K closest points to the origin (0, 0).\n",
    "\n",
    "# (Here, the distance between two points on a plane is the Euclidean distance.)\n",
    "\n",
    "# You may return the answer in any order.  The answer is guaranteed to be unique (except for the order that it is in.)\n",
    "\n",
    " \n",
    "\n",
    "# Example 1:\n",
    "\n",
    "# Input: points = [[1,3],[-2,2]], K = 1\n",
    "# Output: [[-2,2]]\n",
    "# Explanation: \n",
    "# The distance between (1, 3) and the origin is sqrt(10).\n",
    "# The distance between (-2, 2) and the origin is sqrt(8).\n",
    "# Since sqrt(8) < sqrt(10), (-2, 2) is closer to the origin.\n",
    "# We only want the closest K = 1 points from the origin, so the answer is just [[-2,2]].\n",
    "# Example 2:\n",
    "\n",
    "# Input: points = [[3,3],[5,-1],[-2,4]], K = 2\n",
    "# Output: [[3,3],[-2,4]]\n",
    "# (The answer [[-2,4],[3,3]] would also be accepted.)\n",
    " \n",
    "\n",
    "# Note:\n",
    "\n",
    "# 1 <= K <= points.length <= 10000\n",
    "# -10000 < points[i][0] < 10000\n",
    "# -10000 < points[i][1] < 10000"
   ]
  }
 ],
 "metadata": {
  "kernelspec": {
   "display_name": "Python 3",
   "language": "python",
   "name": "python3"
  },
  "language_info": {
   "codemirror_mode": {
    "name": "ipython",
    "version": 3
   },
   "file_extension": ".py",
   "mimetype": "text/x-python",
   "name": "python",
   "nbconvert_exporter": "python",
   "pygments_lexer": "ipython3",
   "version": "3.7.1"
  }
 },
 "nbformat": 4,
 "nbformat_minor": 2
}
