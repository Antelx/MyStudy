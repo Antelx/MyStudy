{
 "cells": [
  {
   "cell_type": "code",
   "execution_count": 1,
   "metadata": {},
   "outputs": [
    {
     "name": "stdout",
     "output_type": "stream",
     "text": [
      "ZZ\n"
     ]
    }
   ],
   "source": [
    "class Solution:\n",
    "    def convertToTitle(self, n):\n",
    "        k = 1\n",
    "        while True:\n",
    "            n -= 26 ** k\n",
    "            if n <= 0:\n",
    "                 break\n",
    "            k += 1\n",
    "        n += 26 ** k\n",
    "        res = \"\"\n",
    "        while k > 1:\n",
    "            k -= 1\n",
    "            if n % 26 ** k > 0:\n",
    "                res += chr(n // 26 ** k + 65)\n",
    "                n -= n // 26 ** k * 26 ** k      \n",
    "            else:\n",
    "                res += chr(n // 26 ** k + 64)\n",
    "                n -= (n // 26 ** k-1) * 26 ** k                      \n",
    "        return res + chr(n+64)\n",
    "            \n",
    "sol = Solution()\n",
    "n = 1910\n",
    "n = 26*26\n",
    "n = 702\n",
    "print(sol.convertToTitle(n))"
   ]
  },
  {
   "cell_type": "code",
   "execution_count": 2,
   "metadata": {},
   "outputs": [],
   "source": [
    "#imstupid"
   ]
  },
  {
   "cell_type": "code",
   "execution_count": 3,
   "metadata": {},
   "outputs": [],
   "source": [
    "# Given a positive integer, return its corresponding column title as appear in an Excel sheet.\n",
    "\n",
    "# For example:\n",
    "\n",
    "#     1 -> A\n",
    "#     2 -> B\n",
    "#     3 -> C\n",
    "#     ...\n",
    "#     26 -> Z\n",
    "#     27 -> AA\n",
    "#     28 -> AB \n",
    "#     ...\n",
    "# Example 1:\n",
    "\n",
    "# Input: 1\n",
    "# Output: \"A\"\n",
    "# Example 2:\n",
    "\n",
    "# Input: 28\n",
    "# Output: \"AB\"\n",
    "# Example 3:\n",
    "\n",
    "# Input: 701\n",
    "# Output: \"ZY\""
   ]
  }
 ],
 "metadata": {
  "kernelspec": {
   "display_name": "Python 3",
   "language": "python",
   "name": "python3"
  },
  "language_info": {
   "codemirror_mode": {
    "name": "ipython",
    "version": 3
   },
   "file_extension": ".py",
   "mimetype": "text/x-python",
   "name": "python",
   "nbconvert_exporter": "python",
   "pygments_lexer": "ipython3",
   "version": "3.7.1"
  }
 },
 "nbformat": 4,
 "nbformat_minor": 2
}
