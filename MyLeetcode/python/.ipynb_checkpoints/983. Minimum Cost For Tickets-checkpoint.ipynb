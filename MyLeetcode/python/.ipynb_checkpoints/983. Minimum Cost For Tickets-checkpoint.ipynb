{
 "cells": [
  {
   "cell_type": "code",
   "execution_count": 1,
   "metadata": {},
   "outputs": [
    {
     "name": "stdout",
     "output_type": "stream",
     "text": [
      "21\n"
     ]
    }
   ],
   "source": [
    "class Solution:\n",
    "    def mincostTickets(self, days, costs):\n",
    "        dp = [0 for _ in range(366)]\n",
    "        costs[0] = min(costs)\n",
    "        for i in range(1,366):\n",
    "            if i in days:\n",
    "                if i >= 30:\n",
    "                    dp[i] = min(costs[0] + dp[i-1], costs[1] + dp[i-7], costs[2] + dp[i-30])      \n",
    "                elif i>= 7:\n",
    "                    dp[i] = min(costs[0] + dp[i-1], costs[1] + dp[i-7])      \n",
    "                else:\n",
    "                    dp[i] = costs[0] + dp[i-1]                  \n",
    "                    \n",
    "            else:\n",
    "                if i >= 30:\n",
    "                    dp[i] = min(dp[i-1], costs[1] + dp[i-7], costs[2] + dp[i-30])      \n",
    "                elif i>= 7:\n",
    "                    dp[i] = min(dp[i-1], costs[1] + dp[i-7])      \n",
    "                else:\n",
    "                    dp[i] = dp[i-1]             \n",
    "#         print(dp)\n",
    "        return min(dp[days[-1]:])\n",
    "sol = Solution()\n",
    "days = [1,2,3,4,5,6,7,8,9,10,30,31]\n",
    "costs = [22,7,15]\n",
    "\n",
    "# days = [1,2,3,4,6,8,9,10,13,14,16,17,19,21,24,26,27,28,29]\n",
    "# costs = [3,14,50]\n",
    "print(sol.mincostTickets(days, costs))"
   ]
  },
  {
   "cell_type": "code",
   "execution_count": 2,
   "metadata": {},
   "outputs": [],
   "source": [
    "# In a country popular for train travel, you have planned some train travelling one year in advance.  The days of the year that you will travel is given as an array days.  Each day is an integer from 1 to 365.\n",
    "\n",
    "# Train tickets are sold in 3 different ways:\n",
    "\n",
    "# a 1-day pass is sold for costs[0] dollars;\n",
    "# a 7-day pass is sold for costs[1] dollars;\n",
    "# a 30-day pass is sold for costs[2] dollars.\n",
    "# The passes allow that many days of consecutive travel.  For example, if we get a 7-day pass on day 2, then we can travel for 7 days: day 2, 3, 4, 5, 6, 7, and 8.\n",
    "\n",
    "# Return the minimum number of dollars you need to travel every day in the given list of days.\n",
    "\n",
    " \n",
    "\n",
    "# Example 1:\n",
    "\n",
    "# Input: days = [1,4,6,7,8,20], costs = [2,7,15]\n",
    "# Output: 11\n",
    "# Explanation: \n",
    "# For example, here is one way to buy passes that lets you travel your travel plan:\n",
    "# On day 1, you bought a 1-day pass for costs[0] = $2, which covered day 1.\n",
    "# On day 3, you bought a 7-day pass for costs[1] = $7, which covered days 3, 4, ..., 9.\n",
    "# On day 20, you bought a 1-day pass for costs[0] = $2, which covered day 20.\n",
    "# In total you spent $11 and covered all the days of your travel.\n",
    "# Example 2:\n",
    "\n",
    "# Input: days = [1,2,3,4,5,6,7,8,9,10,30,31], costs = [2,7,15]\n",
    "# Output: 17\n",
    "# Explanation: \n",
    "# For example, here is one way to buy passes that lets you travel your travel plan:\n",
    "# On day 1, you bought a 30-day pass for costs[2] = $15 which covered days 1, 2, ..., 30.\n",
    "# On day 31, you bought a 1-day pass for costs[0] = $2 which covered day 31.\n",
    "# In total you spent $17 and covered all the days of your travel.\n",
    " \n",
    "\n",
    "# Note:\n",
    "\n",
    "# 1 <= days.length <= 365\n",
    "# 1 <= days[i] <= 365\n",
    "# days is in strictly increasing order.\n",
    "# costs.length == 3\n",
    "# 1 <= costs[i] <= 1000\n"
   ]
  }
 ],
 "metadata": {
  "kernelspec": {
   "display_name": "Python 3",
   "language": "python",
   "name": "python3"
  },
  "language_info": {
   "codemirror_mode": {
    "name": "ipython",
    "version": 3
   },
   "file_extension": ".py",
   "mimetype": "text/x-python",
   "name": "python",
   "nbconvert_exporter": "python",
   "pygments_lexer": "ipython3",
   "version": "3.7.1"
  }
 },
 "nbformat": 4,
 "nbformat_minor": 2
}
