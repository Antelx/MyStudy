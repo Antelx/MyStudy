{
 "cells": [
  {
   "cell_type": "code",
   "execution_count": 1,
   "metadata": {},
   "outputs": [
    {
     "name": "stdout",
     "output_type": "stream",
     "text": [
      "2\n"
     ]
    }
   ],
   "source": [
    "class Solution:\n",
    "    def maxDistToClosest(self, seats):\n",
    "        l = seats.index(1)\n",
    "        r = seats[::-1].index(1)\n",
    "        res = max(l, r)\n",
    "        r = len(seats) - r\n",
    "        return max(res,(max([len(j) for j in \"\".join([str(i) for i in seats[l:r]]).split(\"1\")])+1)//2)\n",
    "seats = [0,1,0,0,0,0,1,0,0]\n",
    "sol = Solution()\n",
    "print(sol.maxDistToClosest(seats))"
   ]
  },
  {
   "cell_type": "code",
   "execution_count": 2,
   "metadata": {},
   "outputs": [],
   "source": [
    "# In a row of seats, 1 represents a person sitting in that seat, and 0 represents that the seat is empty. \n",
    "\n",
    "# There is at least one empty seat, and at least one person sitting.\n",
    "\n",
    "# Alex wants to sit in the seat such that the distance between him and the closest person to him is maximized. \n",
    "\n",
    "# Return that maximum distance to closest person.\n",
    "\n",
    "# Example 1:\n",
    "\n",
    "# Input: [1,0,0,0,1,0,1]\n",
    "# Output: 2\n",
    "# Explanation: \n",
    "# If Alex sits in the second open seat (seats[2]), then the closest person has distance 2.\n",
    "# If Alex sits in any other open seat, the closest person has distance 1.\n",
    "# Thus, the maximum distance to the closest person is 2.\n",
    "# Example 2:\n",
    "\n",
    "# Input: [1,0,0,0]\n",
    "# Output: 3\n",
    "# Explanation: \n",
    "# If Alex sits in the last seat, the closest person is 3 seats away.\n",
    "# This is the maximum distance possible, so the answer is 3.\n",
    "# Note:\n",
    "\n",
    "# 1 <= seats.length <= 20000\n",
    "# seats contains only 0s or 1s, at least one 0, and at least one 1."
   ]
  }
 ],
 "metadata": {
  "kernelspec": {
   "display_name": "Python 3",
   "language": "python",
   "name": "python3"
  },
  "language_info": {
   "codemirror_mode": {
    "name": "ipython",
    "version": 3
   },
   "file_extension": ".py",
   "mimetype": "text/x-python",
   "name": "python",
   "nbconvert_exporter": "python",
   "pygments_lexer": "ipython3",
   "version": "3.7.1"
  }
 },
 "nbformat": 4,
 "nbformat_minor": 2
}
