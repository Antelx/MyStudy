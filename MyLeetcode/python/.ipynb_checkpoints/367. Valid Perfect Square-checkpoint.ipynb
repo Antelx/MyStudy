{
 "cells": [
  {
   "cell_type": "code",
   "execution_count": 1,
   "metadata": {},
   "outputs": [
    {
     "name": "stdout",
     "output_type": "stream",
     "text": [
      "True\n",
      "False\n",
      "True\n"
     ]
    }
   ],
   "source": [
    "class Solution:\n",
    "    def isPerfectSquare(self, num):\n",
    "        i = 0\n",
    "        j = num\n",
    "        while i < j:\n",
    "            p = (i + j) // 2\n",
    "            if p * p == num or i * i == num or j * j == num:\n",
    "                return True\n",
    "            if p * p < num:\n",
    "                i = p + 1\n",
    "            else:\n",
    "                j = p -1\n",
    "        return False\n",
    "        \n",
    "        \n",
    "sol = Solution()\n",
    "\n",
    "print(sol.isPerfectSquare(16))\n",
    "print(sol.isPerfectSquare(14))\n",
    "print(sol.isPerfectSquare(25))"
   ]
  },
  {
   "cell_type": "code",
   "execution_count": null,
   "metadata": {},
   "outputs": [],
   "source": [
    "# Given a positive integer num, write a function which returns True if num is a perfect square else False.\n",
    "\n",
    "# Note: Do not use any built-in library function such as sqrt.\n",
    "\n",
    "# Example 1:\n",
    "\n",
    "# Input: 16\n",
    "# Output: true\n",
    "# Example 2:\n",
    "\n",
    "# Input: 14\n",
    "# Output: false"
   ]
  }
 ],
 "metadata": {
  "kernelspec": {
   "display_name": "Python 3",
   "language": "python",
   "name": "python3"
  },
  "language_info": {
   "codemirror_mode": {
    "name": "ipython",
    "version": 3
   },
   "file_extension": ".py",
   "mimetype": "text/x-python",
   "name": "python",
   "nbconvert_exporter": "python",
   "pygments_lexer": "ipython3",
   "version": "3.7.1"
  }
 },
 "nbformat": 4,
 "nbformat_minor": 2
}
