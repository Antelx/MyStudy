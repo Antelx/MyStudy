{
 "cells": [
  {
   "cell_type": "markdown",
   "metadata": {},
   "source": [
    "Given a m * n grid, where each cell is either 0 (empty) or 1 (obstacle). In one step, you can move up, down, left or right from and to an empty cell.\n",
    "\n",
    "Return the minimum number of steps to walk from the upper left corner (0, 0) to the lower right corner (m-1, n-1) given that you can eliminate at most k obstacles. If it is not possible to find such walk return -1.\n",
    "\n",
    "\n",
    "Example 1:\n",
    "\n",
    "Input: \n",
    "grid = \n",
    "[[0,0,0],\n",
    " [1,1,0],\n",
    " [0,0,0],\n",
    " [0,1,1],\n",
    " [0,0,0]], \n",
    "k = 1\n",
    "Output: 6\n",
    "Explanation: \n",
    "The shortest path without eliminating any obstacle is 10. \n",
    "The shortest path with one obstacle elimination at position (3,2) is 6. Such path is (0,0) -> (0,1) -> (0,2) -> (1,2) -> (2,2) -> (3,2) -> (4,2).\n",
    " \n",
    "\n",
    "Example 2:\n",
    "\n",
    "Input: \n",
    "grid = \n",
    "[[0,1,1],\n",
    " [1,1,1],\n",
    " [1,0,0]], \n",
    "k = 1\n",
    "Output: -1\n",
    "Explanation: \n",
    "We need to eliminate at least two obstacles to find such a walk.\n",
    " \n",
    "\n",
    "Constraints:\n",
    "\n",
    "grid.length == m\n",
    "grid[0].length == n\n",
    "1 <= m, n <= 40\n",
    "1 <= k <= m*n\n",
    "grid[i][j] == 0 or 1\n",
    "grid[0][0] == grid[m-1][n-1] == 0"
   ]
  },
  {
   "cell_type": "code",
   "execution_count": 1,
   "metadata": {},
   "outputs": [],
   "source": [
    "# bfs  看看K步能走到哪\n",
    "#  绕远的 把撞墙的  次数进行更新， 无伤大雅"
   ]
  },
  {
   "cell_type": "code",
   "execution_count": 2,
   "metadata": {},
   "outputs": [],
   "source": [
    "class Solution:\n",
    "    def shortestPath(self, grid, k) :\n",
    "        lg = len(grid)\n",
    "        lg0 = len(grid[0])\n",
    "        if lg == 1 and lg0 == 1:\n",
    "            return 0\n",
    "        m = [[-1 for _ in range(lg0)] for __ in range(lg)]\n",
    "        res = 0\n",
    "        bfs = []\n",
    "        visit = [(0,0)]\n",
    "        m[0][0] = k\n",
    "        while visit:\n",
    "            res += 1\n",
    "            tmp = []\n",
    "            for i,j in visit:\n",
    "                if i > 0: # up\n",
    "                    if grid[i-1][j] == 0 and m[i-1][j] < m[i][j]:\n",
    "                        tmp.append((i-1,j))\n",
    "                        m[i-1][j] = m[i][j]\n",
    "                    if m[i][j] > 0 and grid[i-1][j] == 1 and m[i-1][j] < m[i][j] - 1:\n",
    "                        tmp.append((i-1,j))\n",
    "                        m[i-1][j] = m[i][j] - 1    \n",
    "                if i < lg - 1: #down\n",
    "                    if grid[i+1][j] == 0 and m[i+1][j] < m[i][j]:\n",
    "                        tmp.append((i+1,j))\n",
    "                        m[i+1][j] = m[i][j]\n",
    "                    if m[i][j] > 0 and grid[i+1][j] == 1 and m[i+1][j] < m[i][j] - 1:\n",
    "                        tmp.append((i+1,j))\n",
    "                        m[i+1][j] = m[i][j] - 1  \n",
    "                if j > 0: #left\n",
    "                    if grid[i][j-1] == 0 and m[i][j-1] < m[i][j]:\n",
    "                        tmp.append((i,j-1))\n",
    "                        m[i][j-1] = m[i][j]\n",
    "                    if m[i][j] > 0 and grid[i][j-1] == 1 and m[i][j-1] < m[i][j-1] - 1:\n",
    "                        tmp.append((i,j-1))\n",
    "                        m[i][j-1] = m[i][j] - 1    \n",
    "                if j < lg0 - 1: #right\n",
    "                    if grid[i][j+1] == 0 and m[i][j+1] < m[i][j]:\n",
    "                        tmp.append((i,j+1))\n",
    "                        m[i][j+1] = m[i][j]\n",
    "                    if m[i][j] > 0 and grid[i][j+1] == 1 and m[i][j+1] < m[i][j] - 1:\n",
    "                        tmp.append((i,j+1))\n",
    "                        m[i][j+1] = m[i][j] - 1   \n",
    "            if m[-1][-1] != -1:\n",
    "                return res\n",
    "            visit = [i for i in tmp]\n",
    "        return -1"
   ]
  },
  {
   "cell_type": "code",
   "execution_count": 3,
   "metadata": {},
   "outputs": [
    {
     "data": {
      "text/plain": [
       "6"
      ]
     },
     "execution_count": 3,
     "metadata": {},
     "output_type": "execute_result"
    }
   ],
   "source": [
    "sol = Solution()\n",
    "\n",
    "grid = \\\n",
    "[[0,0,0],\n",
    " [1,1,0],\n",
    " [0,0,0],\n",
    " [0,1,1],\n",
    " [0,0,0]]\n",
    "\n",
    "k = 1\n",
    "sol.shortestPath(grid, k)  #6\n"
   ]
  }
 ],
 "metadata": {
  "kernelspec": {
   "display_name": "Python 3",
   "language": "python",
   "name": "python3"
  },
  "language_info": {
   "codemirror_mode": {
    "name": "ipython",
    "version": 3
   },
   "file_extension": ".py",
   "mimetype": "text/x-python",
   "name": "python",
   "nbconvert_exporter": "python",
   "pygments_lexer": "ipython3",
   "version": "3.7.6"
  }
 },
 "nbformat": 4,
 "nbformat_minor": 4
}
