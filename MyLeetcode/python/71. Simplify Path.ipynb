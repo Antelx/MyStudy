{
 "cells": [
  {
   "cell_type": "raw",
   "metadata": {},
   "source": [
    "71. Simplify Path\n",
    "\n",
    "Given an absolute path for a file (Unix-style), simplify it. Or in other words, convert it to the canonical path.\n",
    "\n",
    "In a UNIX-style file system, a period . refers to the current directory. \n",
    "Furthermore, a double period .. moves the directory up a level.\n",
    "\n",
    "Note that the returned canonical path must always begin with a slash /, \n",
    "and there must be only a single slash / between two directory names. \n",
    "The last directory name (if it exists) must not end with a trailing /. Also, the canonical path must be the shortest string representing the absolute path.\n",
    "\n",
    " \n",
    "\n",
    "Example 1:\n",
    "\n",
    "Input: \"/home/\"\n",
    "Output: \"/home\"\n",
    "Explanation: Note that there is no trailing slash after the last directory name.\n",
    "Example 2:\n",
    "\n",
    "Input: \"/../\"\n",
    "Output: \"/\"\n",
    "Explanation: Going one level up from the root directory is a no-op, as the root level is the highest level you can go.\n",
    "Example 3:\n",
    "\n",
    "Input: \"/home//foo/\"\n",
    "Output: \"/home/foo\"\n",
    "Explanation: In the canonical path, multiple consecutive slashes are replaced by a single one.\n",
    "Example 4:\n",
    "\n",
    "Input: \"/a/./b/../../c/\"\n",
    "Output: \"/c\"\n",
    "Example 5:\n",
    "\n",
    "Input: \"/a/../../b/../c//.//\"\n",
    "Output: \"/c\"\n",
    "Example 6:\n",
    "\n",
    "Input: \"/a//b////c/d//././/..\"\n",
    "Output: \"/a/b/c\""
   ]
  },
  {
   "cell_type": "raw",
   "metadata": {},
   "source": [
    "栈"
   ]
  },
  {
   "cell_type": "code",
   "execution_count": 1,
   "metadata": {},
   "outputs": [
    {
     "data": {
      "text/plain": [
       "'/home'"
      ]
     },
     "execution_count": 1,
     "metadata": {},
     "output_type": "execute_result"
    }
   ],
   "source": [
    "path = \"/a//b////c/d//././/..\"\n",
    "path = \"/a/./b/../../c/\"\n",
    "path = \"/home//foo/\"\n",
    "path = \"/../\"\n",
    "path = \"/home/\"\n",
    "\n",
    "s = []\n",
    "p = path.split('/')\n",
    "while p:\n",
    "    a = p.pop(0)\n",
    "    if a == '.' or a == '':\n",
    "        continue\n",
    "    elif a == '..':\n",
    "        if s:\n",
    "            s.pop()\n",
    "    else:\n",
    "        s.append(a)\n",
    "'/'+'/'.join(s)"
   ]
  }
 ],
 "metadata": {
  "kernelspec": {
   "display_name": "Python 3",
   "language": "python",
   "name": "python3"
  },
  "language_info": {
   "codemirror_mode": {
    "name": "ipython",
    "version": 3
   },
   "file_extension": ".py",
   "mimetype": "text/x-python",
   "name": "python",
   "nbconvert_exporter": "python",
   "pygments_lexer": "ipython3",
   "version": "3.7.6"
  }
 },
 "nbformat": 4,
 "nbformat_minor": 4
}
