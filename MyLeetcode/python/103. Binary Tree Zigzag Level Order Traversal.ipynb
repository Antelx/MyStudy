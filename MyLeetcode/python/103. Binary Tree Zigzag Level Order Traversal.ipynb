{
 "cells": [
  {
   "cell_type": "code",
   "execution_count": 1,
   "metadata": {},
   "outputs": [
    {
     "name": "stdout",
     "output_type": "stream",
     "text": [
      "[[3], [20, 9], [1, 2, 15, 7], [6, 5, 4, 3]]\n"
     ]
    }
   ],
   "source": [
    "# Definition for a binary tree node.\n",
    "class TreeNode:\n",
    "    def __init__(self, x, l= None, r= None):\n",
    "        self.val = x\n",
    "        self.left = l\n",
    "        self.right = r\n",
    "\n",
    "class Solution:\n",
    "    def zigzagLevelOrder(self, root) :\n",
    "        layer = [root]\n",
    "        res = []\n",
    "        con = 1\n",
    "        while layer:\n",
    "            temp = []\n",
    "            nextLayer = []\n",
    "            for node in layer:\n",
    "                if node == None:\n",
    "                    continue\n",
    "                temp.append(node.val)\n",
    "                nextLayer.append(node.left)\n",
    "                nextLayer.append(node.right)\n",
    "\n",
    "            if con:\n",
    "                res.append(temp)\n",
    "            else:\n",
    "                res.append(temp[::-1])\n",
    "            layer = nextLayer\n",
    "            con = 1 - con\n",
    "        return res[:-1]\n",
    "    \n",
    "\n",
    "root = TreeNode(3, TreeNode(9,TreeNode(1,TreeNode(3),TreeNode(4)),TreeNode(2, TreeNode(5),TreeNode(6))), TreeNode(20, TreeNode(15), TreeNode(7)))\n",
    "sol = Solution()\n",
    "print(sol.zigzagLevelOrder(root))"
   ]
  },
  {
   "cell_type": "code",
   "execution_count": 2,
   "metadata": {},
   "outputs": [],
   "source": [
    "# Given a binary tree, return the zigzag level order traversal of its nodes' values. \n",
    "# (ie, from left to right, then right to left for the next level and alternate between).\n",
    "\n",
    "# For example:\n",
    "# Given binary tree [3,9,20,null,null,15,7],\n",
    "#     3\n",
    "#    / \\\n",
    "#   9  20\n",
    "#     /  \\\n",
    "#    15   7\n",
    "# return its zigzag level order traversal as:\n",
    "# [\n",
    "#   [3],\n",
    "#   [20,9],\n",
    "#   [15,7]\n",
    "# ]"
   ]
  },
  {
   "cell_type": "code",
   "execution_count": 3,
   "metadata": {},
   "outputs": [],
   "source": [
    "#         3\n",
    "#    9        20\n",
    "#  1   2    15  7\n",
    "# 3 4 5 6"
   ]
  }
 ],
 "metadata": {
  "kernelspec": {
   "display_name": "Python 3",
   "language": "python",
   "name": "python3"
  },
  "language_info": {
   "codemirror_mode": {
    "name": "ipython",
    "version": 3
   },
   "file_extension": ".py",
   "mimetype": "text/x-python",
   "name": "python",
   "nbconvert_exporter": "python",
   "pygments_lexer": "ipython3",
   "version": "3.7.1"
  }
 },
 "nbformat": 4,
 "nbformat_minor": 2
}
