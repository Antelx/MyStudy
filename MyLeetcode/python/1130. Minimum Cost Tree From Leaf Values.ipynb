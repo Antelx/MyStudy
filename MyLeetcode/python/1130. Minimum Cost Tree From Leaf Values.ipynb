{
 "cells": [
  {
   "cell_type": "raw",
   "metadata": {},
   "source": [
    "1130. Minimum Cost Tree From Leaf Values\n",
    "\n",
    "Given an array arr of positive integers, consider all binary trees such that:\n",
    "\n",
    "Each node has either 0 or 2 children;\n",
    "The values of arr correspond to the values of each leaf in an in-order traversal of the tree. \n",
    "(Recall that a node is a leaf if and only if it has 0 children.)\n",
    "The value of each non-leaf node is equal to the product of \n",
    "the largest leaf value in its left and right subtree respectively.\n",
    "Among all possible binary trees considered,\n",
    "return the smallest possible sum of the values of each non-leaf node. \n",
    "It is guaranteed this sum fits into a 32-bit integer.\n",
    "\n",
    " \n",
    "\n",
    "Example 1:\n",
    "\n",
    "Input: arr = [6,2,4]\n",
    "Output: 32\n",
    "Explanation:\n",
    "There are two possible trees.  The first has non-leaf node sum 36, and the second has non-leaf node sum 32.\n",
    "\n",
    "    24            24\n",
    "   /  \\          /  \\\n",
    "  12   4        6    8\n",
    " /  \\               / \\\n",
    "6    2             2   4\n",
    " \n",
    "\n",
    "Constraints:\n",
    "\n",
    "2 <= arr.length <= 40\n",
    "1 <= arr[i] <= 15\n",
    "It is guaranteed that the answer fits into a 32-bit signed integer (ie. it is less than 2^31)."
   ]
  },
  {
   "cell_type": "raw",
   "metadata": {},
   "source": [
    "相当于每次找到两个节点 然后合并成一个新节点，固定合并了n-1次\n",
    "大叶节点用到次数越少越好\n",
    "先找到小节点，然后和相邻的小节点合并"
   ]
  },
  {
   "cell_type": "code",
   "execution_count": 1,
   "metadata": {},
   "outputs": [
    {
     "name": "stdout",
     "output_type": "stream",
     "text": [
      "1 6\n",
      "2 8\n",
      "3 15\n",
      "4 28\n",
      "5 30\n",
      "6 42\n"
     ]
    },
    {
     "data": {
      "text/plain": [
       "129"
      ]
     },
     "execution_count": 1,
     "metadata": {},
     "output_type": "execute_result"
    }
   ],
   "source": [
    "arr = [1, 6, 3, 5, 7, 2, 4]\n",
    "\n",
    "res = 0\n",
    "arr = [100] + arr + [100]\n",
    "while len(arr) > 3:\n",
    "    m = min(arr)\n",
    "    ind = arr.index(m)\n",
    "    res += arr[ind] * min(arr[ind+1], arr[ind-1])\n",
    "    print(arr[ind], arr[ind] * min(arr[ind+1], arr[ind-1]))\n",
    "    arr.remove(arr[ind])\n",
    "res"
   ]
  }
 ],
 "metadata": {
  "kernelspec": {
   "display_name": "Python 3",
   "language": "python",
   "name": "python3"
  },
  "language_info": {
   "codemirror_mode": {
    "name": "ipython",
    "version": 3
   },
   "file_extension": ".py",
   "mimetype": "text/x-python",
   "name": "python",
   "nbconvert_exporter": "python",
   "pygments_lexer": "ipython3",
   "version": "3.7.6"
  }
 },
 "nbformat": 4,
 "nbformat_minor": 4
}
