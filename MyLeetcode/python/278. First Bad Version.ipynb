{
 "cells": [
  {
   "cell_type": "code",
   "execution_count": 1,
   "metadata": {},
   "outputs": [
    {
     "name": "stdout",
     "output_type": "stream",
     "text": [
      "1\n",
      "1\n",
      "1\n",
      "1\n"
     ]
    }
   ],
   "source": [
    "class Solution:\n",
    "    def firstBadVersion(self, n):\n",
    "        i = 1\n",
    "        j = n\n",
    "        while i < j:\n",
    "            if isBadVersion((i+j)//2):\n",
    "                if (i+j)//2 == 1:\n",
    "                    return 1\n",
    "                else:\n",
    "                    if not isBadVersion((i+j)//2 -1):\n",
    "                        return (i+j)//2\n",
    "                j = (i+j)//2-1\n",
    "            else:\n",
    "                i = (i+j)//2+1\n",
    "        return(i)\n",
    "n = 6\n",
    "v = 0\n",
    "\n",
    "def isBadVersion(version):\n",
    "    return version >= v\n",
    "sol = Solution()\n",
    "for n in range(1,5):\n",
    "    print(sol.firstBadVersion(n))"
   ]
  },
  {
   "cell_type": "code",
   "execution_count": 2,
   "metadata": {},
   "outputs": [],
   "source": [
    "# You are a product manager and currently leading a team to develop a new product. \n",
    "# Unfortunately, the latest version of your product fails the quality check. \n",
    "# Since each version is developed based on the previous version, all the versions after a bad version are also bad.\n",
    "\n",
    "# Suppose you have n versions [1, 2, ..., n] and you want to find out the first bad one, \n",
    "# which causes all the following ones to be bad.\n",
    "\n",
    "# You are given an API bool isBadVersion(version) which will return whether version is bad. \n",
    "# Implement a function to find the first bad version. You should minimize the number of calls to the API.\n",
    "\n",
    "# Example:\n",
    "\n",
    "# Given n = 5, and version = 4 is the first bad version.\n",
    "\n",
    "# call isBadVersion(3) -> false\n",
    "# call isBadVersion(5) -> true\n",
    "# call isBadVersion(4) -> true\n",
    "\n",
    "# Then 4 is the first bad version. "
   ]
  }
 ],
 "metadata": {
  "kernelspec": {
   "display_name": "Python 3",
   "language": "python",
   "name": "python3"
  },
  "language_info": {
   "codemirror_mode": {
    "name": "ipython",
    "version": 3
   },
   "file_extension": ".py",
   "mimetype": "text/x-python",
   "name": "python",
   "nbconvert_exporter": "python",
   "pygments_lexer": "ipython3",
   "version": "3.7.1"
  }
 },
 "nbformat": 4,
 "nbformat_minor": 2
}
