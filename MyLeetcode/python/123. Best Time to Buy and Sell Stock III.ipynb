{
 "cells": [
  {
   "cell_type": "code",
   "execution_count": 1,
   "metadata": {},
   "outputs": [
    {
     "name": "stdout",
     "output_type": "stream",
     "text": [
      "6\n"
     ]
    }
   ],
   "source": [
    "class Solution:\n",
    "    def maxProfit(self, prices):\n",
    "        if len(prices) < 2:\n",
    "            return 0\n",
    "        \n",
    "        r = [0 for _ in range(len(prices))]\n",
    "        m = 0\n",
    "        d = 0\n",
    "        t = 0\n",
    "        for i in range(1, len(prices)):\n",
    "            t = max(0, prices[i] - prices[i -1] + t)\n",
    "            if t > m:\n",
    "                m = t\n",
    "            r[i] = m\n",
    "\n",
    "        m = 0\n",
    "        d = 0\n",
    "        t = 0\n",
    "        for i in range(len(prices)-2,-1,-1):\n",
    "            t = max(0, prices[i+1] - prices[i] + t)\n",
    "            if t > m:\n",
    "                m = t\n",
    "            r[i] += m\n",
    "        return max(r)\n",
    "        \n",
    "\n",
    "sol = Solution()\n",
    "prices = [2,4,4,0,0,3,1,4]\n",
    "print(sol.maxProfit(prices))"
   ]
  },
  {
   "cell_type": "code",
   "execution_count": 2,
   "metadata": {},
   "outputs": [
    {
     "data": {
      "text/plain": [
       "[<matplotlib.lines.Line2D at 0x25fb5ecdba8>]"
      ]
     },
     "execution_count": 2,
     "metadata": {},
     "output_type": "execute_result"
    },
    {
     "data": {
      "image/png": "[encoded data removed]",
      "text/plain": [
       "<Figure size 432x288 with 1 Axes>"
      ]
     },
     "metadata": {
      "needs_background": "light"
     },
     "output_type": "display_data"
    }
   ],
   "source": [
    "import matplotlib.pyplot as plt\n",
    "%matplotlib inline\n",
    "\n",
    "plt.plot(prices)"
   ]
  },
  {
   "cell_type": "code",
   "execution_count": null,
   "metadata": {},
   "outputs": [],
   "source": []
  },
  {
   "cell_type": "code",
   "execution_count": null,
   "metadata": {},
   "outputs": [],
   "source": [
    "# Say you have an array for which the ith element is the price of a given stock on day i.\n",
    "\n",
    "# Design an algorithm to find the maximum profit. You may complete at most two transactions.\n",
    "\n",
    "# Note: You may not engage in multiple transactions at the same time (i.e., you must sell the stock before you buy again).\n",
    "\n",
    "# Example 1:\n",
    "\n",
    "# Input: [3,3,5,0,0,3,1,4]\n",
    "# Output: 6\n",
    "# Explanation: Buy on day 4 (price = 0) and sell on day 6 (price = 3), profit = 3-0 = 3.\n",
    "#              Then buy on day 7 (price = 1) and sell on day 8 (price = 4), profit = 4-1 = 3.\n",
    "# Example 2:\n",
    "\n",
    "# Input: [1,2,3,4,5]\n",
    "# Output: 4\n",
    "# Explanation: Buy on day 1 (price = 1) and sell on day 5 (price = 5), profit = 5-1 = 4.\n",
    "#              Note that you cannot buy on day 1, buy on day 2 and sell them later, as you are\n",
    "#              engaging multiple transactions at the same time. You must sell before buying again.\n",
    "# Example 3:\n",
    "\n",
    "# Input: [7,6,4,3,1]\n",
    "# Output: 0\n",
    "# Explanation: In this case, no transaction is done, i.e. max profit = 0."
   ]
  },
  {
   "cell_type": "code",
   "execution_count": null,
   "metadata": {},
   "outputs": [],
   "source": []
  }
 ],
 "metadata": {
  "kernelspec": {
   "display_name": "Python 3",
   "language": "python",
   "name": "python3"
  },
  "language_info": {
   "codemirror_mode": {
    "name": "ipython",
    "version": 3
   },
   "file_extension": ".py",
   "mimetype": "text/x-python",
   "name": "python",
   "nbconvert_exporter": "python",
   "pygments_lexer": "ipython3",
   "version": "3.7.1"
  }
 },
 "nbformat": 4,
 "nbformat_minor": 2
}
