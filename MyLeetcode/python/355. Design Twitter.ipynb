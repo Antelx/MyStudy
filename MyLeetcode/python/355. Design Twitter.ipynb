{
 "cells": [
  {
   "cell_type": "code",
   "execution_count": 1,
   "metadata": {},
   "outputs": [],
   "source": [
    "class Twitter:\n",
    "\n",
    "    def __init__(self):\n",
    "        \"\"\"\n",
    "        Initialize your data structure here.\n",
    "        \"\"\"\n",
    "        self.ts = 0 # timeStamp\n",
    "        self.f = {} # {follower: [followee]}\n",
    "        self.t = {} # {user: [(ts, tweet)]}\n",
    "        \n",
    "\n",
    "    def postTweet(self, userId, tweetId):\n",
    "        \"\"\"\n",
    "        Compose a new tweet.\n",
    "        \"\"\"\n",
    "        if userId in self.t:\n",
    "            self.t[userId].append((self.ts, tweetId))\n",
    "        else:\n",
    "            self.t[userId] = [(self.ts, tweetId)]\n",
    "        self.ts += 1\n",
    "        \n",
    "\n",
    "    def getNewsFeed(self, userId):\n",
    "        \"\"\"\n",
    "        Retrieve the 10 most recent tweet ids in the user's news feed. Each item in the news feed must be posted by users who the user followed or by the user herself. Tweets must be ordered from most recent to least recent.\n",
    "        \"\"\"\n",
    "        if userId in self.t:\n",
    "            tmp = self.t[userId][-10:]\n",
    "        else:\n",
    "            tmp = []\n",
    "        if userId in self.f:\n",
    "            for user in self.f[userId]:\n",
    "                if user in self.t:\n",
    "                    tmp.extend(self.t[user][-10:])\n",
    "        if tmp == []:\n",
    "            return []\n",
    "        return [i[1] for i in sorted(tmp, key= lambda x:-x[0])[:10]]\n",
    "            \n",
    "        \n",
    "\n",
    "    def follow(self, followerId, followeeId):\n",
    "        \"\"\"\n",
    "        Follower follows a followee. If the operation is invalid, it should be a no-op.\n",
    "        \"\"\"\n",
    "        if followeeId == followerId:\n",
    "            return\n",
    "        if followerId in self.f:\n",
    "            if followeeId in self.f[followerId]:\n",
    "                return\n",
    "            self.f[followerId].append(followeeId)\n",
    "        else:\n",
    "            self.f[followerId] = [followeeId]        \n",
    "\n",
    "    def unfollow(self, followerId, followeeId):\n",
    "        \"\"\"\n",
    "        Follower unfollows a followee. If the operation is invalid, it should be a no-op.\n",
    "        \"\"\"\n",
    "        if followeeId == followerId:\n",
    "            return\n",
    "        if followerId in self.f:\n",
    "            if followeeId in self.f[followerId]:\n",
    "                self.f[followerId].remove(followeeId)\n",
    "# Your Twitter object will be instantiated and called as such:\n",
    "# obj = Twitter()\n",
    "# obj.postTweet(userId,tweetId)\n",
    "# param_2 = obj.getNewsFeed(userId)\n",
    "# obj.follow(followerId,followeeId)\n",
    "# obj.unfollow(followerId,followeeId)"
   ]
  },
  {
   "cell_type": "code",
   "execution_count": 2,
   "metadata": {},
   "outputs": [
    {
     "name": "stdout",
     "output_type": "stream",
     "text": [
      "[5]\n",
      "[6, 5]\n",
      "[5]\n"
     ]
    }
   ],
   "source": [
    "twitter = Twitter()\n",
    "twitter.postTweet(1,5)\n",
    "print(twitter.getNewsFeed(1))\n",
    "twitter.follow(1,2)\n",
    "twitter.postTweet(2,6)\n",
    "print(twitter.getNewsFeed(1))\n",
    "twitter.unfollow(1,2)\n",
    "print(twitter.getNewsFeed(1))"
   ]
  },
  {
   "cell_type": "code",
   "execution_count": 3,
   "metadata": {},
   "outputs": [
    {
     "name": "stdout",
     "output_type": "stream",
     "text": [
      "[1]\n",
      "[1]\n",
      "[]\n"
     ]
    }
   ],
   "source": [
    "twitter = Twitter()\n",
    "twitter.postTweet(1,1)\n",
    "print(twitter.getNewsFeed(1))\n",
    "twitter.follow(2,1)\n",
    "print(twitter.getNewsFeed(2))\n",
    "twitter.unfollow(2,1)\n",
    "print(twitter.getNewsFeed(2))"
   ]
  },
  {
   "cell_type": "code",
   "execution_count": 4,
   "metadata": {},
   "outputs": [
    {
     "name": "stdout",
     "output_type": "stream",
     "text": [
      "[]\n"
     ]
    }
   ],
   "source": [
    "twitter = Twitter()\n",
    "twitter.follow(1,5)\n",
    "print(twitter.getNewsFeed(1))"
   ]
  },
  {
   "cell_type": "code",
   "execution_count": 5,
   "metadata": {},
   "outputs": [
    {
     "name": "stdout",
     "output_type": "stream",
     "text": [
      "[5]\n"
     ]
    }
   ],
   "source": [
    "twitter = Twitter()\n",
    "twitter.postTweet(1,5)\n",
    "twitter.follow(1,5)\n",
    "print(twitter.getNewsFeed(1))"
   ]
  },
  {
   "cell_type": "code",
   "execution_count": 6,
   "metadata": {},
   "outputs": [
    {
     "name": "stdout",
     "output_type": "stream",
     "text": [
      "[5]\n"
     ]
    }
   ],
   "source": [
    "twitter = Twitter()\n",
    "twitter.postTweet(1,5)\n",
    "twitter.follow(1,1)\n",
    "print(twitter.getNewsFeed(1))"
   ]
  },
  {
   "cell_type": "code",
   "execution_count": 7,
   "metadata": {},
   "outputs": [
    {
     "name": "stdout",
     "output_type": "stream",
     "text": [
      "[5]\n"
     ]
    }
   ],
   "source": [
    "twitter = Twitter()\n",
    "twitter.postTweet(2,5)\n",
    "twitter.follow(1,2)\n",
    "twitter.follow(1,2)\n",
    "print(twitter.getNewsFeed(1))"
   ]
  },
  {
   "cell_type": "code",
   "execution_count": 8,
   "metadata": {},
   "outputs": [],
   "source": [
    "# Design a simplified version of Twitter where users can post tweets, \n",
    "# follow/unfollow another user and is able to see the 10 most recent tweets in the user's news feed. \n",
    "# Your design should support the following methods:\n",
    "\n",
    "# postTweet(userId, tweetId): Compose a new tweet.\n",
    "# getNewsFeed(userId): Retrieve the 10 most recent tweet ids in the user's news feed.\n",
    "# Each item in the news feed must be posted by users who the user followed or by the user herself. \n",
    "# Tweets must be ordered from most recent to least recent.\n",
    "# follow(followerId, followeeId): Follower follows a followee.\n",
    "# unfollow(followerId, followeeId): Follower unfollows a followee.\n",
    "# Example:\n",
    "\n",
    "# Twitter twitter = new Twitter();\n",
    "\n",
    "# // User 1 posts a new tweet (id = 5).\n",
    "# twitter.postTweet(1, 5);\n",
    "\n",
    "# // User 1's news feed should return a list with 1 tweet id -> [5].\n",
    "# twitter.getNewsFeed(1);\n",
    "\n",
    "# // User 1 follows user 2.\n",
    "# twitter.follow(1, 2);\n",
    "\n",
    "# // User 2 posts a new tweet (id = 6).\n",
    "# twitter.postTweet(2, 6);\n",
    "\n",
    "# // User 1's news feed should return a list with 2 tweet ids -> [6, 5].\n",
    "# // Tweet id 6 should precede tweet id 5 because it is posted after tweet id 5.\n",
    "# twitter.getNewsFeed(1);\n",
    "\n",
    "# // User 1 unfollows user 2.\n",
    "# twitter.unfollow(1, 2);\n",
    "\n",
    "# // User 1's news feed should return a list with 1 tweet id -> [5],\n",
    "# // since user 1 is no longer following user 2.\n",
    "# twitter.getNewsFeed(1);"
   ]
  }
 ],
 "metadata": {
  "kernelspec": {
   "display_name": "Python 3",
   "language": "python",
   "name": "python3"
  },
  "language_info": {
   "codemirror_mode": {
    "name": "ipython",
    "version": 3
   },
   "file_extension": ".py",
   "mimetype": "text/x-python",
   "name": "python",
   "nbconvert_exporter": "python",
   "pygments_lexer": "ipython3",
   "version": "3.7.1"
  }
 },
 "nbformat": 4,
 "nbformat_minor": 2
}
