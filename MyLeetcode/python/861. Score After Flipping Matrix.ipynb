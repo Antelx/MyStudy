{
 "cells": [
  {
   "cell_type": "raw",
   "metadata": {},
   "source": [
    "861. Score After Flipping Matrix\n",
    "\n",
    "We have a two dimensional matrix A where each value is 0 or 1.\n",
    "\n",
    "A move consists of choosing any row or column, \n",
    "and toggling each value in that row or column: \n",
    "    changing all 0s to 1s, and all 1s to 0s.\n",
    "\n",
    "After making any number of moves, every row of this matrix is interpreted as a binary number, and the score of the matrix is the sum of these numbers.\n",
    "\n",
    "Return the highest possible score.\n",
    "\n",
    " \n",
    "\n",
    "Example 1:\n",
    "\n",
    "Input: [[0,0,1,1],[1,0,1,0],[1,1,0,0]]\n",
    "Output: 39\n",
    "Explanation:\n",
    "Toggled to [[1,1,1,1],[1,0,0,1],[1,1,1,1]].\n",
    "0b1111 + 0b1001 + 0b1111 = 15 + 9 + 15 = 39"
   ]
  },
  {
   "cell_type": "raw",
   "metadata": {},
   "source": [
    "没啥好说的，保证位数高的地方1多就行，实际进行翻转操作也没啥意义\n",
    "首先最左边的肯定得是1\n",
    "其他列越多1越行，直接计算这一列1的binary值"
   ]
  },
  {
   "cell_type": "code",
   "execution_count": 1,
   "metadata": {},
   "outputs": [
    {
     "data": {
      "text/plain": [
       "39"
      ]
     },
     "execution_count": 1,
     "metadata": {},
     "output_type": "execute_result"
    }
   ],
   "source": [
    "A = [[0,0,1,1],[1,0,1,0],[1,1,0,0]]\n",
    "# A = [[1,0],[0,1]]\n",
    "class Solution:\n",
    "    def matrixScore(self, A):\n",
    "        A = [i if i[0] == 1 else [1-j for j in i]  for i in A ]\n",
    "        h = len(A)\n",
    "        w = len(A[0])\n",
    "        res = h * 2 ** (w-1)\n",
    "        res += sum([2**(w-j-1)*max(len([i for i in range(h) if A[i][j] == 1]),h-len([i for i in range(h) if A[i][j] == 1])) for j in range(1, w)])\n",
    "        return res\n",
    "sol = Solution()\n",
    "sol.matrixScore(A)"
   ]
  }
 ],
 "metadata": {
  "kernelspec": {
   "display_name": "Python 3",
   "language": "python",
   "name": "python3"
  },
  "language_info": {
   "codemirror_mode": {
    "name": "ipython",
    "version": 3
   },
   "file_extension": ".py",
   "mimetype": "text/x-python",
   "name": "python",
   "nbconvert_exporter": "python",
   "pygments_lexer": "ipython3",
   "version": "3.7.6"
  }
 },
 "nbformat": 4,
 "nbformat_minor": 4
}
