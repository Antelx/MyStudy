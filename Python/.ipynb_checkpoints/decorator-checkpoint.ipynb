{
 "cells": [
  {
   "cell_type": "code",
   "execution_count": 1,
   "metadata": {},
   "outputs": [
    {
     "name": "stdout",
     "output_type": "stream",
     "text": [
      "aaa\n",
      "bbb\n",
      "Function is running: haha\n"
     ]
    }
   ],
   "source": [
    "from functools import wraps\n",
    "\n",
    "def decorator_1(a,b):\n",
    "    @wraps(a,b)\n",
    "    def decorator_2(f):\n",
    "        print(a)\n",
    "        @wraps(f)\n",
    "        def decorated(*args, **kwargs):\n",
    "            print(b)\n",
    "            return f(*args, **kwargs)\n",
    "        return decorated\n",
    "    return decorator_2\n",
    " \n",
    "@decorator_1(\"aaa\",\"bbb\")\n",
    "def func(x):\n",
    "    return(\"Function is running: \"+x)\n",
    " \n",
    "\n",
    "print(func(\"haha\"))"
   ]
  }
 ],
 "metadata": {
  "kernelspec": {
   "display_name": "Python 3",
   "language": "python",
   "name": "python3"
  },
  "language_info": {
   "codemirror_mode": {
    "name": "ipython",
    "version": 3
   },
   "file_extension": ".py",
   "mimetype": "text/x-python",
   "name": "python",
   "nbconvert_exporter": "python",
   "pygments_lexer": "ipython3",
   "version": "3.7.1"
  }
 },
 "nbformat": 4,
 "nbformat_minor": 2
}
