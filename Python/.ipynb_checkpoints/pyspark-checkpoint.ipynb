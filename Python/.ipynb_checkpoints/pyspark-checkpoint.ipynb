{
 "cells": [
  {
   "cell_type": "code",
   "execution_count": 1,
   "metadata": {},
   "outputs": [
    {
     "name": "stdout",
     "output_type": "stream",
     "text": [
      "Thu Aug 15 10:06:52 2019\n"
     ]
    }
   ],
   "source": [
    "from pyspark import SparkContext, SparkConf  \n",
    "from pyspark.streaming import StreamingContext   \n",
    "from pyspark.sql.session import SparkSession\n",
    "\n",
    "from pyspark.sql import SQLContext,HiveContext\n",
    "from pyspark.sql.types import *\n",
    "import elasticsearch\n",
    "import pyspark\n",
    "from pyspark.streaming import kafka\n",
    "from time import asctime\n",
    "print(asctime())"
   ]
  },
  {
   "cell_type": "code",
   "execution_count": 2,
   "metadata": {},
   "outputs": [],
   "source": [
    "sc = SparkContext()\n",
    "ss = pyspark.sql.SparkSession(sc)"
   ]
  },
  {
   "cell_type": "code",
   "execution_count": 3,
   "metadata": {},
   "outputs": [
    {
     "name": "stdout",
     "output_type": "stream",
     "text": [
      "+---+---+---+\n",
      "|  x|  y|  z|\n",
      "+---+---+---+\n",
      "|  a|  1| aa|\n",
      "|  a|  2| bb|\n",
      "|  b|  4| cc|\n",
      "|  b|  3| dd|\n",
      "|  b|  2| ee|\n",
      "+---+---+---+\n",
      "\n"
     ]
    }
   ],
   "source": [
    "a = ss.createDataFrame([(\"a\",1,\"aa\"),(\"a\",2,\"bb\"),(\"b\",4,\"cc\"),(\"b\",3,\"dd\"),(\"b\",2,\"ee\")]).toDF(\"x\",\"y\",\"z\")\n",
    "a.show()"
   ]
  },
  {
   "cell_type": "code",
   "execution_count": 4,
   "metadata": {},
   "outputs": [
    {
     "name": "stdout",
     "output_type": "stream",
     "text": [
      "+---+\n",
      "| _1|\n",
      "+---+\n",
      "| a1|\n",
      "| a2|\n",
      "| b4|\n",
      "| b3|\n",
      "| b2|\n",
      "+---+\n",
      "\n"
     ]
    }
   ],
   "source": [
    "#  usage of \"mapPartiotions\"\n",
    "b = a.rdd\n",
    "\n",
    "def g(f):\n",
    "    try:\n",
    "        x = next(f)\n",
    "        yield [x[\"x\"] + str(x[\"y\"])]\n",
    "    except StopIteration:\n",
    "        return\n",
    "    \n",
    "b.mapPartitions(g).toDF().show()"
   ]
  }
 ],
 "metadata": {
  "kernelspec": {
   "display_name": "Python 3",
   "language": "python",
   "name": "python3"
  },
  "language_info": {
   "codemirror_mode": {
    "name": "ipython",
    "version": 3
   },
   "file_extension": ".py",
   "mimetype": "text/x-python",
   "name": "python",
   "nbconvert_exporter": "python",
   "pygments_lexer": "ipython3",
   "version": "3.7.1"
  }
 },
 "nbformat": 4,
 "nbformat_minor": 2
}
