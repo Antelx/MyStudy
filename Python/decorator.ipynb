{
 "cells": [
  {
   "cell_type": "code",
   "execution_count": 1,
   "metadata": {},
   "outputs": [
    {
     "name": "stdout",
     "output_type": "stream",
     "text": [
      "hi\n",
      "100\n"
     ]
    }
   ],
   "source": [
    "def decorator(fun):\n",
    "    print(\"hi\")\n",
    "    return fun\n",
    "\n",
    "@decorator\n",
    "def f(x):\n",
    "    print(x*10)\n",
    "\n",
    "f(10)"
   ]
  },
  {
   "cell_type": "code",
   "execution_count": 2,
   "metadata": {},
   "outputs": [
    {
     "name": "stdout",
     "output_type": "stream",
     "text": [
      "aaa\n",
      "bbb\n",
      "Function is running: haha\n"
     ]
    }
   ],
   "source": [
    "from functools import wraps\n",
    "\n",
    "def decorator_1(a,b):\n",
    "    @wraps(a,b)\n",
    "    def decorator_2(f):\n",
    "        print(a)\n",
    "        @wraps(f)\n",
    "        def decorated(*args, **kwargs):\n",
    "            print(b)\n",
    "            return f(*args, **kwargs)\n",
    "        return decorated\n",
    "    return decorator_2\n",
    " \n",
    "@decorator_1(\"aaa\",\"bbb\")\n",
    "def func(x):\n",
    "    return(\"Function is running: \"+x)\n",
    " \n",
    "\n",
    "print(func(\"haha\"))"
   ]
  },
  {
   "cell_type": "code",
   "execution_count": 3,
   "metadata": {},
   "outputs": [
    {
     "name": "stdout",
     "output_type": "stream",
     "text": [
      "0\n",
      "1\n"
     ]
    }
   ],
   "source": [
    "## decorator in class\n",
    "def decor(fun):\n",
    "    def wrapper(self, *args, **kwargs):\n",
    "        print(0)\n",
    "        res = fun(self, *args, **kwargs)\n",
    "        return res\n",
    "    return wrapper\n",
    "\n",
    "class Test:\n",
    "    @decor\n",
    "    def fun(self):\n",
    "        print(1)\n",
    "        \n",
    "test = Test()\n",
    "test.fun()"
   ]
  }
 ],
 "metadata": {
  "kernelspec": {
   "display_name": "Python 3",
   "language": "python",
   "name": "python3"
  },
  "language_info": {
   "codemirror_mode": {
    "name": "ipython",
    "version": 3
   },
   "file_extension": ".py",
   "mimetype": "text/x-python",
   "name": "python",
   "nbconvert_exporter": "python",
   "pygments_lexer": "ipython3",
   "version": "3.7.1"
  }
 },
 "nbformat": 4,
 "nbformat_minor": 2
}
