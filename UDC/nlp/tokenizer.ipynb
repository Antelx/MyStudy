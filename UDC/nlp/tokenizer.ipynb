{
 "cells": [
  {
   "cell_type": "code",
   "execution_count": 1,
   "metadata": {},
   "outputs": [
    {
     "name": "stdout",
     "output_type": "stream",
     "text": [
      "--- Sample text ---\n",
      "The first time you see The Second Renaissance it may look boring. Look at it at least twice and definitely watch part 2. It will change your view of the matrix. Are the human people the ones who started the war? Is AI a bad thing?\n",
      "\n",
      "--- Sentences ---\n",
      "['The first time you see The Second Renaissance it may look boring', 'Look at it at least twice and definitely watch part 2', 'It will change your view of the matrix', 'Are the human people the ones who started the war', 'Is AI a bad thing']\n",
      "\n",
      "--- Words ---\n",
      "The first time you see The Second Renaissance it may look boring\n",
      "[['The'], ['first'], ['time'], ['you'], ['see'], ['The'], ['Second'], ['Renaissance'], ['it'], ['may'], ['look'], ['boring']]\n",
      "\n",
      "Look at it at least twice and definitely watch part 2\n",
      "[['Look'], ['at'], ['it'], ['at'], ['least'], ['twice'], ['and'], ['definitely'], ['watch'], ['part'], ['2']]\n",
      "\n",
      "It will change your view of the matrix\n",
      "[['It'], ['will'], ['change'], ['your'], ['view'], ['of'], ['the'], ['matrix']]\n",
      "\n",
      "Are the human people the ones who started the war\n",
      "[['Are'], ['the'], ['human'], ['people'], ['the'], ['ones'], ['who'], ['started'], ['the'], ['war']]\n",
      "\n",
      "Is AI a bad thing\n",
      "[['Is'], ['AI'], ['a'], ['bad'], ['thing']]\n",
      "\n"
     ]
    }
   ],
   "source": [
    "\"\"\"Splitting text data into tokens.\"\"\"\n",
    "\n",
    "import re\n",
    "\n",
    "def sent_tokenize(text):\n",
    "    \"\"\"Split text into sentences.\"\"\"\n",
    "    \n",
    "    # TODO: Split text by sentence delimiters (remove delimiters)\n",
    "    res = re.split(r\"[^0-9a-zA-Z ]\", text)\n",
    "    \n",
    "    # TODO: Remove leading and trailing spaces from each sentence\n",
    "    res = [re.split(r\"^ +| +$\", sentence) for sentence in res]\n",
    "\n",
    "    # TODO: Return a list of sentences (remove blank strings)\n",
    "    res = [\"\".join(sentence) for sentence in res]\n",
    "    res = [i for i in res if i != \"\"]\n",
    "    return res\n",
    "\n",
    "def word_tokenize(sent):\n",
    "    \"\"\"Split a sentence into words.\"\"\"\n",
    "    \n",
    "    # TODO: Split sent by word delimiters (remove delimiters)\n",
    "    res = re.split(r\"[^0-9a-zA-Z]\", sent)\n",
    "    \n",
    "    # TODO: Remove leading and trailing spaces from each word\n",
    "    res = [re.split(r\"^ +| +$\", i) for i in res]\n",
    "\n",
    "    \n",
    "    # TODO: Return a list of words (remove blank strings)\n",
    "    return res\n",
    "\n",
    "\n",
    "def test_run():\n",
    "    \"\"\"Called on Test Run.\"\"\"\n",
    "\n",
    "    text = \"The first time you see The Second Renaissance it may look boring. Look at it at least twice and definitely watch part 2. It will change your view of the matrix. Are the human people the ones who started the war? Is AI a bad thing?\"\n",
    "    print(\"--- Sample text ---\", text, sep=\"\\n\")\n",
    "    \n",
    "    sentences = sent_tokenize(text)\n",
    "    print(\"\\n--- Sentences ---\")\n",
    "    print(sentences)\n",
    "    \n",
    "    print(\"\\n--- Words ---\")\n",
    "    for sent in sentences:\n",
    "        print(sent)\n",
    "        print(word_tokenize(sent))\n",
    "        print()  # blank line for readability\n",
    "\n",
    "test_run()"
   ]
  }
 ],
 "metadata": {
  "kernelspec": {
   "display_name": "Python 3",
   "language": "python",
   "name": "python3"
  },
  "language_info": {
   "codemirror_mode": {
    "name": "ipython",
    "version": 3
   },
   "file_extension": ".py",
   "mimetype": "text/x-python",
   "name": "python",
   "nbconvert_exporter": "python",
   "pygments_lexer": "ipython3",
   "version": "3.7.3"
  }
 },
 "nbformat": 4,
 "nbformat_minor": 2
}
