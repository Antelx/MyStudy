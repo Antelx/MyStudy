{
 "cells": [
  {
   "cell_type": "markdown",
   "metadata": {},
   "source": [
    "## Step 0: Latent Dirichlet Allocation ##\n",
    "\n",
    "LDA is used to classify text in a document to a particular topic. It builds a topic per document model and words per topic model, modeled as Dirichlet distributions. \n",
    "\n",
    "* Each document is modeled as a multinomial distribution of topics and each topic is modeled as a multinomial distribution of words.\n",
    "* LDA assumes that the every chunk of text we feed into it will contain words that are somehow related. Therefore choosing the right corpus of data is crucial. \n",
    "* It also assumes documents are produced from a mixture of topics. Those topics then generate words based on their probability distribution. "
   ]
  },
  {
   "cell_type": "markdown",
   "metadata": {},
   "source": [
    "## Step 1: Load the dataset\n",
    "\n",
    "The dataset we'll use is a list of over one million news headlines published over a period of 15 years. We'll start by loading it from the `abcnews-date-text.csv` file."
   ]
  },
  {
   "cell_type": "code",
   "execution_count": 2,
   "metadata": {},
   "outputs": [],
   "source": [
    "'''\n",
    "Load the dataset from the CSV and save it to 'data_text'\n",
    "'''\n",
    "import pandas as pd\n",
    "data = pd.read_csv('abcnews-date-text.csv', error_bad_lines=False);\n",
    "# We only need the Headlines text column from the data\n",
    "data_text = data[:300000][['headline_text']];\n",
    "data_text['index'] = data_text.index\n",
    "\n",
    "documents = data_text"
   ]
  },
  {
   "cell_type": "markdown",
   "metadata": {},
   "source": [
    "Let's glance at the dataset:"
   ]
  },
  {
   "cell_type": "code",
   "execution_count": 3,
   "metadata": {},
   "outputs": [
    {
     "name": "stdout",
     "output_type": "stream",
     "text": [
      "300000\n"
     ]
    }
   ],
   "source": [
    "'''\n",
    "Get the total number of documents\n",
    "'''\n",
    "print(len(documents))"
   ]
  },
  {
   "cell_type": "code",
   "execution_count": 4,
   "metadata": {},
   "outputs": [
    {
     "data": {
      "text/html": [
       "<div>\n",
       "<style scoped>\n",
       "    .dataframe tbody tr th:only-of-type {\n",
       "        vertical-align: middle;\n",
       "    }\n",
       "\n",
       "    .dataframe tbody tr th {\n",
       "        vertical-align: top;\n",
       "    }\n",
       "\n",
       "    .dataframe thead th {\n",
       "        text-align: right;\n",
       "    }\n",
       "</style>\n",
       "<table border=\"1\" class=\"dataframe\">\n",
       "  <thead>\n",
       "    <tr style=\"text-align: right;\">\n",
       "      <th></th>\n",
       "      <th>headline_text</th>\n",
       "      <th>index</th>\n",
       "    </tr>\n",
       "  </thead>\n",
       "  <tbody>\n",
       "    <tr>\n",
       "      <th>0</th>\n",
       "      <td>aba decides against community broadcasting lic...</td>\n",
       "      <td>0</td>\n",
       "    </tr>\n",
       "    <tr>\n",
       "      <th>1</th>\n",
       "      <td>act fire witnesses must be aware of defamation</td>\n",
       "      <td>1</td>\n",
       "    </tr>\n",
       "    <tr>\n",
       "      <th>2</th>\n",
       "      <td>a g calls for infrastructure protection summit</td>\n",
       "      <td>2</td>\n",
       "    </tr>\n",
       "    <tr>\n",
       "      <th>3</th>\n",
       "      <td>air nz staff in aust strike for pay rise</td>\n",
       "      <td>3</td>\n",
       "    </tr>\n",
       "    <tr>\n",
       "      <th>4</th>\n",
       "      <td>air nz strike to affect australian travellers</td>\n",
       "      <td>4</td>\n",
       "    </tr>\n",
       "  </tbody>\n",
       "</table>\n",
       "</div>"
      ],
      "text/plain": [
       "                                       headline_text  index\n",
       "0  aba decides against community broadcasting lic...      0\n",
       "1     act fire witnesses must be aware of defamation      1\n",
       "2     a g calls for infrastructure protection summit      2\n",
       "3           air nz staff in aust strike for pay rise      3\n",
       "4      air nz strike to affect australian travellers      4"
      ]
     },
     "execution_count": 4,
     "metadata": {},
     "output_type": "execute_result"
    }
   ],
   "source": [
    "documents[:5]"
   ]
  },
  {
   "cell_type": "markdown",
   "metadata": {},
   "source": [
    "## Step 2: Data Preprocessing ##\n",
    "\n",
    "We will perform the following steps:\n",
    "\n",
    "* **Tokenization**: Split the text into sentences and the sentences into words. Lowercase the words and remove punctuation.\n",
    "* Words that have fewer than 3 characters are removed.\n",
    "* All **stopwords** are removed.\n",
    "* Words are **lemmatized** - words in third person are changed to first person and verbs in past and future tenses are changed into present.\n",
    "* Words are **stemmed** - words are reduced to their root form.\n"
   ]
  },
  {
   "cell_type": "code",
   "execution_count": 5,
   "metadata": {
    "collapsed": true
   },
   "outputs": [],
   "source": [
    "'''\n",
    "Loading Gensim and nltk libraries\n",
    "'''\n",
    "# pip install gensim\n",
    "import gensim\n",
    "from gensim.utils import simple_preprocess\n",
    "from gensim.parsing.preprocessing import STOPWORDS\n",
    "from nltk.stem import WordNetLemmatizer, SnowballStemmer\n",
    "from nltk.stem.porter import *\n",
    "import numpy as np\n",
    "np.random.seed(400)"
   ]
  },
  {
   "cell_type": "code",
   "execution_count": 6,
   "metadata": {},
   "outputs": [
    {
     "name": "stderr",
     "output_type": "stream",
     "text": [
      "[nltk_data] Downloading package wordnet to\n",
      "[nltk_data]     C:\\Users\\Administrator\\AppData\\Roaming\\nltk_data...\n",
      "[nltk_data]   Package wordnet is already up-to-date!\n"
     ]
    },
    {
     "data": {
      "text/plain": [
       "True"
      ]
     },
     "execution_count": 6,
     "metadata": {},
     "output_type": "execute_result"
    }
   ],
   "source": [
    "import nltk\n",
    "nltk.download('wordnet')"
   ]
  },
  {
   "cell_type": "markdown",
   "metadata": {},
   "source": [
    "### Lemmatizer Example\n",
    "Before preprocessing our dataset, let's first look at an lemmatizing example. What would be the output if we lemmatized the word 'went':"
   ]
  },
  {
   "cell_type": "code",
   "execution_count": 7,
   "metadata": {},
   "outputs": [
    {
     "name": "stdout",
     "output_type": "stream",
     "text": [
      "go\n"
     ]
    }
   ],
   "source": [
    "print(WordNetLemmatizer().lemmatize('went', pos = 'v')) # past tense to present tense"
   ]
  },
  {
   "cell_type": "markdown",
   "metadata": {},
   "source": [
    "### Stemmer Example\n",
    "Let's also look at a stemming example. Let's throw a number of words at the stemmer and see how it deals with each one:"
   ]
  },
  {
   "cell_type": "code",
   "execution_count": 8,
   "metadata": {},
   "outputs": [
    {
     "data": {
      "text/html": [
       "<div>\n",
       "<style scoped>\n",
       "    .dataframe tbody tr th:only-of-type {\n",
       "        vertical-align: middle;\n",
       "    }\n",
       "\n",
       "    .dataframe tbody tr th {\n",
       "        vertical-align: top;\n",
       "    }\n",
       "\n",
       "    .dataframe thead th {\n",
       "        text-align: right;\n",
       "    }\n",
       "</style>\n",
       "<table border=\"1\" class=\"dataframe\">\n",
       "  <thead>\n",
       "    <tr style=\"text-align: right;\">\n",
       "      <th></th>\n",
       "      <th>original word</th>\n",
       "      <th>stemmed</th>\n",
       "    </tr>\n",
       "  </thead>\n",
       "  <tbody>\n",
       "    <tr>\n",
       "      <th>0</th>\n",
       "      <td>caresses</td>\n",
       "      <td>caress</td>\n",
       "    </tr>\n",
       "    <tr>\n",
       "      <th>1</th>\n",
       "      <td>flies</td>\n",
       "      <td>fli</td>\n",
       "    </tr>\n",
       "    <tr>\n",
       "      <th>2</th>\n",
       "      <td>dies</td>\n",
       "      <td>die</td>\n",
       "    </tr>\n",
       "    <tr>\n",
       "      <th>3</th>\n",
       "      <td>mules</td>\n",
       "      <td>mule</td>\n",
       "    </tr>\n",
       "    <tr>\n",
       "      <th>4</th>\n",
       "      <td>denied</td>\n",
       "      <td>deni</td>\n",
       "    </tr>\n",
       "    <tr>\n",
       "      <th>5</th>\n",
       "      <td>died</td>\n",
       "      <td>die</td>\n",
       "    </tr>\n",
       "    <tr>\n",
       "      <th>6</th>\n",
       "      <td>agreed</td>\n",
       "      <td>agre</td>\n",
       "    </tr>\n",
       "    <tr>\n",
       "      <th>7</th>\n",
       "      <td>owned</td>\n",
       "      <td>own</td>\n",
       "    </tr>\n",
       "    <tr>\n",
       "      <th>8</th>\n",
       "      <td>humbled</td>\n",
       "      <td>humbl</td>\n",
       "    </tr>\n",
       "    <tr>\n",
       "      <th>9</th>\n",
       "      <td>sized</td>\n",
       "      <td>size</td>\n",
       "    </tr>\n",
       "    <tr>\n",
       "      <th>10</th>\n",
       "      <td>meeting</td>\n",
       "      <td>meet</td>\n",
       "    </tr>\n",
       "    <tr>\n",
       "      <th>11</th>\n",
       "      <td>stating</td>\n",
       "      <td>state</td>\n",
       "    </tr>\n",
       "    <tr>\n",
       "      <th>12</th>\n",
       "      <td>siezing</td>\n",
       "      <td>siez</td>\n",
       "    </tr>\n",
       "    <tr>\n",
       "      <th>13</th>\n",
       "      <td>itemization</td>\n",
       "      <td>item</td>\n",
       "    </tr>\n",
       "    <tr>\n",
       "      <th>14</th>\n",
       "      <td>sensational</td>\n",
       "      <td>sensat</td>\n",
       "    </tr>\n",
       "    <tr>\n",
       "      <th>15</th>\n",
       "      <td>traditional</td>\n",
       "      <td>tradit</td>\n",
       "    </tr>\n",
       "    <tr>\n",
       "      <th>16</th>\n",
       "      <td>reference</td>\n",
       "      <td>refer</td>\n",
       "    </tr>\n",
       "    <tr>\n",
       "      <th>17</th>\n",
       "      <td>colonizer</td>\n",
       "      <td>colon</td>\n",
       "    </tr>\n",
       "    <tr>\n",
       "      <th>18</th>\n",
       "      <td>plotted</td>\n",
       "      <td>plot</td>\n",
       "    </tr>\n",
       "  </tbody>\n",
       "</table>\n",
       "</div>"
      ],
      "text/plain": [
       "   original word stemmed\n",
       "0       caresses  caress\n",
       "1          flies     fli\n",
       "2           dies     die\n",
       "3          mules    mule\n",
       "4         denied    deni\n",
       "5           died     die\n",
       "6         agreed    agre\n",
       "7          owned     own\n",
       "8        humbled   humbl\n",
       "9          sized    size\n",
       "10       meeting    meet\n",
       "11       stating   state\n",
       "12       siezing    siez\n",
       "13   itemization    item\n",
       "14   sensational  sensat\n",
       "15   traditional  tradit\n",
       "16     reference   refer\n",
       "17     colonizer   colon\n",
       "18       plotted    plot"
      ]
     },
     "execution_count": 8,
     "metadata": {},
     "output_type": "execute_result"
    }
   ],
   "source": [
    "stemmer = SnowballStemmer(\"english\")\n",
    "original_words = ['caresses', 'flies', 'dies', 'mules', 'denied','died', 'agreed', 'owned', \n",
    "           'humbled', 'sized','meeting', 'stating', 'siezing', 'itemization','sensational', \n",
    "           'traditional', 'reference', 'colonizer','plotted']\n",
    "singles = [stemmer.stem(plural) for plural in original_words]\n",
    "\n",
    "pd.DataFrame(data={'original word':original_words, 'stemmed':singles })"
   ]
  },
  {
   "cell_type": "code",
   "execution_count": 9,
   "metadata": {
    "collapsed": true
   },
   "outputs": [],
   "source": [
    "'''\n",
    "Write a function to perform the pre processing steps on the entire dataset\n",
    "'''\n",
    "def lemmatize_stemming(text):\n",
    "    return stemmer.stem(WordNetLemmatizer().lemmatize(text, pos='v'))\n",
    "\n",
    "# Tokenize and lemmatize\n",
    "def preprocess(text):\n",
    "    result=[]\n",
    "    for token in gensim.utils.simple_preprocess(text) :\n",
    "        if token not in gensim.parsing.preprocessing.STOPWORDS and len(token) > 3:\n",
    "            # TODO: Apply lemmatize_stemming() on the token, then add to the results list\n",
    "            result.append(lemmatize_stemming(token))\n",
    "            \n",
    "    return result\n",
    "\n"
   ]
  },
  {
   "cell_type": "code",
   "execution_count": 10,
   "metadata": {},
   "outputs": [
    {
     "name": "stdout",
     "output_type": "stream",
     "text": [
      "Original document: \n",
      "['rain', 'helps', 'dampen', 'bushfires']\n",
      "\n",
      "\n",
      "Tokenized and lemmatized document: \n",
      "['rain', 'help', 'dampen', 'bushfir']\n"
     ]
    }
   ],
   "source": [
    "'''\n",
    "Preview a document after preprocessing\n",
    "'''\n",
    "document_num = 4310\n",
    "doc_sample = documents[documents['index'] == document_num].values[0][0]\n",
    "\n",
    "print(\"Original document: \")\n",
    "words = []\n",
    "for word in doc_sample.split(' '):\n",
    "    words.append(word)\n",
    "print(words)\n",
    "print(\"\\n\\nTokenized and lemmatized document: \")\n",
    "print(preprocess(doc_sample))"
   ]
  },
  {
   "cell_type": "code",
   "execution_count": 11,
   "metadata": {
    "scrolled": true
   },
   "outputs": [
    {
     "data": {
      "text/html": [
       "<div>\n",
       "<style scoped>\n",
       "    .dataframe tbody tr th:only-of-type {\n",
       "        vertical-align: middle;\n",
       "    }\n",
       "\n",
       "    .dataframe tbody tr th {\n",
       "        vertical-align: top;\n",
       "    }\n",
       "\n",
       "    .dataframe thead th {\n",
       "        text-align: right;\n",
       "    }\n",
       "</style>\n",
       "<table border=\"1\" class=\"dataframe\">\n",
       "  <thead>\n",
       "    <tr style=\"text-align: right;\">\n",
       "      <th></th>\n",
       "      <th>headline_text</th>\n",
       "      <th>index</th>\n",
       "    </tr>\n",
       "  </thead>\n",
       "  <tbody>\n",
       "    <tr>\n",
       "      <th>0</th>\n",
       "      <td>aba decides against community broadcasting lic...</td>\n",
       "      <td>0</td>\n",
       "    </tr>\n",
       "    <tr>\n",
       "      <th>1</th>\n",
       "      <td>act fire witnesses must be aware of defamation</td>\n",
       "      <td>1</td>\n",
       "    </tr>\n",
       "    <tr>\n",
       "      <th>2</th>\n",
       "      <td>a g calls for infrastructure protection summit</td>\n",
       "      <td>2</td>\n",
       "    </tr>\n",
       "    <tr>\n",
       "      <th>3</th>\n",
       "      <td>air nz staff in aust strike for pay rise</td>\n",
       "      <td>3</td>\n",
       "    </tr>\n",
       "    <tr>\n",
       "      <th>4</th>\n",
       "      <td>air nz strike to affect australian travellers</td>\n",
       "      <td>4</td>\n",
       "    </tr>\n",
       "    <tr>\n",
       "      <th>5</th>\n",
       "      <td>ambitious olsson wins triple jump</td>\n",
       "      <td>5</td>\n",
       "    </tr>\n",
       "    <tr>\n",
       "      <th>6</th>\n",
       "      <td>antic delighted with record breaking barca</td>\n",
       "      <td>6</td>\n",
       "    </tr>\n",
       "    <tr>\n",
       "      <th>7</th>\n",
       "      <td>aussie qualifier stosur wastes four memphis match</td>\n",
       "      <td>7</td>\n",
       "    </tr>\n",
       "    <tr>\n",
       "      <th>8</th>\n",
       "      <td>aust addresses un security council over iraq</td>\n",
       "      <td>8</td>\n",
       "    </tr>\n",
       "    <tr>\n",
       "      <th>9</th>\n",
       "      <td>australia is locked into war timetable opp</td>\n",
       "      <td>9</td>\n",
       "    </tr>\n",
       "  </tbody>\n",
       "</table>\n",
       "</div>"
      ],
      "text/plain": [
       "                                       headline_text  index\n",
       "0  aba decides against community broadcasting lic...      0\n",
       "1     act fire witnesses must be aware of defamation      1\n",
       "2     a g calls for infrastructure protection summit      2\n",
       "3           air nz staff in aust strike for pay rise      3\n",
       "4      air nz strike to affect australian travellers      4\n",
       "5                  ambitious olsson wins triple jump      5\n",
       "6         antic delighted with record breaking barca      6\n",
       "7  aussie qualifier stosur wastes four memphis match      7\n",
       "8       aust addresses un security council over iraq      8\n",
       "9         australia is locked into war timetable opp      9"
      ]
     },
     "execution_count": 11,
     "metadata": {},
     "output_type": "execute_result"
    }
   ],
   "source": [
    "documents[:10]"
   ]
  },
  {
   "cell_type": "markdown",
   "metadata": {},
   "source": [
    "Let's now preprocess all the news headlines we have. To do that, let's use the [map](https://pandas.pydata.org/pandas-docs/stable/generated/pandas.Series.map.html) function from pandas to apply `preprocess()` to the `headline_text` column\n",
    "\n",
    "**Note**: This may take a few minutes (it take 6 minutes on my laptop)"
   ]
  },
  {
   "cell_type": "code",
   "execution_count": 12,
   "metadata": {},
   "outputs": [],
   "source": [
    "# TODO: preprocess all the headlines, saving the list of results as 'processed_docs'\n",
    "processed_docs = documents.headline_text.map(preprocess)"
   ]
  },
  {
   "cell_type": "code",
   "execution_count": 13,
   "metadata": {},
   "outputs": [],
   "source": [
    "processed_docs = processed_docs.tolist()"
   ]
  },
  {
   "cell_type": "code",
   "execution_count": 14,
   "metadata": {},
   "outputs": [
    {
     "data": {
      "text/plain": [
       "[['decid', 'communiti', 'broadcast', 'licenc'],\n",
       " ['wit', 'awar', 'defam'],\n",
       " ['call', 'infrastructur', 'protect', 'summit'],\n",
       " ['staff', 'aust', 'strike', 'rise'],\n",
       " ['strike', 'affect', 'australian', 'travel'],\n",
       " ['ambiti', 'olsson', 'win', 'tripl', 'jump'],\n",
       " ['antic', 'delight', 'record', 'break', 'barca'],\n",
       " ['aussi', 'qualifi', 'stosur', 'wast', 'memphi', 'match'],\n",
       " ['aust', 'address', 'secur', 'council', 'iraq'],\n",
       " ['australia', 'lock', 'timet']]"
      ]
     },
     "execution_count": 14,
     "metadata": {},
     "output_type": "execute_result"
    }
   ],
   "source": [
    "'''\n",
    "Preview 'processed_docs'\n",
    "'''\n",
    "processed_docs[:10]"
   ]
  },
  {
   "cell_type": "markdown",
   "metadata": {},
   "source": [
    "## Step 3.1: Bag of words on the dataset\n",
    "\n",
    "Now let's create a dictionary from 'processed_docs' containing the number of times a word appears in the training set. To do that, let's pass `processed_docs` to [`gensim.corpora.Dictionary()`](https://radimrehurek.com/gensim/corpora/dictionary.html) and call it '`dictionary`'."
   ]
  },
  {
   "cell_type": "code",
   "execution_count": 15,
   "metadata": {
    "collapsed": true
   },
   "outputs": [],
   "source": [
    "'''\n",
    "Create a dictionary from 'processed_docs' containing the number of times a word appears \n",
    "in the training set using gensim.corpora.Dictionary and call it 'dictionary'\n",
    "'''\n",
    "dictionary = gensim.corpora.Dictionary(processed_docs)"
   ]
  },
  {
   "cell_type": "code",
   "execution_count": 16,
   "metadata": {},
   "outputs": [
    {
     "name": "stdout",
     "output_type": "stream",
     "text": [
      "0 broadcast\n",
      "1 communiti\n",
      "2 decid\n",
      "3 licenc\n",
      "4 awar\n",
      "5 defam\n",
      "6 wit\n",
      "7 call\n",
      "8 infrastructur\n",
      "9 protect\n",
      "10 summit\n"
     ]
    }
   ],
   "source": [
    "'''\n",
    "Checking dictionary created\n",
    "'''\n",
    "count = 0\n",
    "for k, v in dictionary.iteritems():\n",
    "    print(k, v)\n",
    "    count += 1\n",
    "    if count > 10:\n",
    "        break"
   ]
  },
  {
   "cell_type": "markdown",
   "metadata": {},
   "source": [
    "** Gensim filter_extremes **\n",
    "\n",
    "[`filter_extremes(no_below=5, no_above=0.5, keep_n=100000)`](https://radimrehurek.com/gensim/corpora/dictionary.html#gensim.corpora.dictionary.Dictionary.filter_extremes)\n",
    "\n",
    "Filter out tokens that appear in\n",
    "\n",
    "* less than no_below documents (absolute number) or\n",
    "* more than no_above documents (fraction of total corpus size, not absolute number).\n",
    "* after (1) and (2), keep only the first keep_n most frequent tokens (or keep all if None)."
   ]
  },
  {
   "cell_type": "code",
   "execution_count": 17,
   "metadata": {
    "collapsed": true
   },
   "outputs": [],
   "source": [
    "'''\n",
    "OPTIONAL STEP\n",
    "Remove very rare and very common words:\n",
    "\n",
    "- words appearing less than 15 times\n",
    "- words appearing in more than 10% of all documents\n",
    "'''\n",
    "# TODO: apply dictionary.filter_extremes() with the parameters mentioned above\n",
    "dictionary.filter_extremes(no_below=5, no_above=0.5, keep_n=100000)"
   ]
  },
  {
   "cell_type": "markdown",
   "metadata": {},
   "source": [
    "** Gensim doc2bow **\n",
    "\n",
    "[`doc2bow(document)`](https://radimrehurek.com/gensim/corpora/dictionary.html#gensim.corpora.dictionary.Dictionary.doc2bow)\n",
    "\n",
    "* Convert document (a list of words) into the bag-of-words format = list of (token_id, token_count) 2-tuples. Each word is assumed to be a tokenized and normalized string (either unicode or utf8-encoded). No further preprocessing is done on the words in document; apply tokenization, stemming etc. before calling this method."
   ]
  },
  {
   "cell_type": "code",
   "execution_count": 18,
   "metadata": {
    "collapsed": true
   },
   "outputs": [],
   "source": [
    "'''\n",
    "Create the Bag-of-words model for each document i.e for each document we create a dictionary reporting how many\n",
    "words and how many times those words appear. Save this to 'bow_corpus'\n",
    "'''\n",
    "# TODO\n",
    "bow_corpus = [dictionary.doc2bow(doc) for doc in processed_docs]"
   ]
  },
  {
   "cell_type": "code",
   "execution_count": 19,
   "metadata": {},
   "outputs": [
    {
     "name": "stdout",
     "output_type": "stream",
     "text": [
      "343 ['nat', 'seek', 'probe', 'bushfir', 'probe']\n"
     ]
    }
   ],
   "source": [
    "for i in range(len(processed_docs)):\n",
    "    if len(processed_docs[i]) > len(set(processed_docs[i])):\n",
    "        print(i, processed_docs[i])\n",
    "        break\n"
   ]
  },
  {
   "cell_type": "code",
   "execution_count": 20,
   "metadata": {},
   "outputs": [
    {
     "name": "stdout",
     "output_type": "stream",
     "text": [
      "['nat', 'seek', 'probe', 'bushfir', 'probe']\n"
     ]
    },
    {
     "data": {
      "text/plain": [
       "[(76, 1), (185, 1), (456, 2), (788, 1)]"
      ]
     },
     "execution_count": 20,
     "metadata": {},
     "output_type": "execute_result"
    }
   ],
   "source": [
    "num = 343\n",
    "print(processed_docs[num])\n",
    "dictionary.doc2bow(processed_docs[num])"
   ]
  },
  {
   "cell_type": "code",
   "execution_count": 21,
   "metadata": {},
   "outputs": [
    {
     "data": {
      "text/plain": [
       "[(76, 1), (113, 1), (482, 1), (4016, 1)]"
      ]
     },
     "execution_count": 21,
     "metadata": {},
     "output_type": "execute_result"
    }
   ],
   "source": [
    "'''\n",
    "Checking Bag of Words corpus for our sample document --> (token_id, token_count)\n",
    "'''\n",
    "bow_corpus[document_num]"
   ]
  },
  {
   "cell_type": "code",
   "execution_count": 22,
   "metadata": {},
   "outputs": [
    {
     "name": "stdout",
     "output_type": "stream",
     "text": [
      "Word 76 (\"bushfir\") appears 1 time.\n",
      "Word 113 (\"help\") appears 1 time.\n",
      "Word 482 (\"rain\") appears 1 time.\n",
      "Word 4016 (\"dampen\") appears 1 time.\n"
     ]
    }
   ],
   "source": [
    "'''\n",
    "Preview BOW for our sample preprocessed document\n",
    "'''\n",
    "# Here document_num is document number 4310 which we have checked in Step 2\n",
    "bow_doc_4310 = bow_corpus[document_num]\n",
    "\n",
    "for i in range(len(bow_doc_4310)):\n",
    "    print(\"Word {} (\\\"{}\\\") appears {} time.\".format(bow_doc_4310[i][0], \n",
    "                                                     dictionary[bow_doc_4310[i][0]], \n",
    "                                                     bow_doc_4310[i][1]))"
   ]
  },
  {
   "cell_type": "markdown",
   "metadata": {},
   "source": [
    "## Step 3.2: TF-IDF on our document set ##\n",
    "\n",
    "While performing TF-IDF on the corpus is not necessary for LDA implemention using the gensim model, it is recemmended. TF-IDF expects a bag-of-words (integer values) training corpus during initialization. During transformation, it will take a vector and return another vector of the same dimensionality.\n",
    "\n",
    "*Please note: The author of Gensim dictates the standard procedure for LDA to be using the Bag of Words model.*"
   ]
  },
  {
   "cell_type": "markdown",
   "metadata": {},
   "source": [
    "** TF-IDF stands for \"Term Frequency, Inverse Document Frequency\".**\n",
    "\n",
    "* It is a way to score the importance of words (or \"terms\") in a document based on how frequently they appear across multiple documents.\n",
    "* If a word appears frequently in a document, it's important. Give the word a high score. But if a word appears in many documents, it's not a unique identifier. Give the word a low score.\n",
    "* Therefore, common words like \"the\" and \"for\", which appear in many documents, will be scaled down. Words that appear frequently in a single document will be scaled up.\n",
    "\n",
    "In other words:\n",
    "\n",
    "* TF(w) = `(Number of times term w appears in a document) / (Total number of terms in the document)`.\n",
    "* IDF(w) = `log_e(Total number of documents / Number of documents with term w in it)`.\n",
    "\n",
    "** For example **\n",
    "\n",
    "* Consider a document containing `100` words wherein the word 'tiger' appears 3 times. \n",
    "* The term frequency (i.e., tf) for 'tiger' is then: \n",
    "    - `TF = (3 / 100) = 0.03`. \n",
    "\n",
    "* Now, assume we have `10 million` documents and the word 'tiger' appears in `1000` of these. Then, the inverse document frequency (i.e., idf) is calculated as:\n",
    "    - `IDF = log(10,000,000 / 1,000) = 4`. \n",
    "\n",
    "* Thus, the Tf-idf weight is the product of these quantities: \n",
    "    - `TF-IDF = 0.03 * 4 = 0.12`."
   ]
  },
  {
   "cell_type": "code",
   "execution_count": 24,
   "metadata": {},
   "outputs": [],
   "source": [
    "'''\n",
    "Create tf-idf model object using models.TfidfModel on 'bow_corpus' and save it to 'tfidf'\n",
    "'''\n",
    "from gensim import corpora, models\n",
    "\n",
    "# TODO\n",
    "tfidf = models.TfidfModel(bow_corpus)"
   ]
  },
  {
   "cell_type": "code",
   "execution_count": 25,
   "metadata": {},
   "outputs": [],
   "source": [
    "'''\n",
    "Apply transformation to the entire corpus and call it 'corpus_tfidf'\n",
    "'''\n",
    "# TODO\n",
    "corpus_tfidf = tfidf[bow_corpus]"
   ]
  },
  {
   "cell_type": "code",
   "execution_count": 27,
   "metadata": {},
   "outputs": [
    {
     "name": "stdout",
     "output_type": "stream",
     "text": [
      "[(0, 0.5959813347777092),\n",
      " (1, 0.39204529549491984),\n",
      " (2, 0.48531419274988147),\n",
      " (3, 0.5055461098578569)]\n"
     ]
    }
   ],
   "source": [
    "'''\n",
    "Preview TF-IDF scores for our first document --> --> (token_id, tfidf score)\n",
    "'''\n",
    "from pprint import pprint\n",
    "for doc in corpus_tfidf:\n",
    "    pprint(doc)\n",
    "    break"
   ]
  },
  {
   "cell_type": "markdown",
   "metadata": {},
   "source": [
    "## Step 4.1: Running LDA using Bag of Words ##\n",
    "\n",
    "We are going for 10 topics in the document corpus.\n",
    "\n",
    "** We will be running LDA using all CPU cores to parallelize and speed up model training.**\n",
    "\n",
    "Some of the parameters we will be tweaking are:\n",
    "\n",
    "* **num_topics** is the number of requested latent topics to be extracted from the training corpus.\n",
    "* **id2word** is a mapping from word ids (integers) to words (strings). It is used to determine the vocabulary size, as well as for debugging and topic printing.\n",
    "* **workers** is the number of extra processes to use for parallelization. Uses all available cores by default.\n",
    "* **alpha** and **eta** are hyperparameters that affect sparsity of the document-topic (theta) and topic-word (lambda) distributions. We will let these be the default values for now(default value is `1/num_topics`)\n",
    "    - Alpha is the per document topic distribution.\n",
    "        * High alpha: Every document has a mixture of all topics(documents appear similar to each other).\n",
    "        * Low alpha: Every document has a mixture of very few topics\n",
    "\n",
    "    - Eta is the per topic word distribution.\n",
    "        * High eta: Each topic has a mixture of most words(topics appear similar to each other).\n",
    "        * Low eta: Each topic has a mixture of few words.\n",
    "\n",
    "* ** passes ** is the number of training passes through the corpus. For  example, if the training corpus has 50,000 documents, chunksize is  10,000, passes is 2, then online training is done in 10 updates: \n",
    "    * `#1 documents 0-9,999 `\n",
    "    * `#2 documents 10,000-19,999 `\n",
    "    * `#3 documents 20,000-29,999 `\n",
    "    * `#4 documents 30,000-39,999 `\n",
    "    * `#5 documents 40,000-49,999 `\n",
    "    * `#6 documents 0-9,999 `\n",
    "    * `#7 documents 10,000-19,999 `\n",
    "    * `#8 documents 20,000-29,999 `\n",
    "    * `#9 documents 30,000-39,999 `\n",
    "    * `#10 documents 40,000-49,999` "
   ]
  },
  {
   "cell_type": "code",
   "execution_count": 28,
   "metadata": {
    "collapsed": true
   },
   "outputs": [],
   "source": [
    "# LDA mono-core -- fallback code in case LdaMulticore throws an error on your machine\n",
    "# lda_model = gensim.models.LdaModel(bow_corpus, \n",
    "#                                    num_topics = 10, \n",
    "#                                    id2word = dictionary,                                    \n",
    "#                                    passes = 50)\n",
    "\n",
    "# LDA multicore \n",
    "'''\n",
    "Train your lda model using gensim.models.LdaMulticore and save it to 'lda_model'\n",
    "'''\n",
    "# TODO\n",
    "lda_model = gensim.models.LdaMulticore(bow_corpus,num_topics=10,id2word = dictionary,passes = 2,workers=2)"
   ]
  },
  {
   "cell_type": "code",
   "execution_count": 29,
   "metadata": {},
   "outputs": [
    {
     "name": "stdout",
     "output_type": "stream",
     "text": [
      "Topic: 0.022*\"opposit\" + 0.021*\"work\" + 0.020*\"test\" + 0.018*\"talk\" + 0.017*\"probe\" + 0.016*\"call\" + 0.016*\"hold\" + 0.015*\"polic\" + 0.014*\"govt\" + 0.013*\"say\" \n",
      "Words: 0\n",
      "\n",
      "\n",
      "Topic: 0.033*\"claim\" + 0.024*\"minist\" + 0.019*\"reject\" + 0.018*\"protest\" + 0.017*\"worker\" + 0.015*\"south\" + 0.013*\"strike\" + 0.011*\"damag\" + 0.011*\"vote\" + 0.010*\"worri\" \n",
      "Words: 1\n",
      "\n",
      "\n",
      "Topic: 0.027*\"open\" + 0.016*\"hospit\" + 0.015*\"inquiri\" + 0.014*\"deal\" + 0.013*\"lead\" + 0.013*\"action\" + 0.012*\"final\" + 0.012*\"guilti\" + 0.011*\"clash\" + 0.011*\"find\" \n",
      "Words: 2\n",
      "\n",
      "\n",
      "Topic: 0.037*\"govt\" + 0.031*\"water\" + 0.023*\"urg\" + 0.020*\"fund\" + 0.019*\"plan\" + 0.015*\"group\" + 0.014*\"boost\" + 0.014*\"council\" + 0.013*\"help\" + 0.012*\"health\" \n",
      "Words: 3\n",
      "\n",
      "\n",
      "Topic: 0.023*\"nation\" + 0.022*\"labor\" + 0.017*\"win\" + 0.016*\"meet\" + 0.016*\"howard\" + 0.013*\"chang\" + 0.012*\"park\" + 0.011*\"state\" + 0.011*\"say\" + 0.010*\"liber\" \n",
      "Words: 4\n",
      "\n",
      "\n",
      "Topic: 0.033*\"polic\" + 0.017*\"arrest\" + 0.016*\"jail\" + 0.013*\"offic\" + 0.012*\"famili\" + 0.012*\"timor\" + 0.010*\"rudd\" + 0.010*\"sale\" + 0.009*\"releas\" + 0.009*\"suspect\" \n",
      "Words: 5\n",
      "\n",
      "\n",
      "Topic: 0.023*\"closer\" + 0.019*\"record\" + 0.017*\"coast\" + 0.016*\"break\" + 0.016*\"market\" + 0.014*\"busi\" + 0.012*\"gold\" + 0.011*\"trade\" + 0.011*\"rescu\" + 0.010*\"law\" \n",
      "Words: 6\n",
      "\n",
      "\n",
      "Topic: 0.036*\"polic\" + 0.034*\"kill\" + 0.033*\"crash\" + 0.029*\"death\" + 0.024*\"investig\" + 0.019*\"attack\" + 0.018*\"road\" + 0.015*\"die\" + 0.015*\"driver\" + 0.011*\"dead\" \n",
      "Words: 7\n",
      "\n",
      "\n",
      "Topic: 0.038*\"charg\" + 0.033*\"court\" + 0.031*\"face\" + 0.029*\"council\" + 0.024*\"plan\" + 0.021*\"accus\" + 0.020*\"murder\" + 0.018*\"consid\" + 0.014*\"case\" + 0.012*\"trial\" \n",
      "Words: 8\n",
      "\n",
      "\n",
      "Topic: 0.025*\"miss\" + 0.021*\"forc\" + 0.017*\"search\" + 0.014*\"world\" + 0.012*\"iraq\" + 0.012*\"close\" + 0.011*\"continu\" + 0.011*\"troop\" + 0.011*\"lose\" + 0.010*\"clear\" \n",
      "Words: 9\n",
      "\n",
      "\n"
     ]
    }
   ],
   "source": [
    "'''\n",
    "For each topic, we will explore the words occuring in that topic and its relative weight\n",
    "'''\n",
    "for idx, topic in lda_model.print_topics(-1):\n",
    "    print(\"Topic: {} \\nWords: {}\".format(topic, idx ))\n",
    "    print(\"\\n\")"
   ]
  },
  {
   "cell_type": "markdown",
   "metadata": {},
   "source": [
    "### Classification of the topics ###\n",
    "\n",
    "Using the words in each topic and their corresponding weights, what categories were you able to infer?\n",
    "\n",
    "* 0: \n",
    "* 1: \n",
    "* 2: \n",
    "* 3: \n",
    "* 4: \n",
    "* 5: \n",
    "* 6: \n",
    "* 7:  \n",
    "* 8: \n",
    "* 9: "
   ]
  },
  {
   "cell_type": "markdown",
   "metadata": {},
   "source": [
    "## Step 4.2 Running LDA using TF-IDF ##"
   ]
  },
  {
   "cell_type": "code",
   "execution_count": 30,
   "metadata": {
    "collapsed": true
   },
   "outputs": [],
   "source": [
    "'''\n",
    "Define lda model using corpus_tfidf, again using gensim.models.LdaMulticore()\n",
    "'''\n",
    "# TODO\n",
    "lda_model_tfidf = gensim.models.LdaMulticore(corpus_tfidf, \n",
    "                                             num_topics=10, \n",
    "                                             id2word = dictionary, \n",
    "                                             passes = 2, \n",
    "                                             workers=4)"
   ]
  },
  {
   "cell_type": "code",
   "execution_count": 31,
   "metadata": {},
   "outputs": [
    {
     "name": "stdout",
     "output_type": "stream",
     "text": [
      "Topic: 0 Word: 0.031*\"closer\" + 0.010*\"assault\" + 0.009*\"guilti\" + 0.006*\"plead\" + 0.006*\"charg\" + 0.005*\"court\" + 0.005*\"test\" + 0.005*\"australia\" + 0.005*\"england\" + 0.005*\"face\"\n",
      "\n",
      "\n",
      "Topic: 1 Word: 0.009*\"timor\" + 0.008*\"elect\" + 0.008*\"east\" + 0.007*\"wind\" + 0.007*\"violenc\" + 0.007*\"iraq\" + 0.005*\"farm\" + 0.005*\"govt\" + 0.005*\"hill\" + 0.005*\"troop\"\n",
      "\n",
      "\n",
      "Topic: 2 Word: 0.014*\"water\" + 0.010*\"price\" + 0.007*\"govt\" + 0.007*\"plan\" + 0.006*\"farmer\" + 0.006*\"urg\" + 0.005*\"council\" + 0.005*\"restrict\" + 0.005*\"drought\" + 0.005*\"rise\"\n",
      "\n",
      "\n",
      "Topic: 3 Word: 0.009*\"council\" + 0.009*\"govt\" + 0.008*\"fund\" + 0.007*\"indigen\" + 0.006*\"plan\" + 0.006*\"climat\" + 0.005*\"boost\" + 0.005*\"centr\" + 0.005*\"firefight\" + 0.005*\"chang\"\n",
      "\n",
      "\n",
      "Topic: 4 Word: 0.008*\"bird\" + 0.008*\"rudd\" + 0.006*\"lebanon\" + 0.005*\"retir\" + 0.005*\"gaza\" + 0.005*\"kangaroo\" + 0.005*\"raid\" + 0.004*\"plan\" + 0.004*\"isra\" + 0.004*\"phone\"\n",
      "\n",
      "\n",
      "Topic: 5 Word: 0.006*\"market\" + 0.006*\"celebr\" + 0.006*\"teacher\" + 0.005*\"afghanistan\" + 0.005*\"cyclon\" + 0.005*\"honour\" + 0.005*\"plan\" + 0.005*\"recycl\" + 0.004*\"share\" + 0.004*\"govt\"\n",
      "\n",
      "\n",
      "Topic: 6 Word: 0.010*\"nuclear\" + 0.007*\"solomon\" + 0.007*\"west\" + 0.006*\"wast\" + 0.006*\"dump\" + 0.005*\"north\" + 0.005*\"iran\" + 0.005*\"fiji\" + 0.005*\"track\" + 0.004*\"govt\"\n",
      "\n",
      "\n",
      "Topic: 7 Word: 0.009*\"govt\" + 0.007*\"urg\" + 0.006*\"health\" + 0.006*\"driver\" + 0.006*\"polic\" + 0.006*\"hick\" + 0.006*\"safeti\" + 0.006*\"fish\" + 0.006*\"highway\" + 0.005*\"care\"\n",
      "\n",
      "\n",
      "Topic: 8 Word: 0.021*\"crash\" + 0.016*\"polic\" + 0.013*\"miss\" + 0.011*\"kill\" + 0.010*\"investig\" + 0.010*\"search\" + 0.009*\"fatal\" + 0.008*\"death\" + 0.008*\"accid\" + 0.007*\"road\"\n",
      "\n",
      "\n",
      "Topic: 9 Word: 0.012*\"polic\" + 0.012*\"murder\" + 0.012*\"charg\" + 0.009*\"court\" + 0.008*\"arrest\" + 0.007*\"kill\" + 0.007*\"suspect\" + 0.007*\"face\" + 0.006*\"bomb\" + 0.006*\"attack\"\n",
      "\n",
      "\n"
     ]
    }
   ],
   "source": [
    "'''\n",
    "For each topic, we will explore the words occuring in that topic and its relative weight\n",
    "'''\n",
    "for idx, topic in lda_model_tfidf.print_topics(-1):\n",
    "    print(\"Topic: {} Word: {}\".format(idx, topic))\n",
    "    print(\"\\n\")"
   ]
  },
  {
   "cell_type": "markdown",
   "metadata": {},
   "source": [
    "### Classification of the topics ###\n",
    "\n",
    "As we can see, when using tf-idf, heavier weights are given to words that are not as frequent which results in nouns being factored in. That makes it harder to figure out the categories as nouns can be hard to categorize. This goes to show that the models we apply depend on the type of corpus of text we are dealing with. \n",
    "\n",
    "Using the words in each topic and their corresponding weights, what categories could you find?\n",
    "\n",
    "* 0: \n",
    "* 1:  \n",
    "* 2: \n",
    "* 3: \n",
    "* 4:  \n",
    "* 5: \n",
    "* 6: \n",
    "* 7: \n",
    "* 8: \n",
    "* 9: "
   ]
  },
  {
   "cell_type": "markdown",
   "metadata": {},
   "source": [
    "## Step 5.1: Performance evaluation by classifying sample document using LDA Bag of Words model##\n",
    "\n",
    "We will check to see where our test document would be classified. "
   ]
  },
  {
   "cell_type": "code",
   "execution_count": 32,
   "metadata": {},
   "outputs": [
    {
     "data": {
      "text/plain": [
       "['rain', 'help', 'dampen', 'bushfir']"
      ]
     },
     "execution_count": 32,
     "metadata": {},
     "output_type": "execute_result"
    }
   ],
   "source": [
    "'''\n",
    "Text of sample document 4310\n",
    "'''\n",
    "processed_docs[4310]"
   ]
  },
  {
   "cell_type": "code",
   "execution_count": 33,
   "metadata": {},
   "outputs": [
    {
     "name": "stdout",
     "output_type": "stream",
     "text": [
      "\n",
      "Score: 0.6194544434547424\t \n",
      "Topic: 0.037*\"govt\" + 0.031*\"water\" + 0.023*\"urg\" + 0.020*\"fund\" + 0.019*\"plan\" + 0.015*\"group\" + 0.014*\"boost\" + 0.014*\"council\" + 0.013*\"help\" + 0.012*\"health\"\n",
      "\n",
      "Score: 0.2204703986644745\t \n",
      "Topic: 0.025*\"miss\" + 0.021*\"forc\" + 0.017*\"search\" + 0.014*\"world\" + 0.012*\"iraq\" + 0.012*\"close\" + 0.011*\"continu\" + 0.011*\"troop\" + 0.011*\"lose\" + 0.010*\"clear\"\n",
      "\n",
      "Score: 0.02001596987247467\t \n",
      "Topic: 0.027*\"open\" + 0.016*\"hospit\" + 0.015*\"inquiri\" + 0.014*\"deal\" + 0.013*\"lead\" + 0.013*\"action\" + 0.012*\"final\" + 0.012*\"guilti\" + 0.011*\"clash\" + 0.011*\"find\"\n",
      "\n",
      "Score: 0.02001122385263443\t \n",
      "Topic: 0.022*\"opposit\" + 0.021*\"work\" + 0.020*\"test\" + 0.018*\"talk\" + 0.017*\"probe\" + 0.016*\"call\" + 0.016*\"hold\" + 0.015*\"polic\" + 0.014*\"govt\" + 0.013*\"say\"\n",
      "\n",
      "Score: 0.02000998705625534\t \n",
      "Topic: 0.033*\"polic\" + 0.017*\"arrest\" + 0.016*\"jail\" + 0.013*\"offic\" + 0.012*\"famili\" + 0.012*\"timor\" + 0.010*\"rudd\" + 0.010*\"sale\" + 0.009*\"releas\" + 0.009*\"suspect\"\n",
      "\n",
      "Score: 0.02000913769006729\t \n",
      "Topic: 0.038*\"charg\" + 0.033*\"court\" + 0.031*\"face\" + 0.029*\"council\" + 0.024*\"plan\" + 0.021*\"accus\" + 0.020*\"murder\" + 0.018*\"consid\" + 0.014*\"case\" + 0.012*\"trial\"\n",
      "\n",
      "Score: 0.02000756748020649\t \n",
      "Topic: 0.023*\"closer\" + 0.019*\"record\" + 0.017*\"coast\" + 0.016*\"break\" + 0.016*\"market\" + 0.014*\"busi\" + 0.012*\"gold\" + 0.011*\"trade\" + 0.011*\"rescu\" + 0.010*\"law\"\n",
      "\n",
      "Score: 0.020007139071822166\t \n",
      "Topic: 0.023*\"nation\" + 0.022*\"labor\" + 0.017*\"win\" + 0.016*\"meet\" + 0.016*\"howard\" + 0.013*\"chang\" + 0.012*\"park\" + 0.011*\"state\" + 0.011*\"say\" + 0.010*\"liber\"\n",
      "\n",
      "Score: 0.020007092505693436\t \n",
      "Topic: 0.033*\"claim\" + 0.024*\"minist\" + 0.019*\"reject\" + 0.018*\"protest\" + 0.017*\"worker\" + 0.015*\"south\" + 0.013*\"strike\" + 0.011*\"damag\" + 0.011*\"vote\" + 0.010*\"worri\"\n",
      "\n",
      "Score: 0.02000708505511284\t \n",
      "Topic: 0.036*\"polic\" + 0.034*\"kill\" + 0.033*\"crash\" + 0.029*\"death\" + 0.024*\"investig\" + 0.019*\"attack\" + 0.018*\"road\" + 0.015*\"die\" + 0.015*\"driver\" + 0.011*\"dead\"\n"
     ]
    }
   ],
   "source": [
    "'''\n",
    "Check which topic our test document belongs to using the LDA Bag of Words model.\n",
    "'''\n",
    "document_num = 4310\n",
    "# Our test document is document number 4310\n",
    "\n",
    "# TODO\n",
    "# Our test document is document number 4310\n",
    "for index, score in sorted(lda_model[bow_corpus[document_num]], key=lambda tup: -1*tup[1]):\n",
    "    print(\"\\nScore: {}\\t \\nTopic: {}\".format(score, lda_model.print_topic(index, 10)))"
   ]
  },
  {
   "cell_type": "markdown",
   "metadata": {},
   "source": [
    "### It has the highest probability (`x`) to be  part of the topic that we assigned as X, which is the accurate classification. ###"
   ]
  },
  {
   "cell_type": "markdown",
   "metadata": {},
   "source": [
    "## Step 5.2: Performance evaluation by classifying sample document using LDA TF-IDF model##"
   ]
  },
  {
   "cell_type": "code",
   "execution_count": 34,
   "metadata": {},
   "outputs": [
    {
     "name": "stdout",
     "output_type": "stream",
     "text": [
      "\n",
      "Score: 0.49827632308006287\t \n",
      "Topic: 0.014*\"water\" + 0.010*\"price\" + 0.007*\"govt\" + 0.007*\"plan\" + 0.006*\"farmer\" + 0.006*\"urg\" + 0.005*\"council\" + 0.005*\"restrict\" + 0.005*\"drought\" + 0.005*\"rise\"\n",
      "\n",
      "Score: 0.3416730761528015\t \n",
      "Topic: 0.012*\"polic\" + 0.012*\"murder\" + 0.012*\"charg\" + 0.009*\"court\" + 0.008*\"arrest\" + 0.007*\"kill\" + 0.007*\"suspect\" + 0.007*\"face\" + 0.006*\"bomb\" + 0.006*\"attack\"\n",
      "\n",
      "Score: 0.020007828250527382\t \n",
      "Topic: 0.009*\"timor\" + 0.008*\"elect\" + 0.008*\"east\" + 0.007*\"wind\" + 0.007*\"violenc\" + 0.007*\"iraq\" + 0.005*\"farm\" + 0.005*\"govt\" + 0.005*\"hill\" + 0.005*\"troop\"\n",
      "\n",
      "Score: 0.020007489249110222\t \n",
      "Topic: 0.009*\"govt\" + 0.007*\"urg\" + 0.006*\"health\" + 0.006*\"driver\" + 0.006*\"polic\" + 0.006*\"hick\" + 0.006*\"safeti\" + 0.006*\"fish\" + 0.006*\"highway\" + 0.005*\"care\"\n",
      "\n",
      "Score: 0.020007355138659477\t \n",
      "Topic: 0.021*\"crash\" + 0.016*\"polic\" + 0.013*\"miss\" + 0.011*\"kill\" + 0.010*\"investig\" + 0.010*\"search\" + 0.009*\"fatal\" + 0.008*\"death\" + 0.008*\"accid\" + 0.007*\"road\"\n",
      "\n",
      "Score: 0.020006753504276276\t \n",
      "Topic: 0.009*\"council\" + 0.009*\"govt\" + 0.008*\"fund\" + 0.007*\"indigen\" + 0.006*\"plan\" + 0.006*\"climat\" + 0.005*\"boost\" + 0.005*\"centr\" + 0.005*\"firefight\" + 0.005*\"chang\"\n",
      "\n",
      "Score: 0.020005468279123306\t \n",
      "Topic: 0.008*\"bird\" + 0.008*\"rudd\" + 0.006*\"lebanon\" + 0.005*\"retir\" + 0.005*\"gaza\" + 0.005*\"kangaroo\" + 0.005*\"raid\" + 0.004*\"plan\" + 0.004*\"isra\" + 0.004*\"phone\"\n",
      "\n",
      "Score: 0.02000546082854271\t \n",
      "Topic: 0.010*\"nuclear\" + 0.007*\"solomon\" + 0.007*\"west\" + 0.006*\"wast\" + 0.006*\"dump\" + 0.005*\"north\" + 0.005*\"iran\" + 0.005*\"fiji\" + 0.005*\"track\" + 0.004*\"govt\"\n",
      "\n",
      "Score: 0.020005453377962112\t \n",
      "Topic: 0.006*\"market\" + 0.006*\"celebr\" + 0.006*\"teacher\" + 0.005*\"afghanistan\" + 0.005*\"cyclon\" + 0.005*\"honour\" + 0.005*\"plan\" + 0.005*\"recycl\" + 0.004*\"share\" + 0.004*\"govt\"\n",
      "\n",
      "Score: 0.020004769787192345\t \n",
      "Topic: 0.031*\"closer\" + 0.010*\"assault\" + 0.009*\"guilti\" + 0.006*\"plead\" + 0.006*\"charg\" + 0.005*\"court\" + 0.005*\"test\" + 0.005*\"australia\" + 0.005*\"england\" + 0.005*\"face\"\n"
     ]
    }
   ],
   "source": [
    "'''\n",
    "Check which topic our test document belongs to using the LDA TF-IDF model.\n",
    "'''\n",
    "# Our test document is document number 4310\n",
    "for index, score in sorted(lda_model_tfidf[bow_corpus[document_num]], key=lambda tup: -1*tup[1]):\n",
    "    print(\"\\nScore: {}\\t \\nTopic: {}\".format(score, lda_model_tfidf.print_topic(index, 10)))"
   ]
  },
  {
   "cell_type": "markdown",
   "metadata": {},
   "source": [
    "### It has the highest probability (`x%`) to be  part of the topic that we assigned as X. ###"
   ]
  },
  {
   "cell_type": "markdown",
   "metadata": {},
   "source": [
    "## Step 6: Testing model on unseen document ##"
   ]
  },
  {
   "cell_type": "code",
   "execution_count": 35,
   "metadata": {
    "collapsed": true
   },
   "outputs": [
    {
     "name": "stdout",
     "output_type": "stream",
     "text": [
      "Score: 0.37880003452301025\t Topic: 0.036*\"polic\" + 0.034*\"kill\" + 0.033*\"crash\" + 0.029*\"death\" + 0.024*\"investig\"\n",
      "Score: 0.26118212938308716\t Topic: 0.022*\"opposit\" + 0.021*\"work\" + 0.020*\"test\" + 0.018*\"talk\" + 0.017*\"probe\"\n",
      "Score: 0.21998809278011322\t Topic: 0.023*\"nation\" + 0.022*\"labor\" + 0.017*\"win\" + 0.016*\"meet\" + 0.016*\"howard\"\n",
      "Score: 0.020004838705062866\t Topic: 0.033*\"polic\" + 0.017*\"arrest\" + 0.016*\"jail\" + 0.013*\"offic\" + 0.012*\"famili\"\n",
      "Score: 0.02000431716442108\t Topic: 0.038*\"charg\" + 0.033*\"court\" + 0.031*\"face\" + 0.029*\"council\" + 0.024*\"plan\"\n",
      "Score: 0.020004145801067352\t Topic: 0.037*\"govt\" + 0.031*\"water\" + 0.023*\"urg\" + 0.020*\"fund\" + 0.019*\"plan\"\n",
      "Score: 0.02000412344932556\t Topic: 0.027*\"open\" + 0.016*\"hospit\" + 0.015*\"inquiri\" + 0.014*\"deal\" + 0.013*\"lead\"\n",
      "Score: 0.020004115998744965\t Topic: 0.023*\"closer\" + 0.019*\"record\" + 0.017*\"coast\" + 0.016*\"break\" + 0.016*\"market\"\n",
      "Score: 0.020004110410809517\t Topic: 0.033*\"claim\" + 0.024*\"minist\" + 0.019*\"reject\" + 0.018*\"protest\" + 0.017*\"worker\"\n",
      "Score: 0.020004110410809517\t Topic: 0.025*\"miss\" + 0.021*\"forc\" + 0.017*\"search\" + 0.014*\"world\" + 0.012*\"iraq\"\n"
     ]
    }
   ],
   "source": [
    "unseen_document = \"My favorite sports activities are running and swimming.\"\n",
    "\n",
    "# Data preprocessing step for the unseen document\n",
    "bow_vector = dictionary.doc2bow(preprocess(unseen_document))\n",
    "\n",
    "for index, score in sorted(lda_model[bow_vector], key=lambda tup: -1*tup[1]):\n",
    "    print(\"Score: {}\\t Topic: {}\".format(score, lda_model.print_topic(index, 5)))"
   ]
  },
  {
   "cell_type": "markdown",
   "metadata": {},
   "source": [
    "The model correctly classifies the unseen document with 'x'% probability to the X category."
   ]
  }
 ],
 "metadata": {
  "kernelspec": {
   "display_name": "Python 3",
   "language": "python",
   "name": "python3"
  },
  "language_info": {
   "codemirror_mode": {
    "name": "ipython",
    "version": 3
   },
   "file_extension": ".py",
   "mimetype": "text/x-python",
   "name": "python",
   "nbconvert_exporter": "python",
   "pygments_lexer": "ipython3",
   "version": "3.7.1"
  }
 },
 "nbformat": 4,
 "nbformat_minor": 2
}
