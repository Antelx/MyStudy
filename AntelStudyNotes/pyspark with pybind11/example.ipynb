{
 "cells": [
  {
   "cell_type": "code",
   "execution_count": null,
   "metadata": {},
   "outputs": [],
   "source": [
    "import example"
   ]
  },
  {
   "cell_type": "code",
   "execution_count": null,
   "metadata": {},
   "outputs": [],
   "source": [
    "dir(example)"
   ]
  },
  {
   "cell_type": "code",
   "execution_count": null,
   "metadata": {},
   "outputs": [],
   "source": [
    "import numpy as np"
   ]
  },
  {
   "cell_type": "code",
   "execution_count": null,
   "metadata": {},
   "outputs": [],
   "source": [
    "example.add_arrays(np.array([1,2,3]), np.array([4,5,6]))"
   ]
  },
  {
   "cell_type": "raw",
   "metadata": {},
   "source": [
    "#include <pybind11/pybind11.h>\n",
    "#include <pybind11/numpy.h>\n",
    "\n",
    "namespace py = pybind11;\n",
    "\n",
    "py::array_t<double> add_arrays(py::array_t<double> input1, py::array_t<double> input2) {\n",
    "    py::buffer_info buf1 = input1.request(), buf2 = input2.request();\n",
    "\n",
    "    if (buf1.ndim != 1 || buf2.ndim != 1)\n",
    "        throw std::runtime_error(\"Number of dimensions must be one\");\n",
    "\n",
    "    if (buf1.size != buf2.size)\n",
    "        throw std::runtime_error(\"Input shapes must match\");\n",
    "\n",
    "    /* No pointer is passed, so NumPy will allocate the buffer */\n",
    "    auto result = py::array_t<double>(buf1.size);\n",
    "\n",
    "    py::buffer_info buf3 = result.request();\n",
    "\n",
    "    double *ptr1 = static_cast<double *>(buf1.ptr);\n",
    "    double *ptr2 = static_cast<double *>(buf2.ptr);\n",
    "    double *ptr3 = static_cast<double *>(buf3.ptr);\n",
    "\n",
    "    for (size_t idx = 0; idx < buf1.shape[0]; idx++)\n",
    "        ptr3[idx] = ptr1[idx] + ptr2[idx];\n",
    "\n",
    "    return result;\n",
    "}\n",
    "\n",
    "PYBIND11_MODULE(example, m) {\n",
    "    m.def(\"add_arrays\", &add_arrays, \"Add two NumPy arrays\");\n",
    "}\n"
   ]
  },
  {
   "cell_type": "raw",
   "metadata": {},
   "source": [
    " c++ -O3 -Wall -shared -std=c++11 -fPIC $(python3 -m pybind11 --includes) example.cpp -o example$(python3-config --extension-suffix)"
   ]
  },
  {
   "cell_type": "code",
   "execution_count": null,
   "metadata": {},
   "outputs": [],
   "source": []
  }
 ],
 "metadata": {
  "kernelspec": {
   "display_name": "Python 3",
   "language": "python",
   "name": "python3"
  },
  "language_info": {
   "codemirror_mode": {
    "name": "ipython",
    "version": 3
   },
   "file_extension": ".py",
   "mimetype": "text/x-python",
   "name": "python",
   "nbconvert_exporter": "python",
   "pygments_lexer": "ipython3",
   "version": "3.7.4"
  }
 },
 "nbformat": 4,
 "nbformat_minor": 2
}
