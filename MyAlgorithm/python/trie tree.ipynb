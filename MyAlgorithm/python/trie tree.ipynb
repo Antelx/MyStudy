{
 "cells": [
  {
   "cell_type": "code",
   "execution_count": 1,
   "metadata": {},
   "outputs": [],
   "source": [
    "class Node:\n",
    "    def __init__(self, char = \"\"):\n",
    "        self.char = char\n",
    "        self.val = 0\n",
    "        self.isWord = False\n",
    "        self.children = []\n",
    "class Trie:\n",
    "    def __init__(self):\n",
    "        self.root = Node()\n",
    "    def __forward(self, node, string, ifSet):\n",
    "        if len(string) > 0:\n",
    "            for child in node.children:\n",
    "                if child.char == string[0]:\n",
    "                    return self.__forward(child, string[1:], ifSet)\n",
    "            else:\n",
    "                if ifSet:\n",
    "                    node.children.append(Node(string[0]))\n",
    "                    return self.__forward(node.children[-1], string[1:], ifSet)\n",
    "                else:\n",
    "                    return None\n",
    "        else:\n",
    "            return node\n",
    "    def __getNode(self, string, ifSet = False):\n",
    "        return self.__forward(self.root, string, ifSet)\n",
    "    def setValue(self, string, value):\n",
    "        node = self.__getNode(string, ifSet = True)\n",
    "        node.val = value\n",
    "        node.isWord = True\n",
    "    def getValue(self, string):\n",
    "        node = self.__getNode(string)\n",
    "        if node == None:\n",
    "            return None\n",
    "        if node.isWord == True:\n",
    "            return node.val\n",
    "        else:\n",
    "            return None\n",
    "    def delete(self, string):\n",
    "        pass \n",
    "t = Trie()"
   ]
  },
  {
   "cell_type": "code",
   "execution_count": 2,
   "metadata": {},
   "outputs": [],
   "source": [
    "t.setValue(\"google\", 23)"
   ]
  },
  {
   "cell_type": "code",
   "execution_count": 3,
   "metadata": {},
   "outputs": [
    {
     "data": {
      "text/plain": [
       "23"
      ]
     },
     "execution_count": 3,
     "metadata": {},
     "output_type": "execute_result"
    }
   ],
   "source": [
    "t.getValue(\"google\")"
   ]
  },
  {
   "cell_type": "code",
   "execution_count": 4,
   "metadata": {},
   "outputs": [],
   "source": [
    "t.getValue(\"asf\")"
   ]
  },
  {
   "cell_type": "code",
   "execution_count": 5,
   "metadata": {},
   "outputs": [],
   "source": [
    "t.getValue(\"\")"
   ]
  },
  {
   "cell_type": "code",
   "execution_count": 6,
   "metadata": {},
   "outputs": [],
   "source": [
    "x = ([1],[2])"
   ]
  },
  {
   "cell_type": "code",
   "execution_count": null,
   "metadata": {},
   "outputs": [],
   "source": []
  }
 ],
 "metadata": {
  "kernelspec": {
   "display_name": "Python 3",
   "language": "python",
   "name": "python3"
  },
  "language_info": {
   "codemirror_mode": {
    "name": "ipython",
    "version": 3
   },
   "file_extension": ".py",
   "mimetype": "text/x-python",
   "name": "python",
   "nbconvert_exporter": "python",
   "pygments_lexer": "ipython3",
   "version": "3.7.1"
  }
 },
 "nbformat": 4,
 "nbformat_minor": 2
}
