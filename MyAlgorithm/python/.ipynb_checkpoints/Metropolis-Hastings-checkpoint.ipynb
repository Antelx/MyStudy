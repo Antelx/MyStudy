{
 "cells": [
  {
   "cell_type": "code",
   "execution_count": 1,
   "metadata": {},
   "outputs": [
    {
     "data": {
      "text/plain": [
       "'\\ninput: \\n    p(x)  target distribution dense function\\n    f(x)  function\\noutput:\\n    xm+1 ... xn  sample from p(x)\\n    fmn  mean of function sample\\n'"
      ]
     },
     "execution_count": 1,
     "metadata": {},
     "output_type": "execute_result"
    }
   ],
   "source": [
    "\"\"\"\n",
    "input: \n",
    "    p(x)  target distribution dense function\n",
    "    f(x)  function\n",
    "output:\n",
    "    xm+1 ... xn  sample from p(x)\n",
    "    fmn  mean of function sample\n",
    "\"\"\""
   ]
  },
  {
   "cell_type": "code",
   "execution_count": 2,
   "metadata": {},
   "outputs": [],
   "source": [
    "import numpy as np\n",
    "import random\n",
    "import matplotlib.pyplot as plt\n",
    "%matplotlib inline"
   ]
  },
  {
   "cell_type": "code",
   "execution_count": 3,
   "metadata": {},
   "outputs": [],
   "source": [
    "##  Normal distribution\n",
    "##  x ~ U(-1, 1)\n",
    "def p(x):\n",
    "    if x > -1 and x < 1:\n",
    "        return 0.5\n",
    "    else:\n",
    "        return 0"
   ]
  },
  {
   "cell_type": "code",
   "execution_count": 4,
   "metadata": {},
   "outputs": [],
   "source": [
    "##  advised distribution\n",
    "mu = 0\n",
    "sigma = 1\n",
    "\n",
    "def q(x, xp, mu= mu, sigma= sigma):\n",
    "    return 1 / (np.sqrt(2 * np.pi) * sigma) * np.exp(-(xp - mu) ** 2 / (2 * sigma ** 2))"
   ]
  },
  {
   "cell_type": "code",
   "execution_count": 5,
   "metadata": {},
   "outputs": [
    {
     "data": {
      "text/plain": [
       "'\\n独立抽样实现简单，但可能收敛速度慢，通常选择接近目标分布p（x）的分布作为建议分布q(x)\\n'"
      ]
     },
     "execution_count": 5,
     "metadata": {},
     "output_type": "execute_result"
    }
   ],
   "source": [
    "\"\"\"\n",
    "独立抽样实现简单，但可能收敛速度慢，通常选择接近目标分布p（x）的分布作为建议分布q(x)\n",
    "\"\"\""
   ]
  },
  {
   "cell_type": "code",
   "execution_count": 6,
   "metadata": {},
   "outputs": [],
   "source": [
    "def alpha(x , xp):\n",
    "    return min(1, (p(xp) * q(xp,x)) / (p(x) * q(x, xp)))\n",
    "\n",
    "def metropolisHastings(m = 35000, n = 45000):\n",
    "    assert m < n\n",
    "    x = [0 for _ in range(n + 1)]\n",
    "    x[0] = random.gauss(mu, sigma)\n",
    "    \n",
    "    for i in range(1, n + 1):\n",
    "        xp = random.gauss(mu, sigma)\n",
    "        a = alpha(x[i-1], xp)\n",
    "        u = random.uniform(0, 1)\n",
    "        if u <= a:\n",
    "            x[i]= xp\n",
    "        else:\n",
    "            x[i] = x[i-1]\n",
    "    return x[m:n]"
   ]
  },
  {
   "cell_type": "code",
   "execution_count": 7,
   "metadata": {},
   "outputs": [
    {
     "name": "stdout",
     "output_type": "stream",
     "text": [
      "-0.008709192608393847\n"
     ]
    }
   ],
   "source": [
    "xmn = metropolisHastings()\n",
    "fmn = sum(xmn) / len(xmn)\n",
    "print(fmn)"
   ]
  },
  {
   "cell_type": "code",
   "execution_count": 8,
   "metadata": {},
   "outputs": [
    {
     "data": {
      "text/plain": [
       "(array([518., 551., 501., 485., 501., 496., 478., 531., 530., 457., 477.,\n",
       "        519., 489., 517., 475., 495., 537., 494., 475., 474.]),\n",
       " array([-9.99710945e-01, -8.99747034e-01, -7.99783123e-01, -6.99819212e-01,\n",
       "        -5.99855301e-01, -4.99891391e-01, -3.99927480e-01, -2.99963569e-01,\n",
       "        -1.99999658e-01, -1.00035747e-01, -7.18361415e-05,  9.98920747e-02,\n",
       "         1.99855986e-01,  2.99819897e-01,  3.99783807e-01,  4.99747718e-01,\n",
       "         5.99711629e-01,  6.99675540e-01,  7.99639451e-01,  8.99603362e-01,\n",
       "         9.99567273e-01]),\n",
       " <a list of 20 Patch objects>)"
      ]
     },
     "execution_count": 8,
     "metadata": {},
     "output_type": "execute_result"
    },
    {
     "data": {
      "image/png": "[encoded data removed]",
      "text/plain": [
       "<Figure size 432x288 with 1 Axes>"
      ]
     },
     "metadata": {
      "needs_background": "light"
     },
     "output_type": "display_data"
    }
   ],
   "source": [
    "plt.hist(sorted(xmn), bins = 20)"
   ]
  }
 ],
 "metadata": {
  "kernelspec": {
   "display_name": "Python 3",
   "language": "python",
   "name": "python3"
  },
  "language_info": {
   "codemirror_mode": {
    "name": "ipython",
    "version": 3
   },
   "file_extension": ".py",
   "mimetype": "text/x-python",
   "name": "python",
   "nbconvert_exporter": "python",
   "pygments_lexer": "ipython3",
   "version": "3.7.1"
  }
 },
 "nbformat": 4,
 "nbformat_minor": 2
}
