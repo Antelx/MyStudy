{
 "cells": [
  {
   "cell_type": "code",
   "execution_count": 1,
   "metadata": {},
   "outputs": [],
   "source": [
    "import rediscluster\n",
    "import json\n",
    "\n",
    "import torch\n",
    "import torch.nn as nn\n",
    "import tensorflow as tf\n",
    "import numpy as np\n",
    "# from .at import *\n",
    "from at import *\n",
    "from sklearn.manifold import spectral_embedding\n",
    "from sklearn.preprocessing import normalize\n",
    "\n",
    "\n",
    "from sklearn.cluster import KMeans\n",
    "\n",
    "import logging\n",
    "import time\n",
    "import json\n",
    "import sys\n",
    "from collections import defaultdict\n",
    "import pickle\n",
    "import pandas as pd\n",
    "import numpy as np\n",
    "import networkx as nx\n",
    "import matplotlib.pyplot as plt\n",
    "# from mcl import run_mcl, get_clusters\n",
    "import redis\n",
    "\n",
    "color = {0:\"red\",1:\"darkgrey\", 2:\"blue\",3:\"green\",4:\"y\",5:\"fuchsia\",6:\"lime\",7:\"orange\",8:\"pink\",9:\"cyan\",10:\"y\",11:\"black\",12:\"black\",13:\"black\",14:\"red\", 15:\"blue\",16:\"red\", 17:\"blue\",18:\"cyan\",19:\"darkgrey\",20:\"fuchsia\",21:\"lime\",22:\"orange\",23:\"pink\",24:\"green\"}"
   ]
  },
  {
   "cell_type": "code",
   "execution_count": 2,
   "metadata": {},
   "outputs": [],
   "source": [
    "r = redis_connect()\n",
    "index_table = r.hgetall(\"index_table\")\n",
    "decoder = json.JSONDecoder()\n",
    "index_to_ip = dict([(decoder.decode(index_table[i].decode())['index'], i.decode()) for i in index_table])\n",
    "ip_to_index = dict([(i.decode(), decoder.decode(index_table[i].decode())['index']) for i in index_table])\n",
    "\n",
    "data = get_data_from_redis(ip_to_index)\n",
    "\n",
    "\n",
    "ipm_dok = get_ipm_dok(data)\n",
    "\n",
    "layers = []\n",
    "d = filter(data, ipm_dok)\n",
    "ips, ipd, ips_index = get_ips(d, ip_to_index)\n",
    "ipm, ipm2 = get_ipm(ipm_dok, ips, ipd, ip_to_index, ips_index)\n",
    "ipm = ipm2.toarray()"
   ]
  },
  {
   "cell_type": "code",
   "execution_count": 3,
   "metadata": {},
   "outputs": [],
   "source": [
    "ips0 = [i for i in ips] \n",
    "ips1 = []\n",
    "sg = []\n",
    "while len(ips0) > 0:\n",
    "    sg.append([ips0[0]])\n",
    "#     tmp = [i for i in d[ips0[0]] if i not in ips1 and i != \"-1\"]\n",
    "    tmp = [i for i in d[ips0[0]] if i not in ips1]\n",
    "    ips1.append(ips0.pop(0))\n",
    "    while len(tmp) > 0:\n",
    "        p = tmp.pop()\n",
    "        if p not in ips1:\n",
    "            sg[-1].append(p)\n",
    "            ips1.append(p)\n",
    "            ips0.remove(p)\n",
    "#             tmp += [i for i in d[p] if i not in ips1 and i != '-1']\n",
    "            tmp += [i for i in d[p] if i not in ips1]\n",
    "    "
   ]
  },
  {
   "cell_type": "code",
   "execution_count": 4,
   "metadata": {},
   "outputs": [],
   "source": [
    "class Attention_layer(tf.keras.layers.Layer):\n",
    "    def __init__(self, input_size, hidden_size, batch_size, M, A):\n",
    "        super().__init__()\n",
    "        w_init = tf.random_normal_initializer()\n",
    "        self.al = tf.Variable(initial_value=w_init(shape=(1, hidden_size), dtype='float32'), trainable=True)\n",
    "        self.ar = tf.Variable(initial_value=w_init(shape=(1, hidden_size), dtype='float32'), trainable=True)\n",
    "        self.W = tf.Variable(initial_value=w_init(shape=(hidden_size, input_size), dtype='float32'), trainable=True)\n",
    "        self.relu = tf.keras.layers.LeakyReLU(alpha=0.2)\n",
    "        \n",
    "        self.M = M\n",
    "        self.A = A\n",
    "    \n",
    "    def call(self, x):\n",
    "        S0 = tf.matmul(tf.linalg.diag(tf.matmul(self.al, tf.matmul(self.W, x))[0]), self.M) \n",
    "        S1 = tf.matmul(self.M, tf.linalg.diag(tf.matmul(self.ar, tf.matmul(self.W, x))[0]))\n",
    "        S = S0 + S1\n",
    "        numerator = tf.exp(self.relu(S))\n",
    "        denominator = tf.reshape(tf.reduce_sum(numerator * self.A, axis=1), [-1, 1])\n",
    "        alpha = numerator / denominator\n",
    "        Z = tf.tanh(tf.matmul(tf.matmul(self.W, x), alpha * self.A))\n",
    "        return Z\n",
    "\n",
    "        \n",
    "\n",
    "class Encoder(tf.keras.layers.Layer):\n",
    "    def __init__(self, input_size1, hidden_size1, input_size2, hidden_size2, batch_size, M, A):\n",
    "        super().__init__()\n",
    "        w_init = tf.random_normal_initializer()\n",
    "        self.layer1 = Attention_layer(input_size1, hidden_size1, batch_size, M, A)\n",
    "        self.layer2 = Attention_layer(input_size2, hidden_size2, batch_size, M, A)\n",
    "        \n",
    "    def call(self, x):\n",
    "        Z = self.layer1(x)\n",
    "        Z = self.layer2(Z)\n",
    "        return Z"
   ]
  },
  {
   "cell_type": "code",
   "execution_count": 5,
   "metadata": {},
   "outputs": [
    {
     "name": "stdout",
     "output_type": "stream",
     "text": [
      "(256, 385)\n"
     ]
    }
   ],
   "source": [
    "emb_size = 256\n",
    "n = len(ips)\n",
    "X = spectral_embedding(ipm, n_components=emb_size).astype(np.float32).T\n",
    "A = ipm.astype(np.float32)\n",
    "t = 2\n",
    "tran_prob = normalize(A, norm=\"l1\", axis=0)\n",
    "M = sum([np.linalg.matrix_power(tran_prob, i) for i in range(1, t+1)]) / t\n",
    "print(X.shape)\n",
    "\n",
    "input_size1  = emb_size\n",
    "hidden_size1 = 256\n",
    "input_size2 = hidden_size1\n",
    "hidden_size2 = 128\n",
    "batch_size = len(ips)\n",
    "encoder = Encoder(input_size1, hidden_size1, input_size2, hidden_size2, batch_size, M, A)"
   ]
  },
  {
   "cell_type": "code",
   "execution_count": 6,
   "metadata": {},
   "outputs": [],
   "source": [
    "loss_object = tf.keras.losses.MeanSquaredError()\n",
    "optimizer = tf.keras.optimizers.Adam()\n",
    "\n",
    "# @tf.function\n",
    "def train_step(X, labels):\n",
    "    with tf.GradientTape() as tape:\n",
    "        y = encoder(X)\n",
    "        predictions = tf.sigmoid(tf.matmul(tf.transpose(y), y))\n",
    "        loss = loss_object(labels, predictions)\n",
    "    gradients = tape.gradient(loss, encoder.trainable_variables)\n",
    "    optimizer.apply_gradients(zip(gradients, encoder.trainable_variables))"
   ]
  },
  {
   "cell_type": "code",
   "execution_count": 7,
   "metadata": {},
   "outputs": [
    {
     "name": "stdout",
     "output_type": "stream",
     "text": [
      "0 tf.Tensor(0.31986022, shape=(), dtype=float32) [0.00037518562749028206, -0.0049565318040549755, -0.0001094005856430158, -0.010115261189639568, 0.005379177164286375]\n",
      "1 tf.Tensor(0.31167737, shape=(), dtype=float32) [0.006601202301681042, -0.02327577769756317, -0.01421824935823679, -0.03331073001027107, 0.020579488947987556]\n",
      "2 tf.Tensor(0.2923523, shape=(), dtype=float32) [-0.027563150972127914, -0.1847611367702484, -0.17511819303035736, -0.2451052963733673, 0.24952228367328644]\n",
      "3 tf.Tensor(0.27228597, shape=(), dtype=float32) [-0.05213218182325363, -0.48679032921791077, -0.48755523562431335, -0.45878371596336365, 0.49377232789993286]\n",
      "4 tf.Tensor(0.25290602, shape=(), dtype=float32) [-0.0751180350780487, -0.5944426655769348, -0.5838102102279663, -0.5281081795692444, 0.5575318336486816]\n"
     ]
    },
    {
     "data": {
      "text/plain": [
       "(<tf.Tensor: id=108992, shape=(385, 385), dtype=float32, numpy=\n",
       " array([[1.0000000e+00, 2.6200607e-01, 2.7005953e-01, ..., 2.7428722e-01,\n",
       "         4.3889880e-02, 1.0000000e+00],\n",
       "        [2.6200607e-01, 6.3314843e-01, 5.4787838e-01, ..., 5.3289461e-01,\n",
       "         2.8386933e-01, 3.9555103e-01],\n",
       "        [2.7005953e-01, 5.4787838e-01, 5.4678798e-01, ..., 5.4252887e-01,\n",
       "         2.4335161e-01, 3.1330872e-01],\n",
       "        ...,\n",
       "        [2.7428722e-01, 5.3289461e-01, 5.4252887e-01, ..., 5.4760540e-01,\n",
       "         2.1306634e-01, 3.1097212e-01],\n",
       "        [4.3889880e-02, 2.8386933e-01, 2.4335161e-01, ..., 2.1306634e-01,\n",
       "         1.0000000e+00, 3.4067035e-04],\n",
       "        [1.0000000e+00, 3.9555103e-01, 3.1330872e-01, ..., 3.1097212e-01,\n",
       "         3.4067035e-04, 1.0000000e+00]], dtype=float32)>,\n",
       " <tf.Tensor: id=135751, shape=(), dtype=float32, numpy=0.077123344>,\n",
       " 0.0)"
      ]
     },
     "execution_count": 7,
     "metadata": {},
     "output_type": "execute_result"
    }
   ],
   "source": [
    "for i in range(500):\n",
    "    train_step(X, A*3 + np.eye(len(ips)))\n",
    "    \n",
    "    if i % 100 == 0:\n",
    "        y = encoder(X)\n",
    "        predictions = tf.sigmoid(tf.matmul(tf.transpose(y), y))\n",
    "        loss = loss_object(A*3, predictions)\n",
    "        print(i // 100, loss, y[:5, 0].numpy().tolist())\n",
    "\n",
    "(predictions, predictions[0,232], A[0,232])"
   ]
  },
  {
   "cell_type": "code",
   "execution_count": 8,
   "metadata": {},
   "outputs": [],
   "source": [
    "nclu = 4\n",
    "kmeans = KMeans(n_clusters=nclu)\n",
    "cl = kmeans.fit_predict(y.numpy().T)\n",
    "cls2 = dict(zip(ips, cl))\n",
    "\n",
    "mu = tf.Variable(initial_value=kmeans.cluster_centers_.T, trainable=True)"
   ]
  },
  {
   "cell_type": "code",
   "execution_count": 9,
   "metadata": {},
   "outputs": [],
   "source": [
    "z = tf.transpose(encoder(X))\n",
    "sqsumz = tf.tile(tf.reshape(tf.reduce_sum(z**2, axis=1), (-1,1)), [1,nclu])\n",
    "sqsummu = tf.tile(tf.transpose(tf.reshape(tf.reduce_sum(mu ** 2, axis=0),(-1, 1))), [batch_size,1])\n",
    "zmu = tf.matmul(z, mu)\n",
    "sqdist = sqsumz + sqsummu - 2 * zmu\n",
    "\n",
    "q = (1 / (1 + sqdist )) / tf.tile(tf.reshape(tf.reduce_sum(1 / (1 + sqdist ), axis=1), [-1, 1]), [1, nclu])\n",
    "\n",
    "pn = q**2 / tf.tile(tf.reshape(tf.reduce_sum(q, axis = 0), [1,-1]), [batch_size,1])\n",
    "pd = tf.tile(tf.reshape(tf.reduce_sum(q**2 / tf.tile(tf.reshape(tf.reduce_sum(q, axis = 0), [1,-1]), [batch_size,1]), axis=1), [-1, 1]), [1, nclu])\n",
    "p = pn / pd"
   ]
  },
  {
   "cell_type": "code",
   "execution_count": 10,
   "metadata": {},
   "outputs": [],
   "source": [
    "loss_object_r = tf.keras.losses.KLDivergence()\n",
    "optimizer_r = tf.keras.optimizers.Adam()\n"
   ]
  },
  {
   "cell_type": "code",
   "execution_count": 11,
   "metadata": {},
   "outputs": [
    {
     "name": "stdout",
     "output_type": "stream",
     "text": [
      "tf.Tensor(0.050061155, shape=(), dtype=float32)\n",
      "tf.Tensor(0.03908581, shape=(), dtype=float32)\n",
      "tf.Tensor(0.038844753, shape=(), dtype=float32)\n",
      "tf.Tensor(0.03139895, shape=(), dtype=float32)\n",
      "tf.Tensor(0.028280873, shape=(), dtype=float32)\n",
      "tf.Tensor(0.02606826, shape=(), dtype=float32)\n",
      "tf.Tensor(0.024878576, shape=(), dtype=float32)\n",
      "tf.Tensor(0.024073832, shape=(), dtype=float32)\n"
     ]
    }
   ],
   "source": [
    "for i in range(400):\n",
    "    with tf.GradientTape() as tape:\n",
    "        z = tf.transpose(encoder(X))\n",
    "        \n",
    "        sqsumz = tf.tile(tf.reshape(tf.reduce_sum(z**2, axis=1), (-1,1)), [1,nclu])\n",
    "        sqsummu = tf.tile(tf.transpose(tf.reshape(tf.reduce_sum(mu ** 2, axis=0),(-1, 1))), [batch_size,1])\n",
    "        zmu = tf.matmul(z, mu)\n",
    "        sqdist = sqsumz + sqsummu - 2 * zmu\n",
    "        q = (1 / (1 + sqdist )) / tf.tile(tf.reshape(tf.reduce_sum(1 / (1 + sqdist ), axis=1), [-1, 1]), [1, nclu])\n",
    "        \n",
    "        if i % 5 == 0:\n",
    "            pn = q**2 / tf.tile(tf.reshape(tf.reduce_sum(q, axis = 0), [1,-1]), [batch_size,1])\n",
    "            pd = tf.tile(tf.reshape(tf.reduce_sum(q**2 / tf.tile(tf.reshape(tf.reduce_sum(q, axis = 0), [1,-1]), [batch_size,1]), axis=1), [-1, 1]), [1, nclu])\n",
    "            p = pn / pd\n",
    "        \n",
    "        \n",
    "        loss = loss_object_r(p, q)\n",
    "    gradients = tape.gradient(loss, encoder.trainable_variables + [mu])\n",
    "    optimizer_r.apply_gradients(zip(gradients, encoder.trainable_variables + [mu]))\n",
    "\n",
    "\n",
    "    if i % 50 == 0:\n",
    "        print(loss)\n",
    "    "
   ]
  },
  {
   "cell_type": "code",
   "execution_count": null,
   "metadata": {},
   "outputs": [],
   "source": []
  },
  {
   "cell_type": "code",
   "execution_count": 12,
   "metadata": {},
   "outputs": [],
   "source": [
    "z = tf.transpose(encoder(X))\n",
    "kmeans = KMeans(n_clusters=nclu)\n",
    "cl = kmeans.fit_predict(z.numpy())\n",
    "cls2 = dict(zip(ips, cl))\n",
    "\n",
    "# mu = tf.Variable(initial_value=kmeans.cluster_centers_.T, trainable=True)"
   ]
  },
  {
   "cell_type": "code",
   "execution_count": 13,
   "metadata": {},
   "outputs": [],
   "source": [
    "# import markov_clustering as mc\n",
    "# result = mc.run_mcl(ipm2.toarray().copy(), inflation=1.35,\n",
    "#                     loop_value=ipm2.sum() / len(ipm)/ len(ipm)*20, \n",
    "#                     pruning_threshold= 0.00005 / ipm.shape[0],\n",
    "#                     pruning_frequency=5,\n",
    "#                     iterations=152,\n",
    "#                     convergence_check_frequency=15\n",
    "#                    )           # run MCL with default parameters\n",
    "# clusters = mc.get_clusters(result)    # get clusters\n",
    "# partitions = [[ips[j] for j in items] for items in clusters]\n",
    "# cls2 = {}\n",
    "# for i in range(len(partitions)):\n",
    "#     for j in partitions[i]:\n",
    "#         cls2[j] = i\n",
    "        "
   ]
  },
  {
   "cell_type": "code",
   "execution_count": 14,
   "metadata": {},
   "outputs": [
    {
     "name": "stderr",
     "output_type": "stream",
     "text": [
      "/home/root123/anaconda3/lib/python3.7/site-packages/networkx/drawing/nx_pylab.py:579: MatplotlibDeprecationWarning: \n",
      "The iterable function was deprecated in Matplotlib 3.1 and will be removed in 3.3. Use np.iterable instead.\n",
      "  if not cb.iterable(width):\n"
     ]
    },
    {
     "data": {
      "image/png": "[encoded data removed]",
      "text/plain": [
       "<Figure size 432x288 with 1 Axes>"
      ]
     },
     "metadata": {},
     "output_type": "display_data"
    }
   ],
   "source": [
    "\n",
    "new_ips = ips\n",
    "\n",
    "\n",
    "new_D = d\n",
    "\n",
    "\n",
    "dd = dict([(new_ips[i],\"[2]\"+new_ips[i]) for i in range(len(new_ips)) ] )\n",
    "# dd = dict([(new_ips[i],\"[\"+ str(int(rs[i]))+\"]\"+new_ips[i][:2]+str(i)) for i in range(len(new_ips)) if len(new_D[new_ips[i]])> 0])\n",
    "dg = {}\n",
    "for sip in new_ips:\n",
    "    if len(new_D[sip]) > 1:\n",
    "        dg[dd[sip]] = [dd[ip] for ip in new_D[sip]]\n",
    "    \n",
    "    \n",
    "G = nx.Graph()\n",
    "for sip in dg:\n",
    "    for dip in dg[sip]:\n",
    "        try:\n",
    "\n",
    "            G.add_edge(sip[:3] + sip[3:], dip[:3] + dip[3:] )\n",
    "        except:\n",
    "            print(1)\n",
    "        \n",
    "def node2color(ip):\n",
    "    try:\n",
    "        return color[cls2[ip[3:]]]#int(cls2[ip[3:]])\n",
    "#         return int(cls2[ip[3:]])\n",
    "    except:\n",
    "        print(ip)\n",
    "        return \"black\"\n",
    "#         return 1\n",
    "\n",
    "node_color = [node2color(i) for i in G.nodes]\n",
    "\n",
    "nx.draw(G,node_size= 2.2175,\n",
    "        alpha= 0.563,\n",
    "        with_labels= True,\n",
    "        font_size=2.1, \n",
    "        width = 0.1,\n",
    "        node_color =node_color\n",
    "        )\n",
    "plt.savefig(\"5.jpg\", dpi= 2000)\n",
    "\n",
    "plt.show()\n"
   ]
  },
  {
   "cell_type": "code",
   "execution_count": null,
   "metadata": {},
   "outputs": [],
   "source": []
  },
  {
   "cell_type": "code",
   "execution_count": null,
   "metadata": {},
   "outputs": [],
   "source": []
  },
  {
   "cell_type": "code",
   "execution_count": null,
   "metadata": {},
   "outputs": [],
   "source": []
  }
 ],
 "metadata": {
  "kernelspec": {
   "display_name": "Python 3",
   "language": "python",
   "name": "python3"
  },
  "language_info": {
   "codemirror_mode": {
    "name": "ipython",
    "version": 3
   },
   "file_extension": ".py",
   "mimetype": "text/x-python",
   "name": "python",
   "nbconvert_exporter": "python",
   "pygments_lexer": "ipython3",
   "version": "3.7.3"
  }
 },
 "nbformat": 4,
 "nbformat_minor": 4
}
